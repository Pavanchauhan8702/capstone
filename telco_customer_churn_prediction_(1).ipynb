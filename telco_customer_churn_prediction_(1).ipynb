{
  "metadata": {
    "kernelspec": {
      "name": "python3",
      "display_name": "Python 3",
      "language": "python"
    },
    "language_info": {
      "name": "python",
      "version": "3.7.12",
      "mimetype": "text/x-python",
      "codemirror_mode": {
        "name": "ipython",
        "version": 3
      },
      "pygments_lexer": "ipython3",
      "nbconvert_exporter": "python",
      "file_extension": ".py"
    },
    "colab": {
      "provenance": []
    }
  },
  "nbformat_minor": 5,
  "nbformat": 4,
  "cells": [
    {
      "cell_type": "code",
      "source": [
        "import numpy as np\n",
        "import pandas as pd\n",
        "import matplotlib.pyplot as plt\n",
        "from sklearn.linear_model import LassoCV\n",
        "from sklearn.feature_selection import SelectKBest, chi2"
      ],
      "metadata": {
        "execution": {
          "iopub.status.busy": "2023-03-05T14:46:07.980474Z",
          "iopub.execute_input": "2023-03-05T14:46:07.980754Z",
          "iopub.status.idle": "2023-03-05T14:46:09.182166Z",
          "shell.execute_reply.started": "2023-03-05T14:46:07.980726Z",
          "shell.execute_reply": "2023-03-05T14:46:09.180926Z"
        },
        "trusted": true,
        "id": "l454yhv9Q2CI"
      },
      "execution_count": 8,
      "outputs": [],
      "id": "l454yhv9Q2CI"
    },
    {
      "cell_type": "markdown",
      "source": [
        "## Importing Dataset"
      ],
      "metadata": {
        "id": "oYNGoqrLQ2CL"
      },
      "id": "oYNGoqrLQ2CL"
    },
    {
      "cell_type": "code",
      "source": [
        "df = pd.read_excel('/content/train.xlsx')\n",
        "df.head()"
      ],
      "metadata": {
        "scrolled": true,
        "execution": {
          "iopub.status.busy": "2023-03-05T14:46:09.188697Z",
          "iopub.execute_input": "2023-03-05T14:46:09.191339Z",
          "iopub.status.idle": "2023-03-05T14:46:09.300520Z",
          "shell.execute_reply.started": "2023-03-05T14:46:09.191295Z",
          "shell.execute_reply": "2023-03-05T14:46:09.299461Z"
        },
        "trusted": true,
        "colab": {
          "base_uri": "https://localhost:8080/",
          "height": 386
        },
        "id": "NcQrJDMsQ2CM",
        "outputId": "b6394d8c-8bc2-4fca-e007-bcbc02271ba4"
      },
      "execution_count": 9,
      "outputs": [
        {
          "output_type": "execute_result",
          "data": {
            "text/plain": [
              "   customerID  gender  SeniorCitizen Partner Dependents  tenure PhoneService  \\\n",
              "0  7590-VHVEG  Female              0     Yes         No       1           No   \n",
              "1  5575-GNVDE    Male              0      No         No      34          Yes   \n",
              "2  3668-QPYBK    Male              0      No         No       2          Yes   \n",
              "3  7795-CFOCW    Male              0      No         No      45           No   \n",
              "4  9237-HQITU  Female              0      No         No       2          Yes   \n",
              "\n",
              "      MultipleLines InternetService OnlineSecurity  ... DeviceProtection  \\\n",
              "0  No phone service             DSL             No  ...               No   \n",
              "1                No             DSL            Yes  ...              Yes   \n",
              "2                No             DSL            Yes  ...               No   \n",
              "3  No phone service             DSL            Yes  ...              Yes   \n",
              "4                No     Fiber optic             No  ...               No   \n",
              "\n",
              "  TechSupport StreamingTV StreamingMovies        Contract PaperlessBilling  \\\n",
              "0          No          No              No  Month-to-month              Yes   \n",
              "1          No          No              No        One year               No   \n",
              "2          No          No              No  Month-to-month              Yes   \n",
              "3         Yes          No              No        One year               No   \n",
              "4          No          No              No  Month-to-month              Yes   \n",
              "\n",
              "               PaymentMethod MonthlyCharges  TotalCharges Churn  \n",
              "0           Electronic check          29.85         29.85    No  \n",
              "1               Mailed check          56.95        1889.5    No  \n",
              "2               Mailed check          53.85        108.15   Yes  \n",
              "3  Bank transfer (automatic)          42.30       1840.75    No  \n",
              "4           Electronic check          70.70        151.65   Yes  \n",
              "\n",
              "[5 rows x 21 columns]"
            ],
            "text/html": [
              "\n",
              "  <div id=\"df-4aaadf57-207f-4494-a377-77e240ea0eab\">\n",
              "    <div class=\"colab-df-container\">\n",
              "      <div>\n",
              "<style scoped>\n",
              "    .dataframe tbody tr th:only-of-type {\n",
              "        vertical-align: middle;\n",
              "    }\n",
              "\n",
              "    .dataframe tbody tr th {\n",
              "        vertical-align: top;\n",
              "    }\n",
              "\n",
              "    .dataframe thead th {\n",
              "        text-align: right;\n",
              "    }\n",
              "</style>\n",
              "<table border=\"1\" class=\"dataframe\">\n",
              "  <thead>\n",
              "    <tr style=\"text-align: right;\">\n",
              "      <th></th>\n",
              "      <th>customerID</th>\n",
              "      <th>gender</th>\n",
              "      <th>SeniorCitizen</th>\n",
              "      <th>Partner</th>\n",
              "      <th>Dependents</th>\n",
              "      <th>tenure</th>\n",
              "      <th>PhoneService</th>\n",
              "      <th>MultipleLines</th>\n",
              "      <th>InternetService</th>\n",
              "      <th>OnlineSecurity</th>\n",
              "      <th>...</th>\n",
              "      <th>DeviceProtection</th>\n",
              "      <th>TechSupport</th>\n",
              "      <th>StreamingTV</th>\n",
              "      <th>StreamingMovies</th>\n",
              "      <th>Contract</th>\n",
              "      <th>PaperlessBilling</th>\n",
              "      <th>PaymentMethod</th>\n",
              "      <th>MonthlyCharges</th>\n",
              "      <th>TotalCharges</th>\n",
              "      <th>Churn</th>\n",
              "    </tr>\n",
              "  </thead>\n",
              "  <tbody>\n",
              "    <tr>\n",
              "      <th>0</th>\n",
              "      <td>7590-VHVEG</td>\n",
              "      <td>Female</td>\n",
              "      <td>0</td>\n",
              "      <td>Yes</td>\n",
              "      <td>No</td>\n",
              "      <td>1</td>\n",
              "      <td>No</td>\n",
              "      <td>No phone service</td>\n",
              "      <td>DSL</td>\n",
              "      <td>No</td>\n",
              "      <td>...</td>\n",
              "      <td>No</td>\n",
              "      <td>No</td>\n",
              "      <td>No</td>\n",
              "      <td>No</td>\n",
              "      <td>Month-to-month</td>\n",
              "      <td>Yes</td>\n",
              "      <td>Electronic check</td>\n",
              "      <td>29.85</td>\n",
              "      <td>29.85</td>\n",
              "      <td>No</td>\n",
              "    </tr>\n",
              "    <tr>\n",
              "      <th>1</th>\n",
              "      <td>5575-GNVDE</td>\n",
              "      <td>Male</td>\n",
              "      <td>0</td>\n",
              "      <td>No</td>\n",
              "      <td>No</td>\n",
              "      <td>34</td>\n",
              "      <td>Yes</td>\n",
              "      <td>No</td>\n",
              "      <td>DSL</td>\n",
              "      <td>Yes</td>\n",
              "      <td>...</td>\n",
              "      <td>Yes</td>\n",
              "      <td>No</td>\n",
              "      <td>No</td>\n",
              "      <td>No</td>\n",
              "      <td>One year</td>\n",
              "      <td>No</td>\n",
              "      <td>Mailed check</td>\n",
              "      <td>56.95</td>\n",
              "      <td>1889.5</td>\n",
              "      <td>No</td>\n",
              "    </tr>\n",
              "    <tr>\n",
              "      <th>2</th>\n",
              "      <td>3668-QPYBK</td>\n",
              "      <td>Male</td>\n",
              "      <td>0</td>\n",
              "      <td>No</td>\n",
              "      <td>No</td>\n",
              "      <td>2</td>\n",
              "      <td>Yes</td>\n",
              "      <td>No</td>\n",
              "      <td>DSL</td>\n",
              "      <td>Yes</td>\n",
              "      <td>...</td>\n",
              "      <td>No</td>\n",
              "      <td>No</td>\n",
              "      <td>No</td>\n",
              "      <td>No</td>\n",
              "      <td>Month-to-month</td>\n",
              "      <td>Yes</td>\n",
              "      <td>Mailed check</td>\n",
              "      <td>53.85</td>\n",
              "      <td>108.15</td>\n",
              "      <td>Yes</td>\n",
              "    </tr>\n",
              "    <tr>\n",
              "      <th>3</th>\n",
              "      <td>7795-CFOCW</td>\n",
              "      <td>Male</td>\n",
              "      <td>0</td>\n",
              "      <td>No</td>\n",
              "      <td>No</td>\n",
              "      <td>45</td>\n",
              "      <td>No</td>\n",
              "      <td>No phone service</td>\n",
              "      <td>DSL</td>\n",
              "      <td>Yes</td>\n",
              "      <td>...</td>\n",
              "      <td>Yes</td>\n",
              "      <td>Yes</td>\n",
              "      <td>No</td>\n",
              "      <td>No</td>\n",
              "      <td>One year</td>\n",
              "      <td>No</td>\n",
              "      <td>Bank transfer (automatic)</td>\n",
              "      <td>42.30</td>\n",
              "      <td>1840.75</td>\n",
              "      <td>No</td>\n",
              "    </tr>\n",
              "    <tr>\n",
              "      <th>4</th>\n",
              "      <td>9237-HQITU</td>\n",
              "      <td>Female</td>\n",
              "      <td>0</td>\n",
              "      <td>No</td>\n",
              "      <td>No</td>\n",
              "      <td>2</td>\n",
              "      <td>Yes</td>\n",
              "      <td>No</td>\n",
              "      <td>Fiber optic</td>\n",
              "      <td>No</td>\n",
              "      <td>...</td>\n",
              "      <td>No</td>\n",
              "      <td>No</td>\n",
              "      <td>No</td>\n",
              "      <td>No</td>\n",
              "      <td>Month-to-month</td>\n",
              "      <td>Yes</td>\n",
              "      <td>Electronic check</td>\n",
              "      <td>70.70</td>\n",
              "      <td>151.65</td>\n",
              "      <td>Yes</td>\n",
              "    </tr>\n",
              "  </tbody>\n",
              "</table>\n",
              "<p>5 rows × 21 columns</p>\n",
              "</div>\n",
              "      <button class=\"colab-df-convert\" onclick=\"convertToInteractive('df-4aaadf57-207f-4494-a377-77e240ea0eab')\"\n",
              "              title=\"Convert this dataframe to an interactive table.\"\n",
              "              style=\"display:none;\">\n",
              "        \n",
              "  <svg xmlns=\"http://www.w3.org/2000/svg\" height=\"24px\"viewBox=\"0 0 24 24\"\n",
              "       width=\"24px\">\n",
              "    <path d=\"M0 0h24v24H0V0z\" fill=\"none\"/>\n",
              "    <path d=\"M18.56 5.44l.94 2.06.94-2.06 2.06-.94-2.06-.94-.94-2.06-.94 2.06-2.06.94zm-11 1L8.5 8.5l.94-2.06 2.06-.94-2.06-.94L8.5 2.5l-.94 2.06-2.06.94zm10 10l.94 2.06.94-2.06 2.06-.94-2.06-.94-.94-2.06-.94 2.06-2.06.94z\"/><path d=\"M17.41 7.96l-1.37-1.37c-.4-.4-.92-.59-1.43-.59-.52 0-1.04.2-1.43.59L10.3 9.45l-7.72 7.72c-.78.78-.78 2.05 0 2.83L4 21.41c.39.39.9.59 1.41.59.51 0 1.02-.2 1.41-.59l7.78-7.78 2.81-2.81c.8-.78.8-2.07 0-2.86zM5.41 20L4 18.59l7.72-7.72 1.47 1.35L5.41 20z\"/>\n",
              "  </svg>\n",
              "      </button>\n",
              "      \n",
              "  <style>\n",
              "    .colab-df-container {\n",
              "      display:flex;\n",
              "      flex-wrap:wrap;\n",
              "      gap: 12px;\n",
              "    }\n",
              "\n",
              "    .colab-df-convert {\n",
              "      background-color: #E8F0FE;\n",
              "      border: none;\n",
              "      border-radius: 50%;\n",
              "      cursor: pointer;\n",
              "      display: none;\n",
              "      fill: #1967D2;\n",
              "      height: 32px;\n",
              "      padding: 0 0 0 0;\n",
              "      width: 32px;\n",
              "    }\n",
              "\n",
              "    .colab-df-convert:hover {\n",
              "      background-color: #E2EBFA;\n",
              "      box-shadow: 0px 1px 2px rgba(60, 64, 67, 0.3), 0px 1px 3px 1px rgba(60, 64, 67, 0.15);\n",
              "      fill: #174EA6;\n",
              "    }\n",
              "\n",
              "    [theme=dark] .colab-df-convert {\n",
              "      background-color: #3B4455;\n",
              "      fill: #D2E3FC;\n",
              "    }\n",
              "\n",
              "    [theme=dark] .colab-df-convert:hover {\n",
              "      background-color: #434B5C;\n",
              "      box-shadow: 0px 1px 3px 1px rgba(0, 0, 0, 0.15);\n",
              "      filter: drop-shadow(0px 1px 2px rgba(0, 0, 0, 0.3));\n",
              "      fill: #FFFFFF;\n",
              "    }\n",
              "  </style>\n",
              "\n",
              "      <script>\n",
              "        const buttonEl =\n",
              "          document.querySelector('#df-4aaadf57-207f-4494-a377-77e240ea0eab button.colab-df-convert');\n",
              "        buttonEl.style.display =\n",
              "          google.colab.kernel.accessAllowed ? 'block' : 'none';\n",
              "\n",
              "        async function convertToInteractive(key) {\n",
              "          const element = document.querySelector('#df-4aaadf57-207f-4494-a377-77e240ea0eab');\n",
              "          const dataTable =\n",
              "            await google.colab.kernel.invokeFunction('convertToInteractive',\n",
              "                                                     [key], {});\n",
              "          if (!dataTable) return;\n",
              "\n",
              "          const docLinkHtml = 'Like what you see? Visit the ' +\n",
              "            '<a target=\"_blank\" href=https://colab.research.google.com/notebooks/data_table.ipynb>data table notebook</a>'\n",
              "            + ' to learn more about interactive tables.';\n",
              "          element.innerHTML = '';\n",
              "          dataTable['output_type'] = 'display_data';\n",
              "          await google.colab.output.renderOutput(dataTable, element);\n",
              "          const docLink = document.createElement('div');\n",
              "          docLink.innerHTML = docLinkHtml;\n",
              "          element.appendChild(docLink);\n",
              "        }\n",
              "      </script>\n",
              "    </div>\n",
              "  </div>\n",
              "  "
            ]
          },
          "metadata": {},
          "execution_count": 9
        }
      ],
      "id": "NcQrJDMsQ2CM"
    },
    {
      "cell_type": "code",
      "source": [
        "df.dropna(inplace=True)"
      ],
      "metadata": {
        "execution": {
          "iopub.status.busy": "2023-03-05T14:46:09.304954Z",
          "iopub.execute_input": "2023-03-05T14:46:09.307303Z",
          "iopub.status.idle": "2023-03-05T14:46:09.328126Z",
          "shell.execute_reply.started": "2023-03-05T14:46:09.307263Z",
          "shell.execute_reply": "2023-03-05T14:46:09.327113Z"
        },
        "trusted": true,
        "id": "zsSnsBxwQ2CN"
      },
      "execution_count": 10,
      "outputs": [],
      "id": "zsSnsBxwQ2CN"
    },
    {
      "cell_type": "code",
      "source": [
        "df.info()"
      ],
      "metadata": {
        "execution": {
          "iopub.status.busy": "2023-03-05T14:46:09.334063Z",
          "iopub.execute_input": "2023-03-05T14:46:09.336574Z",
          "iopub.status.idle": "2023-03-05T14:46:09.371188Z",
          "shell.execute_reply.started": "2023-03-05T14:46:09.336523Z",
          "shell.execute_reply": "2023-03-05T14:46:09.370026Z"
        },
        "trusted": true,
        "colab": {
          "base_uri": "https://localhost:8080/"
        },
        "id": "JHZiOgbPQ2CN",
        "outputId": "21d164e0-d3c7-4bd9-95cb-2c7da8edcca6"
      },
      "execution_count": 11,
      "outputs": [
        {
          "output_type": "stream",
          "name": "stdout",
          "text": [
            "<class 'pandas.core.frame.DataFrame'>\n",
            "RangeIndex: 7043 entries, 0 to 7042\n",
            "Data columns (total 21 columns):\n",
            " #   Column            Non-Null Count  Dtype  \n",
            "---  ------            --------------  -----  \n",
            " 0   customerID        7043 non-null   object \n",
            " 1   gender            7043 non-null   object \n",
            " 2   SeniorCitizen     7043 non-null   int64  \n",
            " 3   Partner           7043 non-null   object \n",
            " 4   Dependents        7043 non-null   object \n",
            " 5   tenure            7043 non-null   int64  \n",
            " 6   PhoneService      7043 non-null   object \n",
            " 7   MultipleLines     7043 non-null   object \n",
            " 8   InternetService   7043 non-null   object \n",
            " 9   OnlineSecurity    7043 non-null   object \n",
            " 10  OnlineBackup      7043 non-null   object \n",
            " 11  DeviceProtection  7043 non-null   object \n",
            " 12  TechSupport       7043 non-null   object \n",
            " 13  StreamingTV       7043 non-null   object \n",
            " 14  StreamingMovies   7043 non-null   object \n",
            " 15  Contract          7043 non-null   object \n",
            " 16  PaperlessBilling  7043 non-null   object \n",
            " 17  PaymentMethod     7043 non-null   object \n",
            " 18  MonthlyCharges    7043 non-null   float64\n",
            " 19  TotalCharges      7043 non-null   object \n",
            " 20  Churn             7043 non-null   object \n",
            "dtypes: float64(1), int64(2), object(18)\n",
            "memory usage: 1.1+ MB\n"
          ]
        }
      ],
      "id": "JHZiOgbPQ2CN"
    },
    {
      "cell_type": "code",
      "source": [
        "df.describe()"
      ],
      "metadata": {
        "execution": {
          "iopub.status.busy": "2023-03-05T14:46:09.375838Z",
          "iopub.execute_input": "2023-03-05T14:46:09.378394Z",
          "iopub.status.idle": "2023-03-05T14:46:09.410608Z",
          "shell.execute_reply.started": "2023-03-05T14:46:09.378351Z",
          "shell.execute_reply": "2023-03-05T14:46:09.409471Z"
        },
        "trusted": true,
        "colab": {
          "base_uri": "https://localhost:8080/",
          "height": 300
        },
        "id": "sJZ1vHNZQ2CO",
        "outputId": "6a2b9f8d-4f1c-4c46-847c-a0b9f3fcb1b1"
      },
      "execution_count": 12,
      "outputs": [
        {
          "output_type": "execute_result",
          "data": {
            "text/plain": [
              "       SeniorCitizen       tenure  MonthlyCharges\n",
              "count    7043.000000  7043.000000     7043.000000\n",
              "mean        0.162147    32.371149       64.761692\n",
              "std         0.368612    24.559481       30.090047\n",
              "min         0.000000     0.000000       18.250000\n",
              "25%         0.000000     9.000000       35.500000\n",
              "50%         0.000000    29.000000       70.350000\n",
              "75%         0.000000    55.000000       89.850000\n",
              "max         1.000000    72.000000      118.750000"
            ],
            "text/html": [
              "\n",
              "  <div id=\"df-d55a1db2-347f-400e-8c00-a7b19f6d6da2\">\n",
              "    <div class=\"colab-df-container\">\n",
              "      <div>\n",
              "<style scoped>\n",
              "    .dataframe tbody tr th:only-of-type {\n",
              "        vertical-align: middle;\n",
              "    }\n",
              "\n",
              "    .dataframe tbody tr th {\n",
              "        vertical-align: top;\n",
              "    }\n",
              "\n",
              "    .dataframe thead th {\n",
              "        text-align: right;\n",
              "    }\n",
              "</style>\n",
              "<table border=\"1\" class=\"dataframe\">\n",
              "  <thead>\n",
              "    <tr style=\"text-align: right;\">\n",
              "      <th></th>\n",
              "      <th>SeniorCitizen</th>\n",
              "      <th>tenure</th>\n",
              "      <th>MonthlyCharges</th>\n",
              "    </tr>\n",
              "  </thead>\n",
              "  <tbody>\n",
              "    <tr>\n",
              "      <th>count</th>\n",
              "      <td>7043.000000</td>\n",
              "      <td>7043.000000</td>\n",
              "      <td>7043.000000</td>\n",
              "    </tr>\n",
              "    <tr>\n",
              "      <th>mean</th>\n",
              "      <td>0.162147</td>\n",
              "      <td>32.371149</td>\n",
              "      <td>64.761692</td>\n",
              "    </tr>\n",
              "    <tr>\n",
              "      <th>std</th>\n",
              "      <td>0.368612</td>\n",
              "      <td>24.559481</td>\n",
              "      <td>30.090047</td>\n",
              "    </tr>\n",
              "    <tr>\n",
              "      <th>min</th>\n",
              "      <td>0.000000</td>\n",
              "      <td>0.000000</td>\n",
              "      <td>18.250000</td>\n",
              "    </tr>\n",
              "    <tr>\n",
              "      <th>25%</th>\n",
              "      <td>0.000000</td>\n",
              "      <td>9.000000</td>\n",
              "      <td>35.500000</td>\n",
              "    </tr>\n",
              "    <tr>\n",
              "      <th>50%</th>\n",
              "      <td>0.000000</td>\n",
              "      <td>29.000000</td>\n",
              "      <td>70.350000</td>\n",
              "    </tr>\n",
              "    <tr>\n",
              "      <th>75%</th>\n",
              "      <td>0.000000</td>\n",
              "      <td>55.000000</td>\n",
              "      <td>89.850000</td>\n",
              "    </tr>\n",
              "    <tr>\n",
              "      <th>max</th>\n",
              "      <td>1.000000</td>\n",
              "      <td>72.000000</td>\n",
              "      <td>118.750000</td>\n",
              "    </tr>\n",
              "  </tbody>\n",
              "</table>\n",
              "</div>\n",
              "      <button class=\"colab-df-convert\" onclick=\"convertToInteractive('df-d55a1db2-347f-400e-8c00-a7b19f6d6da2')\"\n",
              "              title=\"Convert this dataframe to an interactive table.\"\n",
              "              style=\"display:none;\">\n",
              "        \n",
              "  <svg xmlns=\"http://www.w3.org/2000/svg\" height=\"24px\"viewBox=\"0 0 24 24\"\n",
              "       width=\"24px\">\n",
              "    <path d=\"M0 0h24v24H0V0z\" fill=\"none\"/>\n",
              "    <path d=\"M18.56 5.44l.94 2.06.94-2.06 2.06-.94-2.06-.94-.94-2.06-.94 2.06-2.06.94zm-11 1L8.5 8.5l.94-2.06 2.06-.94-2.06-.94L8.5 2.5l-.94 2.06-2.06.94zm10 10l.94 2.06.94-2.06 2.06-.94-2.06-.94-.94-2.06-.94 2.06-2.06.94z\"/><path d=\"M17.41 7.96l-1.37-1.37c-.4-.4-.92-.59-1.43-.59-.52 0-1.04.2-1.43.59L10.3 9.45l-7.72 7.72c-.78.78-.78 2.05 0 2.83L4 21.41c.39.39.9.59 1.41.59.51 0 1.02-.2 1.41-.59l7.78-7.78 2.81-2.81c.8-.78.8-2.07 0-2.86zM5.41 20L4 18.59l7.72-7.72 1.47 1.35L5.41 20z\"/>\n",
              "  </svg>\n",
              "      </button>\n",
              "      \n",
              "  <style>\n",
              "    .colab-df-container {\n",
              "      display:flex;\n",
              "      flex-wrap:wrap;\n",
              "      gap: 12px;\n",
              "    }\n",
              "\n",
              "    .colab-df-convert {\n",
              "      background-color: #E8F0FE;\n",
              "      border: none;\n",
              "      border-radius: 50%;\n",
              "      cursor: pointer;\n",
              "      display: none;\n",
              "      fill: #1967D2;\n",
              "      height: 32px;\n",
              "      padding: 0 0 0 0;\n",
              "      width: 32px;\n",
              "    }\n",
              "\n",
              "    .colab-df-convert:hover {\n",
              "      background-color: #E2EBFA;\n",
              "      box-shadow: 0px 1px 2px rgba(60, 64, 67, 0.3), 0px 1px 3px 1px rgba(60, 64, 67, 0.15);\n",
              "      fill: #174EA6;\n",
              "    }\n",
              "\n",
              "    [theme=dark] .colab-df-convert {\n",
              "      background-color: #3B4455;\n",
              "      fill: #D2E3FC;\n",
              "    }\n",
              "\n",
              "    [theme=dark] .colab-df-convert:hover {\n",
              "      background-color: #434B5C;\n",
              "      box-shadow: 0px 1px 3px 1px rgba(0, 0, 0, 0.15);\n",
              "      filter: drop-shadow(0px 1px 2px rgba(0, 0, 0, 0.3));\n",
              "      fill: #FFFFFF;\n",
              "    }\n",
              "  </style>\n",
              "\n",
              "      <script>\n",
              "        const buttonEl =\n",
              "          document.querySelector('#df-d55a1db2-347f-400e-8c00-a7b19f6d6da2 button.colab-df-convert');\n",
              "        buttonEl.style.display =\n",
              "          google.colab.kernel.accessAllowed ? 'block' : 'none';\n",
              "\n",
              "        async function convertToInteractive(key) {\n",
              "          const element = document.querySelector('#df-d55a1db2-347f-400e-8c00-a7b19f6d6da2');\n",
              "          const dataTable =\n",
              "            await google.colab.kernel.invokeFunction('convertToInteractive',\n",
              "                                                     [key], {});\n",
              "          if (!dataTable) return;\n",
              "\n",
              "          const docLinkHtml = 'Like what you see? Visit the ' +\n",
              "            '<a target=\"_blank\" href=https://colab.research.google.com/notebooks/data_table.ipynb>data table notebook</a>'\n",
              "            + ' to learn more about interactive tables.';\n",
              "          element.innerHTML = '';\n",
              "          dataTable['output_type'] = 'display_data';\n",
              "          await google.colab.output.renderOutput(dataTable, element);\n",
              "          const docLink = document.createElement('div');\n",
              "          docLink.innerHTML = docLinkHtml;\n",
              "          element.appendChild(docLink);\n",
              "        }\n",
              "      </script>\n",
              "    </div>\n",
              "  </div>\n",
              "  "
            ]
          },
          "metadata": {},
          "execution_count": 12
        }
      ],
      "id": "sJZ1vHNZQ2CO"
    },
    {
      "cell_type": "code",
      "source": [
        "plt.matshow(df.corr())"
      ],
      "metadata": {
        "execution": {
          "iopub.status.busy": "2023-03-05T14:46:09.415737Z",
          "iopub.execute_input": "2023-03-05T14:46:09.418448Z",
          "iopub.status.idle": "2023-03-05T14:46:09.787647Z",
          "shell.execute_reply.started": "2023-03-05T14:46:09.418400Z",
          "shell.execute_reply": "2023-03-05T14:46:09.786210Z"
        },
        "trusted": true,
        "colab": {
          "base_uri": "https://localhost:8080/",
          "height": 454
        },
        "id": "YaAvnyNpQ2CO",
        "outputId": "37d8a188-f3dd-4abc-8cf7-315536ebcebd"
      },
      "execution_count": 13,
      "outputs": [
        {
          "output_type": "execute_result",
          "data": {
            "text/plain": [
              "<matplotlib.image.AxesImage at 0x7fc142b469a0>"
            ]
          },
          "metadata": {},
          "execution_count": 13
        },
        {
          "output_type": "display_data",
          "data": {
            "text/plain": [
              "<Figure size 480x480 with 1 Axes>"
            ],
            "image/png": "[encoded data removed]"
          },
          "metadata": {}
        }
      ],
      "id": "YaAvnyNpQ2CO"
    },
    {
      "cell_type": "markdown",
      "source": [
        "## Splitting dataset into X(features) and y(labels)"
      ],
      "metadata": {
        "id": "HRGPmr_CQ2CO"
      },
      "id": "HRGPmr_CQ2CO"
    },
    {
      "cell_type": "code",
      "source": [
        "X=df.iloc[:,1:-1]\n",
        "X.head()"
      ],
      "metadata": {
        "execution": {
          "iopub.status.busy": "2023-03-05T14:46:09.789176Z",
          "iopub.execute_input": "2023-03-05T14:46:09.789530Z",
          "iopub.status.idle": "2023-03-05T14:46:09.846757Z",
          "shell.execute_reply.started": "2023-03-05T14:46:09.789491Z",
          "shell.execute_reply": "2023-03-05T14:46:09.845763Z"
        },
        "trusted": true,
        "colab": {
          "base_uri": "https://localhost:8080/",
          "height": 339
        },
        "id": "eQZ_ndc0Q2CP",
        "outputId": "47342cad-31bb-4a29-c9e1-80afbee17113"
      },
      "execution_count": 14,
      "outputs": [
        {
          "output_type": "execute_result",
          "data": {
            "text/plain": [
              "   gender  SeniorCitizen Partner Dependents  tenure PhoneService  \\\n",
              "0  Female              0     Yes         No       1           No   \n",
              "1    Male              0      No         No      34          Yes   \n",
              "2    Male              0      No         No       2          Yes   \n",
              "3    Male              0      No         No      45           No   \n",
              "4  Female              0      No         No       2          Yes   \n",
              "\n",
              "      MultipleLines InternetService OnlineSecurity OnlineBackup  \\\n",
              "0  No phone service             DSL             No          Yes   \n",
              "1                No             DSL            Yes           No   \n",
              "2                No             DSL            Yes          Yes   \n",
              "3  No phone service             DSL            Yes           No   \n",
              "4                No     Fiber optic             No           No   \n",
              "\n",
              "  DeviceProtection TechSupport StreamingTV StreamingMovies        Contract  \\\n",
              "0               No          No          No              No  Month-to-month   \n",
              "1              Yes          No          No              No        One year   \n",
              "2               No          No          No              No  Month-to-month   \n",
              "3              Yes         Yes          No              No        One year   \n",
              "4               No          No          No              No  Month-to-month   \n",
              "\n",
              "  PaperlessBilling              PaymentMethod  MonthlyCharges TotalCharges  \n",
              "0              Yes           Electronic check           29.85        29.85  \n",
              "1               No               Mailed check           56.95       1889.5  \n",
              "2              Yes               Mailed check           53.85       108.15  \n",
              "3               No  Bank transfer (automatic)           42.30      1840.75  \n",
              "4              Yes           Electronic check           70.70       151.65  "
            ],
            "text/html": [
              "\n",
              "  <div id=\"df-72b1968b-d266-49c1-bece-d4090ec6fa79\">\n",
              "    <div class=\"colab-df-container\">\n",
              "      <div>\n",
              "<style scoped>\n",
              "    .dataframe tbody tr th:only-of-type {\n",
              "        vertical-align: middle;\n",
              "    }\n",
              "\n",
              "    .dataframe tbody tr th {\n",
              "        vertical-align: top;\n",
              "    }\n",
              "\n",
              "    .dataframe thead th {\n",
              "        text-align: right;\n",
              "    }\n",
              "</style>\n",
              "<table border=\"1\" class=\"dataframe\">\n",
              "  <thead>\n",
              "    <tr style=\"text-align: right;\">\n",
              "      <th></th>\n",
              "      <th>gender</th>\n",
              "      <th>SeniorCitizen</th>\n",
              "      <th>Partner</th>\n",
              "      <th>Dependents</th>\n",
              "      <th>tenure</th>\n",
              "      <th>PhoneService</th>\n",
              "      <th>MultipleLines</th>\n",
              "      <th>InternetService</th>\n",
              "      <th>OnlineSecurity</th>\n",
              "      <th>OnlineBackup</th>\n",
              "      <th>DeviceProtection</th>\n",
              "      <th>TechSupport</th>\n",
              "      <th>StreamingTV</th>\n",
              "      <th>StreamingMovies</th>\n",
              "      <th>Contract</th>\n",
              "      <th>PaperlessBilling</th>\n",
              "      <th>PaymentMethod</th>\n",
              "      <th>MonthlyCharges</th>\n",
              "      <th>TotalCharges</th>\n",
              "    </tr>\n",
              "  </thead>\n",
              "  <tbody>\n",
              "    <tr>\n",
              "      <th>0</th>\n",
              "      <td>Female</td>\n",
              "      <td>0</td>\n",
              "      <td>Yes</td>\n",
              "      <td>No</td>\n",
              "      <td>1</td>\n",
              "      <td>No</td>\n",
              "      <td>No phone service</td>\n",
              "      <td>DSL</td>\n",
              "      <td>No</td>\n",
              "      <td>Yes</td>\n",
              "      <td>No</td>\n",
              "      <td>No</td>\n",
              "      <td>No</td>\n",
              "      <td>No</td>\n",
              "      <td>Month-to-month</td>\n",
              "      <td>Yes</td>\n",
              "      <td>Electronic check</td>\n",
              "      <td>29.85</td>\n",
              "      <td>29.85</td>\n",
              "    </tr>\n",
              "    <tr>\n",
              "      <th>1</th>\n",
              "      <td>Male</td>\n",
              "      <td>0</td>\n",
              "      <td>No</td>\n",
              "      <td>No</td>\n",
              "      <td>34</td>\n",
              "      <td>Yes</td>\n",
              "      <td>No</td>\n",
              "      <td>DSL</td>\n",
              "      <td>Yes</td>\n",
              "      <td>No</td>\n",
              "      <td>Yes</td>\n",
              "      <td>No</td>\n",
              "      <td>No</td>\n",
              "      <td>No</td>\n",
              "      <td>One year</td>\n",
              "      <td>No</td>\n",
              "      <td>Mailed check</td>\n",
              "      <td>56.95</td>\n",
              "      <td>1889.5</td>\n",
              "    </tr>\n",
              "    <tr>\n",
              "      <th>2</th>\n",
              "      <td>Male</td>\n",
              "      <td>0</td>\n",
              "      <td>No</td>\n",
              "      <td>No</td>\n",
              "      <td>2</td>\n",
              "      <td>Yes</td>\n",
              "      <td>No</td>\n",
              "      <td>DSL</td>\n",
              "      <td>Yes</td>\n",
              "      <td>Yes</td>\n",
              "      <td>No</td>\n",
              "      <td>No</td>\n",
              "      <td>No</td>\n",
              "      <td>No</td>\n",
              "      <td>Month-to-month</td>\n",
              "      <td>Yes</td>\n",
              "      <td>Mailed check</td>\n",
              "      <td>53.85</td>\n",
              "      <td>108.15</td>\n",
              "    </tr>\n",
              "    <tr>\n",
              "      <th>3</th>\n",
              "      <td>Male</td>\n",
              "      <td>0</td>\n",
              "      <td>No</td>\n",
              "      <td>No</td>\n",
              "      <td>45</td>\n",
              "      <td>No</td>\n",
              "      <td>No phone service</td>\n",
              "      <td>DSL</td>\n",
              "      <td>Yes</td>\n",
              "      <td>No</td>\n",
              "      <td>Yes</td>\n",
              "      <td>Yes</td>\n",
              "      <td>No</td>\n",
              "      <td>No</td>\n",
              "      <td>One year</td>\n",
              "      <td>No</td>\n",
              "      <td>Bank transfer (automatic)</td>\n",
              "      <td>42.30</td>\n",
              "      <td>1840.75</td>\n",
              "    </tr>\n",
              "    <tr>\n",
              "      <th>4</th>\n",
              "      <td>Female</td>\n",
              "      <td>0</td>\n",
              "      <td>No</td>\n",
              "      <td>No</td>\n",
              "      <td>2</td>\n",
              "      <td>Yes</td>\n",
              "      <td>No</td>\n",
              "      <td>Fiber optic</td>\n",
              "      <td>No</td>\n",
              "      <td>No</td>\n",
              "      <td>No</td>\n",
              "      <td>No</td>\n",
              "      <td>No</td>\n",
              "      <td>No</td>\n",
              "      <td>Month-to-month</td>\n",
              "      <td>Yes</td>\n",
              "      <td>Electronic check</td>\n",
              "      <td>70.70</td>\n",
              "      <td>151.65</td>\n",
              "    </tr>\n",
              "  </tbody>\n",
              "</table>\n",
              "</div>\n",
              "      <button class=\"colab-df-convert\" onclick=\"convertToInteractive('df-72b1968b-d266-49c1-bece-d4090ec6fa79')\"\n",
              "              title=\"Convert this dataframe to an interactive table.\"\n",
              "              style=\"display:none;\">\n",
              "        \n",
              "  <svg xmlns=\"http://www.w3.org/2000/svg\" height=\"24px\"viewBox=\"0 0 24 24\"\n",
              "       width=\"24px\">\n",
              "    <path d=\"M0 0h24v24H0V0z\" fill=\"none\"/>\n",
              "    <path d=\"M18.56 5.44l.94 2.06.94-2.06 2.06-.94-2.06-.94-.94-2.06-.94 2.06-2.06.94zm-11 1L8.5 8.5l.94-2.06 2.06-.94-2.06-.94L8.5 2.5l-.94 2.06-2.06.94zm10 10l.94 2.06.94-2.06 2.06-.94-2.06-.94-.94-2.06-.94 2.06-2.06.94z\"/><path d=\"M17.41 7.96l-1.37-1.37c-.4-.4-.92-.59-1.43-.59-.52 0-1.04.2-1.43.59L10.3 9.45l-7.72 7.72c-.78.78-.78 2.05 0 2.83L4 21.41c.39.39.9.59 1.41.59.51 0 1.02-.2 1.41-.59l7.78-7.78 2.81-2.81c.8-.78.8-2.07 0-2.86zM5.41 20L4 18.59l7.72-7.72 1.47 1.35L5.41 20z\"/>\n",
              "  </svg>\n",
              "      </button>\n",
              "      \n",
              "  <style>\n",
              "    .colab-df-container {\n",
              "      display:flex;\n",
              "      flex-wrap:wrap;\n",
              "      gap: 12px;\n",
              "    }\n",
              "\n",
              "    .colab-df-convert {\n",
              "      background-color: #E8F0FE;\n",
              "      border: none;\n",
              "      border-radius: 50%;\n",
              "      cursor: pointer;\n",
              "      display: none;\n",
              "      fill: #1967D2;\n",
              "      height: 32px;\n",
              "      padding: 0 0 0 0;\n",
              "      width: 32px;\n",
              "    }\n",
              "\n",
              "    .colab-df-convert:hover {\n",
              "      background-color: #E2EBFA;\n",
              "      box-shadow: 0px 1px 2px rgba(60, 64, 67, 0.3), 0px 1px 3px 1px rgba(60, 64, 67, 0.15);\n",
              "      fill: #174EA6;\n",
              "    }\n",
              "\n",
              "    [theme=dark] .colab-df-convert {\n",
              "      background-color: #3B4455;\n",
              "      fill: #D2E3FC;\n",
              "    }\n",
              "\n",
              "    [theme=dark] .colab-df-convert:hover {\n",
              "      background-color: #434B5C;\n",
              "      box-shadow: 0px 1px 3px 1px rgba(0, 0, 0, 0.15);\n",
              "      filter: drop-shadow(0px 1px 2px rgba(0, 0, 0, 0.3));\n",
              "      fill: #FFFFFF;\n",
              "    }\n",
              "  </style>\n",
              "\n",
              "      <script>\n",
              "        const buttonEl =\n",
              "          document.querySelector('#df-72b1968b-d266-49c1-bece-d4090ec6fa79 button.colab-df-convert');\n",
              "        buttonEl.style.display =\n",
              "          google.colab.kernel.accessAllowed ? 'block' : 'none';\n",
              "\n",
              "        async function convertToInteractive(key) {\n",
              "          const element = document.querySelector('#df-72b1968b-d266-49c1-bece-d4090ec6fa79');\n",
              "          const dataTable =\n",
              "            await google.colab.kernel.invokeFunction('convertToInteractive',\n",
              "                                                     [key], {});\n",
              "          if (!dataTable) return;\n",
              "\n",
              "          const docLinkHtml = 'Like what you see? Visit the ' +\n",
              "            '<a target=\"_blank\" href=https://colab.research.google.com/notebooks/data_table.ipynb>data table notebook</a>'\n",
              "            + ' to learn more about interactive tables.';\n",
              "          element.innerHTML = '';\n",
              "          dataTable['output_type'] = 'display_data';\n",
              "          await google.colab.output.renderOutput(dataTable, element);\n",
              "          const docLink = document.createElement('div');\n",
              "          docLink.innerHTML = docLinkHtml;\n",
              "          element.appendChild(docLink);\n",
              "        }\n",
              "      </script>\n",
              "    </div>\n",
              "  </div>\n",
              "  "
            ]
          },
          "metadata": {},
          "execution_count": 14
        }
      ],
      "id": "eQZ_ndc0Q2CP"
    },
    {
      "cell_type": "code",
      "source": [
        "y=df[\"Churn\"]\n",
        "y=pd.DataFrame(y)\n",
        "y.head()"
      ],
      "metadata": {
        "execution": {
          "iopub.status.busy": "2023-03-05T14:46:09.851031Z",
          "iopub.execute_input": "2023-03-05T14:46:09.853569Z",
          "iopub.status.idle": "2023-03-05T14:46:09.866817Z",
          "shell.execute_reply.started": "2023-03-05T14:46:09.853520Z",
          "shell.execute_reply": "2023-03-05T14:46:09.865530Z"
        },
        "trusted": true,
        "colab": {
          "base_uri": "https://localhost:8080/",
          "height": 206
        },
        "id": "bO0tjtKRQ2CP",
        "outputId": "1cffb266-e188-4c7d-c0cd-bdcd68f36aa9"
      },
      "execution_count": 15,
      "outputs": [
        {
          "output_type": "execute_result",
          "data": {
            "text/plain": [
              "  Churn\n",
              "0    No\n",
              "1    No\n",
              "2   Yes\n",
              "3    No\n",
              "4   Yes"
            ],
            "text/html": [
              "\n",
              "  <div id=\"df-e0b3f10f-6c7b-459e-80f4-177d1706f3e3\">\n",
              "    <div class=\"colab-df-container\">\n",
              "      <div>\n",
              "<style scoped>\n",
              "    .dataframe tbody tr th:only-of-type {\n",
              "        vertical-align: middle;\n",
              "    }\n",
              "\n",
              "    .dataframe tbody tr th {\n",
              "        vertical-align: top;\n",
              "    }\n",
              "\n",
              "    .dataframe thead th {\n",
              "        text-align: right;\n",
              "    }\n",
              "</style>\n",
              "<table border=\"1\" class=\"dataframe\">\n",
              "  <thead>\n",
              "    <tr style=\"text-align: right;\">\n",
              "      <th></th>\n",
              "      <th>Churn</th>\n",
              "    </tr>\n",
              "  </thead>\n",
              "  <tbody>\n",
              "    <tr>\n",
              "      <th>0</th>\n",
              "      <td>No</td>\n",
              "    </tr>\n",
              "    <tr>\n",
              "      <th>1</th>\n",
              "      <td>No</td>\n",
              "    </tr>\n",
              "    <tr>\n",
              "      <th>2</th>\n",
              "      <td>Yes</td>\n",
              "    </tr>\n",
              "    <tr>\n",
              "      <th>3</th>\n",
              "      <td>No</td>\n",
              "    </tr>\n",
              "    <tr>\n",
              "      <th>4</th>\n",
              "      <td>Yes</td>\n",
              "    </tr>\n",
              "  </tbody>\n",
              "</table>\n",
              "</div>\n",
              "      <button class=\"colab-df-convert\" onclick=\"convertToInteractive('df-e0b3f10f-6c7b-459e-80f4-177d1706f3e3')\"\n",
              "              title=\"Convert this dataframe to an interactive table.\"\n",
              "              style=\"display:none;\">\n",
              "        \n",
              "  <svg xmlns=\"http://www.w3.org/2000/svg\" height=\"24px\"viewBox=\"0 0 24 24\"\n",
              "       width=\"24px\">\n",
              "    <path d=\"M0 0h24v24H0V0z\" fill=\"none\"/>\n",
              "    <path d=\"M18.56 5.44l.94 2.06.94-2.06 2.06-.94-2.06-.94-.94-2.06-.94 2.06-2.06.94zm-11 1L8.5 8.5l.94-2.06 2.06-.94-2.06-.94L8.5 2.5l-.94 2.06-2.06.94zm10 10l.94 2.06.94-2.06 2.06-.94-2.06-.94-.94-2.06-.94 2.06-2.06.94z\"/><path d=\"M17.41 7.96l-1.37-1.37c-.4-.4-.92-.59-1.43-.59-.52 0-1.04.2-1.43.59L10.3 9.45l-7.72 7.72c-.78.78-.78 2.05 0 2.83L4 21.41c.39.39.9.59 1.41.59.51 0 1.02-.2 1.41-.59l7.78-7.78 2.81-2.81c.8-.78.8-2.07 0-2.86zM5.41 20L4 18.59l7.72-7.72 1.47 1.35L5.41 20z\"/>\n",
              "  </svg>\n",
              "      </button>\n",
              "      \n",
              "  <style>\n",
              "    .colab-df-container {\n",
              "      display:flex;\n",
              "      flex-wrap:wrap;\n",
              "      gap: 12px;\n",
              "    }\n",
              "\n",
              "    .colab-df-convert {\n",
              "      background-color: #E8F0FE;\n",
              "      border: none;\n",
              "      border-radius: 50%;\n",
              "      cursor: pointer;\n",
              "      display: none;\n",
              "      fill: #1967D2;\n",
              "      height: 32px;\n",
              "      padding: 0 0 0 0;\n",
              "      width: 32px;\n",
              "    }\n",
              "\n",
              "    .colab-df-convert:hover {\n",
              "      background-color: #E2EBFA;\n",
              "      box-shadow: 0px 1px 2px rgba(60, 64, 67, 0.3), 0px 1px 3px 1px rgba(60, 64, 67, 0.15);\n",
              "      fill: #174EA6;\n",
              "    }\n",
              "\n",
              "    [theme=dark] .colab-df-convert {\n",
              "      background-color: #3B4455;\n",
              "      fill: #D2E3FC;\n",
              "    }\n",
              "\n",
              "    [theme=dark] .colab-df-convert:hover {\n",
              "      background-color: #434B5C;\n",
              "      box-shadow: 0px 1px 3px 1px rgba(0, 0, 0, 0.15);\n",
              "      filter: drop-shadow(0px 1px 2px rgba(0, 0, 0, 0.3));\n",
              "      fill: #FFFFFF;\n",
              "    }\n",
              "  </style>\n",
              "\n",
              "      <script>\n",
              "        const buttonEl =\n",
              "          document.querySelector('#df-e0b3f10f-6c7b-459e-80f4-177d1706f3e3 button.colab-df-convert');\n",
              "        buttonEl.style.display =\n",
              "          google.colab.kernel.accessAllowed ? 'block' : 'none';\n",
              "\n",
              "        async function convertToInteractive(key) {\n",
              "          const element = document.querySelector('#df-e0b3f10f-6c7b-459e-80f4-177d1706f3e3');\n",
              "          const dataTable =\n",
              "            await google.colab.kernel.invokeFunction('convertToInteractive',\n",
              "                                                     [key], {});\n",
              "          if (!dataTable) return;\n",
              "\n",
              "          const docLinkHtml = 'Like what you see? Visit the ' +\n",
              "            '<a target=\"_blank\" href=https://colab.research.google.com/notebooks/data_table.ipynb>data table notebook</a>'\n",
              "            + ' to learn more about interactive tables.';\n",
              "          element.innerHTML = '';\n",
              "          dataTable['output_type'] = 'display_data';\n",
              "          await google.colab.output.renderOutput(dataTable, element);\n",
              "          const docLink = document.createElement('div');\n",
              "          docLink.innerHTML = docLinkHtml;\n",
              "          element.appendChild(docLink);\n",
              "        }\n",
              "      </script>\n",
              "    </div>\n",
              "  </div>\n",
              "  "
            ]
          },
          "metadata": {},
          "execution_count": 15
        }
      ],
      "id": "bO0tjtKRQ2CP"
    },
    {
      "cell_type": "code",
      "source": [
        "from sklearn.preprocessing import LabelEncoder\n",
        "y=LabelEncoder().fit_transform(y)\n",
        "# X=LabelEncoder().fit_transform(X)"
      ],
      "metadata": {
        "execution": {
          "iopub.status.busy": "2023-03-05T14:46:09.868511Z",
          "iopub.execute_input": "2023-03-05T14:46:09.868874Z",
          "iopub.status.idle": "2023-03-05T14:46:09.882204Z",
          "shell.execute_reply.started": "2023-03-05T14:46:09.868837Z",
          "shell.execute_reply": "2023-03-05T14:46:09.880942Z"
        },
        "trusted": true,
        "colab": {
          "base_uri": "https://localhost:8080/"
        },
        "id": "W0p7gTveQ2CP",
        "outputId": "91ae1372-5e0d-479f-911f-aedbf1ccf9c0"
      },
      "execution_count": 16,
      "outputs": [
        {
          "output_type": "stream",
          "name": "stderr",
          "text": [
            "/usr/local/lib/python3.9/dist-packages/sklearn/preprocessing/_label.py:116: DataConversionWarning: A column-vector y was passed when a 1d array was expected. Please change the shape of y to (n_samples, ), for example using ravel().\n",
            "  y = column_or_1d(y, warn=True)\n"
          ]
        }
      ],
      "id": "W0p7gTveQ2CP"
    },
    {
      "cell_type": "code",
      "source": [
        "X['gender']=LabelEncoder().fit_transform(X['gender'])\n",
        "X['Partner']=LabelEncoder().fit_transform(X['Partner'])\n",
        "X['Dependents']=LabelEncoder().fit_transform(X['Dependents'])\n",
        "X['PhoneService']=LabelEncoder().fit_transform(X['PhoneService'])\n",
        "X['MultipleLines']=LabelEncoder().fit_transform(X['MultipleLines'])\n",
        "X['InternetService']=LabelEncoder().fit_transform(X['InternetService'])\n",
        "X['OnlineSecurity']=LabelEncoder().fit_transform(X['OnlineSecurity'])\n",
        "X['OnlineBackup']=LabelEncoder().fit_transform(X['OnlineBackup'])\n",
        "X['DeviceProtection']=LabelEncoder().fit_transform(X['DeviceProtection'])\n",
        "X['StreamingTV']=LabelEncoder().fit_transform(X['StreamingTV'])\n",
        "X['StreamingMovies']=LabelEncoder().fit_transform(X['StreamingMovies'])\n",
        "X['Contract']=LabelEncoder().fit_transform(X['Contract'])\n",
        "X['PaperlessBilling']=LabelEncoder().fit_transform(X['PaperlessBilling'])\n",
        "X['PaymentMethod']=LabelEncoder().fit_transform(X['PaymentMethod'])\n",
        "X['TechSupport']=LabelEncoder().fit_transform(X['TechSupport'])\n",
        "X['TechSupport']=LabelEncoder().fit_transform(X['TechSupport'])"
      ],
      "metadata": {
        "execution": {
          "iopub.status.busy": "2023-03-05T14:46:09.886700Z",
          "iopub.execute_input": "2023-03-05T14:46:09.889549Z",
          "iopub.status.idle": "2023-03-05T14:46:09.954016Z",
          "shell.execute_reply.started": "2023-03-05T14:46:09.889508Z",
          "shell.execute_reply": "2023-03-05T14:46:09.952577Z"
        },
        "trusted": true,
        "id": "3ppWiAk9Q2CP"
      },
      "execution_count": 17,
      "outputs": [],
      "id": "3ppWiAk9Q2CP"
    },
    {
      "cell_type": "code",
      "source": [
        "y"
      ],
      "metadata": {
        "execution": {
          "iopub.status.busy": "2023-03-05T14:46:09.955701Z",
          "iopub.execute_input": "2023-03-05T14:46:09.956074Z",
          "iopub.status.idle": "2023-03-05T14:46:09.964136Z",
          "shell.execute_reply.started": "2023-03-05T14:46:09.956038Z",
          "shell.execute_reply": "2023-03-05T14:46:09.962727Z"
        },
        "trusted": true,
        "colab": {
          "base_uri": "https://localhost:8080/"
        },
        "id": "e7l9se5XQ2CQ",
        "outputId": "72ebae24-d6ce-4279-c0c1-f44410a631f5"
      },
      "execution_count": 18,
      "outputs": [
        {
          "output_type": "execute_result",
          "data": {
            "text/plain": [
              "array([0, 0, 1, ..., 0, 1, 0])"
            ]
          },
          "metadata": {},
          "execution_count": 18
        }
      ],
      "id": "e7l9se5XQ2CQ"
    },
    {
      "cell_type": "code",
      "source": [
        "X"
      ],
      "metadata": {
        "execution": {
          "iopub.status.busy": "2023-03-05T14:46:09.966072Z",
          "iopub.execute_input": "2023-03-05T14:46:09.966954Z",
          "iopub.status.idle": "2023-03-05T14:46:09.999490Z",
          "shell.execute_reply.started": "2023-03-05T14:46:09.966915Z",
          "shell.execute_reply": "2023-03-05T14:46:09.997933Z"
        },
        "trusted": true,
        "colab": {
          "base_uri": "https://localhost:8080/",
          "height": 487
        },
        "id": "3_NPQZGIQ2CQ",
        "outputId": "460b646a-b7c3-4042-a1a5-d58b43d4712f"
      },
      "execution_count": 19,
      "outputs": [
        {
          "output_type": "execute_result",
          "data": {
            "text/plain": [
              "      gender  SeniorCitizen  Partner  Dependents  tenure  PhoneService  \\\n",
              "0          0              0        1           0       1             0   \n",
              "1          1              0        0           0      34             1   \n",
              "2          1              0        0           0       2             1   \n",
              "3          1              0        0           0      45             0   \n",
              "4          0              0        0           0       2             1   \n",
              "...      ...            ...      ...         ...     ...           ...   \n",
              "7038       1              0        1           1      24             1   \n",
              "7039       0              0        1           1      72             1   \n",
              "7040       0              0        1           1      11             0   \n",
              "7041       1              1        1           0       4             1   \n",
              "7042       1              0        0           0      66             1   \n",
              "\n",
              "      MultipleLines  InternetService  OnlineSecurity  OnlineBackup  \\\n",
              "0                 1                0               0             2   \n",
              "1                 0                0               2             0   \n",
              "2                 0                0               2             2   \n",
              "3                 1                0               2             0   \n",
              "4                 0                1               0             0   \n",
              "...             ...              ...             ...           ...   \n",
              "7038              2                0               2             0   \n",
              "7039              2                1               0             2   \n",
              "7040              1                0               2             0   \n",
              "7041              2                1               0             0   \n",
              "7042              0                1               2             0   \n",
              "\n",
              "      DeviceProtection  TechSupport  StreamingTV  StreamingMovies  Contract  \\\n",
              "0                    0            0            0                0         0   \n",
              "1                    2            0            0                0         1   \n",
              "2                    0            0            0                0         0   \n",
              "3                    2            2            0                0         1   \n",
              "4                    0            0            0                0         0   \n",
              "...                ...          ...          ...              ...       ...   \n",
              "7038                 2            2            2                2         1   \n",
              "7039                 2            0            2                2         1   \n",
              "7040                 0            0            0                0         0   \n",
              "7041                 0            0            0                0         0   \n",
              "7042                 2            2            2                2         2   \n",
              "\n",
              "      PaperlessBilling  PaymentMethod  MonthlyCharges TotalCharges  \n",
              "0                    1              2           29.85        29.85  \n",
              "1                    0              3           56.95       1889.5  \n",
              "2                    1              3           53.85       108.15  \n",
              "3                    0              0           42.30      1840.75  \n",
              "4                    1              2           70.70       151.65  \n",
              "...                ...            ...             ...          ...  \n",
              "7038                 1              3           84.80       1990.5  \n",
              "7039                 1              1          103.20       7362.9  \n",
              "7040                 1              2           29.60       346.45  \n",
              "7041                 1              3           74.40        306.6  \n",
              "7042                 1              0          105.65       6844.5  \n",
              "\n",
              "[7043 rows x 19 columns]"
            ],
            "text/html": [
              "\n",
              "  <div id=\"df-7a708246-917e-4fb0-9f25-f5e00e458154\">\n",
              "    <div class=\"colab-df-container\">\n",
              "      <div>\n",
              "<style scoped>\n",
              "    .dataframe tbody tr th:only-of-type {\n",
              "        vertical-align: middle;\n",
              "    }\n",
              "\n",
              "    .dataframe tbody tr th {\n",
              "        vertical-align: top;\n",
              "    }\n",
              "\n",
              "    .dataframe thead th {\n",
              "        text-align: right;\n",
              "    }\n",
              "</style>\n",
              "<table border=\"1\" class=\"dataframe\">\n",
              "  <thead>\n",
              "    <tr style=\"text-align: right;\">\n",
              "      <th></th>\n",
              "      <th>gender</th>\n",
              "      <th>SeniorCitizen</th>\n",
              "      <th>Partner</th>\n",
              "      <th>Dependents</th>\n",
              "      <th>tenure</th>\n",
              "      <th>PhoneService</th>\n",
              "      <th>MultipleLines</th>\n",
              "      <th>InternetService</th>\n",
              "      <th>OnlineSecurity</th>\n",
              "      <th>OnlineBackup</th>\n",
              "      <th>DeviceProtection</th>\n",
              "      <th>TechSupport</th>\n",
              "      <th>StreamingTV</th>\n",
              "      <th>StreamingMovies</th>\n",
              "      <th>Contract</th>\n",
              "      <th>PaperlessBilling</th>\n",
              "      <th>PaymentMethod</th>\n",
              "      <th>MonthlyCharges</th>\n",
              "      <th>TotalCharges</th>\n",
              "    </tr>\n",
              "  </thead>\n",
              "  <tbody>\n",
              "    <tr>\n",
              "      <th>0</th>\n",
              "      <td>0</td>\n",
              "      <td>0</td>\n",
              "      <td>1</td>\n",
              "      <td>0</td>\n",
              "      <td>1</td>\n",
              "      <td>0</td>\n",
              "      <td>1</td>\n",
              "      <td>0</td>\n",
              "      <td>0</td>\n",
              "      <td>2</td>\n",
              "      <td>0</td>\n",
              "      <td>0</td>\n",
              "      <td>0</td>\n",
              "      <td>0</td>\n",
              "      <td>0</td>\n",
              "      <td>1</td>\n",
              "      <td>2</td>\n",
              "      <td>29.85</td>\n",
              "      <td>29.85</td>\n",
              "    </tr>\n",
              "    <tr>\n",
              "      <th>1</th>\n",
              "      <td>1</td>\n",
              "      <td>0</td>\n",
              "      <td>0</td>\n",
              "      <td>0</td>\n",
              "      <td>34</td>\n",
              "      <td>1</td>\n",
              "      <td>0</td>\n",
              "      <td>0</td>\n",
              "      <td>2</td>\n",
              "      <td>0</td>\n",
              "      <td>2</td>\n",
              "      <td>0</td>\n",
              "      <td>0</td>\n",
              "      <td>0</td>\n",
              "      <td>1</td>\n",
              "      <td>0</td>\n",
              "      <td>3</td>\n",
              "      <td>56.95</td>\n",
              "      <td>1889.5</td>\n",
              "    </tr>\n",
              "    <tr>\n",
              "      <th>2</th>\n",
              "      <td>1</td>\n",
              "      <td>0</td>\n",
              "      <td>0</td>\n",
              "      <td>0</td>\n",
              "      <td>2</td>\n",
              "      <td>1</td>\n",
              "      <td>0</td>\n",
              "      <td>0</td>\n",
              "      <td>2</td>\n",
              "      <td>2</td>\n",
              "      <td>0</td>\n",
              "      <td>0</td>\n",
              "      <td>0</td>\n",
              "      <td>0</td>\n",
              "      <td>0</td>\n",
              "      <td>1</td>\n",
              "      <td>3</td>\n",
              "      <td>53.85</td>\n",
              "      <td>108.15</td>\n",
              "    </tr>\n",
              "    <tr>\n",
              "      <th>3</th>\n",
              "      <td>1</td>\n",
              "      <td>0</td>\n",
              "      <td>0</td>\n",
              "      <td>0</td>\n",
              "      <td>45</td>\n",
              "      <td>0</td>\n",
              "      <td>1</td>\n",
              "      <td>0</td>\n",
              "      <td>2</td>\n",
              "      <td>0</td>\n",
              "      <td>2</td>\n",
              "      <td>2</td>\n",
              "      <td>0</td>\n",
              "      <td>0</td>\n",
              "      <td>1</td>\n",
              "      <td>0</td>\n",
              "      <td>0</td>\n",
              "      <td>42.30</td>\n",
              "      <td>1840.75</td>\n",
              "    </tr>\n",
              "    <tr>\n",
              "      <th>4</th>\n",
              "      <td>0</td>\n",
              "      <td>0</td>\n",
              "      <td>0</td>\n",
              "      <td>0</td>\n",
              "      <td>2</td>\n",
              "      <td>1</td>\n",
              "      <td>0</td>\n",
              "      <td>1</td>\n",
              "      <td>0</td>\n",
              "      <td>0</td>\n",
              "      <td>0</td>\n",
              "      <td>0</td>\n",
              "      <td>0</td>\n",
              "      <td>0</td>\n",
              "      <td>0</td>\n",
              "      <td>1</td>\n",
              "      <td>2</td>\n",
              "      <td>70.70</td>\n",
              "      <td>151.65</td>\n",
              "    </tr>\n",
              "    <tr>\n",
              "      <th>...</th>\n",
              "      <td>...</td>\n",
              "      <td>...</td>\n",
              "      <td>...</td>\n",
              "      <td>...</td>\n",
              "      <td>...</td>\n",
              "      <td>...</td>\n",
              "      <td>...</td>\n",
              "      <td>...</td>\n",
              "      <td>...</td>\n",
              "      <td>...</td>\n",
              "      <td>...</td>\n",
              "      <td>...</td>\n",
              "      <td>...</td>\n",
              "      <td>...</td>\n",
              "      <td>...</td>\n",
              "      <td>...</td>\n",
              "      <td>...</td>\n",
              "      <td>...</td>\n",
              "      <td>...</td>\n",
              "    </tr>\n",
              "    <tr>\n",
              "      <th>7038</th>\n",
              "      <td>1</td>\n",
              "      <td>0</td>\n",
              "      <td>1</td>\n",
              "      <td>1</td>\n",
              "      <td>24</td>\n",
              "      <td>1</td>\n",
              "      <td>2</td>\n",
              "      <td>0</td>\n",
              "      <td>2</td>\n",
              "      <td>0</td>\n",
              "      <td>2</td>\n",
              "      <td>2</td>\n",
              "      <td>2</td>\n",
              "      <td>2</td>\n",
              "      <td>1</td>\n",
              "      <td>1</td>\n",
              "      <td>3</td>\n",
              "      <td>84.80</td>\n",
              "      <td>1990.5</td>\n",
              "    </tr>\n",
              "    <tr>\n",
              "      <th>7039</th>\n",
              "      <td>0</td>\n",
              "      <td>0</td>\n",
              "      <td>1</td>\n",
              "      <td>1</td>\n",
              "      <td>72</td>\n",
              "      <td>1</td>\n",
              "      <td>2</td>\n",
              "      <td>1</td>\n",
              "      <td>0</td>\n",
              "      <td>2</td>\n",
              "      <td>2</td>\n",
              "      <td>0</td>\n",
              "      <td>2</td>\n",
              "      <td>2</td>\n",
              "      <td>1</td>\n",
              "      <td>1</td>\n",
              "      <td>1</td>\n",
              "      <td>103.20</td>\n",
              "      <td>7362.9</td>\n",
              "    </tr>\n",
              "    <tr>\n",
              "      <th>7040</th>\n",
              "      <td>0</td>\n",
              "      <td>0</td>\n",
              "      <td>1</td>\n",
              "      <td>1</td>\n",
              "      <td>11</td>\n",
              "      <td>0</td>\n",
              "      <td>1</td>\n",
              "      <td>0</td>\n",
              "      <td>2</td>\n",
              "      <td>0</td>\n",
              "      <td>0</td>\n",
              "      <td>0</td>\n",
              "      <td>0</td>\n",
              "      <td>0</td>\n",
              "      <td>0</td>\n",
              "      <td>1</td>\n",
              "      <td>2</td>\n",
              "      <td>29.60</td>\n",
              "      <td>346.45</td>\n",
              "    </tr>\n",
              "    <tr>\n",
              "      <th>7041</th>\n",
              "      <td>1</td>\n",
              "      <td>1</td>\n",
              "      <td>1</td>\n",
              "      <td>0</td>\n",
              "      <td>4</td>\n",
              "      <td>1</td>\n",
              "      <td>2</td>\n",
              "      <td>1</td>\n",
              "      <td>0</td>\n",
              "      <td>0</td>\n",
              "      <td>0</td>\n",
              "      <td>0</td>\n",
              "      <td>0</td>\n",
              "      <td>0</td>\n",
              "      <td>0</td>\n",
              "      <td>1</td>\n",
              "      <td>3</td>\n",
              "      <td>74.40</td>\n",
              "      <td>306.6</td>\n",
              "    </tr>\n",
              "    <tr>\n",
              "      <th>7042</th>\n",
              "      <td>1</td>\n",
              "      <td>0</td>\n",
              "      <td>0</td>\n",
              "      <td>0</td>\n",
              "      <td>66</td>\n",
              "      <td>1</td>\n",
              "      <td>0</td>\n",
              "      <td>1</td>\n",
              "      <td>2</td>\n",
              "      <td>0</td>\n",
              "      <td>2</td>\n",
              "      <td>2</td>\n",
              "      <td>2</td>\n",
              "      <td>2</td>\n",
              "      <td>2</td>\n",
              "      <td>1</td>\n",
              "      <td>0</td>\n",
              "      <td>105.65</td>\n",
              "      <td>6844.5</td>\n",
              "    </tr>\n",
              "  </tbody>\n",
              "</table>\n",
              "<p>7043 rows × 19 columns</p>\n",
              "</div>\n",
              "      <button class=\"colab-df-convert\" onclick=\"convertToInteractive('df-7a708246-917e-4fb0-9f25-f5e00e458154')\"\n",
              "              title=\"Convert this dataframe to an interactive table.\"\n",
              "              style=\"display:none;\">\n",
              "        \n",
              "  <svg xmlns=\"http://www.w3.org/2000/svg\" height=\"24px\"viewBox=\"0 0 24 24\"\n",
              "       width=\"24px\">\n",
              "    <path d=\"M0 0h24v24H0V0z\" fill=\"none\"/>\n",
              "    <path d=\"M18.56 5.44l.94 2.06.94-2.06 2.06-.94-2.06-.94-.94-2.06-.94 2.06-2.06.94zm-11 1L8.5 8.5l.94-2.06 2.06-.94-2.06-.94L8.5 2.5l-.94 2.06-2.06.94zm10 10l.94 2.06.94-2.06 2.06-.94-2.06-.94-.94-2.06-.94 2.06-2.06.94z\"/><path d=\"M17.41 7.96l-1.37-1.37c-.4-.4-.92-.59-1.43-.59-.52 0-1.04.2-1.43.59L10.3 9.45l-7.72 7.72c-.78.78-.78 2.05 0 2.83L4 21.41c.39.39.9.59 1.41.59.51 0 1.02-.2 1.41-.59l7.78-7.78 2.81-2.81c.8-.78.8-2.07 0-2.86zM5.41 20L4 18.59l7.72-7.72 1.47 1.35L5.41 20z\"/>\n",
              "  </svg>\n",
              "      </button>\n",
              "      \n",
              "  <style>\n",
              "    .colab-df-container {\n",
              "      display:flex;\n",
              "      flex-wrap:wrap;\n",
              "      gap: 12px;\n",
              "    }\n",
              "\n",
              "    .colab-df-convert {\n",
              "      background-color: #E8F0FE;\n",
              "      border: none;\n",
              "      border-radius: 50%;\n",
              "      cursor: pointer;\n",
              "      display: none;\n",
              "      fill: #1967D2;\n",
              "      height: 32px;\n",
              "      padding: 0 0 0 0;\n",
              "      width: 32px;\n",
              "    }\n",
              "\n",
              "    .colab-df-convert:hover {\n",
              "      background-color: #E2EBFA;\n",
              "      box-shadow: 0px 1px 2px rgba(60, 64, 67, 0.3), 0px 1px 3px 1px rgba(60, 64, 67, 0.15);\n",
              "      fill: #174EA6;\n",
              "    }\n",
              "\n",
              "    [theme=dark] .colab-df-convert {\n",
              "      background-color: #3B4455;\n",
              "      fill: #D2E3FC;\n",
              "    }\n",
              "\n",
              "    [theme=dark] .colab-df-convert:hover {\n",
              "      background-color: #434B5C;\n",
              "      box-shadow: 0px 1px 3px 1px rgba(0, 0, 0, 0.15);\n",
              "      filter: drop-shadow(0px 1px 2px rgba(0, 0, 0, 0.3));\n",
              "      fill: #FFFFFF;\n",
              "    }\n",
              "  </style>\n",
              "\n",
              "      <script>\n",
              "        const buttonEl =\n",
              "          document.querySelector('#df-7a708246-917e-4fb0-9f25-f5e00e458154 button.colab-df-convert');\n",
              "        buttonEl.style.display =\n",
              "          google.colab.kernel.accessAllowed ? 'block' : 'none';\n",
              "\n",
              "        async function convertToInteractive(key) {\n",
              "          const element = document.querySelector('#df-7a708246-917e-4fb0-9f25-f5e00e458154');\n",
              "          const dataTable =\n",
              "            await google.colab.kernel.invokeFunction('convertToInteractive',\n",
              "                                                     [key], {});\n",
              "          if (!dataTable) return;\n",
              "\n",
              "          const docLinkHtml = 'Like what you see? Visit the ' +\n",
              "            '<a target=\"_blank\" href=https://colab.research.google.com/notebooks/data_table.ipynb>data table notebook</a>'\n",
              "            + ' to learn more about interactive tables.';\n",
              "          element.innerHTML = '';\n",
              "          dataTable['output_type'] = 'display_data';\n",
              "          await google.colab.output.renderOutput(dataTable, element);\n",
              "          const docLink = document.createElement('div');\n",
              "          docLink.innerHTML = docLinkHtml;\n",
              "          element.appendChild(docLink);\n",
              "        }\n",
              "      </script>\n",
              "    </div>\n",
              "  </div>\n",
              "  "
            ]
          },
          "metadata": {},
          "execution_count": 19
        }
      ],
      "id": "3_NPQZGIQ2CQ"
    },
    {
      "cell_type": "code",
      "source": [
        "X['MonthlyCharges'] = X['MonthlyCharges'].astype('int')"
      ],
      "metadata": {
        "execution": {
          "iopub.status.busy": "2023-03-05T14:46:10.001607Z",
          "iopub.execute_input": "2023-03-05T14:46:10.001995Z",
          "iopub.status.idle": "2023-03-05T14:46:10.012859Z",
          "shell.execute_reply.started": "2023-03-05T14:46:10.001958Z",
          "shell.execute_reply": "2023-03-05T14:46:10.011605Z"
        },
        "trusted": true,
        "id": "_IIXCFlzQ2CQ"
      },
      "execution_count": 20,
      "outputs": [],
      "id": "_IIXCFlzQ2CQ"
    },
    {
      "cell_type": "code",
      "source": [
        "X['TotalCharges'] = pd.to_numeric(X['TotalCharges'],errors='coerce')\n",
        "median = X['TotalCharges'].median()\n",
        "X['TotalCharges'].fillna(median,inplace=True)"
      ],
      "metadata": {
        "execution": {
          "iopub.status.busy": "2023-03-05T14:46:10.015620Z",
          "iopub.execute_input": "2023-03-05T14:46:10.015883Z",
          "iopub.status.idle": "2023-03-05T14:46:10.030633Z",
          "shell.execute_reply.started": "2023-03-05T14:46:10.015858Z",
          "shell.execute_reply": "2023-03-05T14:46:10.029427Z"
        },
        "trusted": true,
        "id": "lW4wlGRQQ2CQ"
      },
      "execution_count": 21,
      "outputs": [],
      "id": "lW4wlGRQQ2CQ"
    },
    {
      "cell_type": "markdown",
      "source": [
        "## Feature Selection"
      ],
      "metadata": {
        "id": "5j0ygEbkQ2CQ"
      },
      "id": "5j0ygEbkQ2CQ"
    },
    {
      "cell_type": "markdown",
      "source": [
        "### Lasso"
      ],
      "metadata": {
        "id": "tjP41DeFQ2CQ"
      },
      "id": "tjP41DeFQ2CQ"
    },
    {
      "cell_type": "code",
      "source": [
        "reg = LassoCV()\n",
        "reg.fit(X, y)\n",
        "print(\"Best alpha using built-in LassoCV: %f\" % reg.alpha_)\n",
        "print(\"Best score using built-in LassoCV: %f\" %reg.score(X,y))\n",
        "coef = pd.Series(reg.coef_, index = X.columns)\n",
        "print(\"Lasso picked \" + str(sum(coef != 0)) + \" variables and eliminated the other \" + str(sum(coef == 0)) + \" variables\")"
      ],
      "metadata": {
        "execution": {
          "iopub.status.busy": "2023-03-05T14:46:10.033997Z",
          "iopub.execute_input": "2023-03-05T14:46:10.036138Z",
          "iopub.status.idle": "2023-03-05T14:46:10.397188Z",
          "shell.execute_reply.started": "2023-03-05T14:46:10.036098Z",
          "shell.execute_reply": "2023-03-05T14:46:10.396086Z"
        },
        "trusted": true,
        "colab": {
          "base_uri": "https://localhost:8080/"
        },
        "id": "IkXcLXiXQ2CQ",
        "outputId": "e3e5b7e4-5458-4f94-8d3a-37c1b58dc38f"
      },
      "execution_count": 51,
      "outputs": [
        {
          "output_type": "stream",
          "name": "stdout",
          "text": [
            "Best alpha using built-in LassoCV: 0.000295\n",
            "Best score using built-in LassoCV: 0.275586\n",
            "Lasso picked 16 variables and eliminated the other 3 variables\n"
          ]
        }
      ],
      "id": "IkXcLXiXQ2CQ"
    },
    {
      "cell_type": "code",
      "source": [
        "imp_coef = coef.sort_values()\n",
        "import matplotlib\n",
        "matplotlib.rcParams['figure.figsize'] = (6,6)\n",
        "imp_coef.plot(kind = \"barh\")\n",
        "plt.title(\"Feature importance using Lasso Model\")\n",
        "plt.show()"
      ],
      "metadata": {
        "execution": {
          "iopub.status.busy": "2023-03-05T14:46:10.401565Z",
          "iopub.execute_input": "2023-03-05T14:46:10.404368Z",
          "iopub.status.idle": "2023-03-05T14:46:10.936111Z",
          "shell.execute_reply.started": "2023-03-05T14:46:10.404310Z",
          "shell.execute_reply": "2023-03-05T14:46:10.934974Z"
        },
        "trusted": true,
        "colab": {
          "base_uri": "https://localhost:8080/",
          "height": 0
        },
        "id": "NYYka9DdQ2CR",
        "outputId": "c584380d-349b-4115-b9d4-d3e611b6ef77"
      },
      "execution_count": 52,
      "outputs": [
        {
          "output_type": "display_data",
          "data": {
            "text/plain": [
              "<Figure size 600x600 with 1 Axes>"
            ],
            "image/png": "[encoded data removed]"
          },
          "metadata": {}
        }
      ],
      "id": "NYYka9DdQ2CR"
    },
    {
      "cell_type": "markdown",
      "source": [
        "## Normalisation of data"
      ],
      "metadata": {
        "id": "FXBcczY5Q2CR"
      },
      "id": "FXBcczY5Q2CR"
    },
    {
      "cell_type": "code",
      "source": [
        "from sklearn.preprocessing import MinMaxScaler\n",
        "names=X.columns\n",
        "indexes=X.index\n",
        "X=MinMaxScaler().fit_transform(X)\n",
        "X=pd.DataFrame(X,columns=names,index=indexes)\n",
        "X.head()"
      ],
      "metadata": {
        "execution": {
          "iopub.status.busy": "2023-03-05T14:46:10.940564Z",
          "iopub.execute_input": "2023-03-05T14:46:10.943115Z",
          "iopub.status.idle": "2023-03-05T14:46:11.009198Z",
          "shell.execute_reply.started": "2023-03-05T14:46:10.943070Z",
          "shell.execute_reply": "2023-03-05T14:46:11.007967Z"
        },
        "trusted": true,
        "colab": {
          "base_uri": "https://localhost:8080/",
          "height": 270
        },
        "id": "IyOxVYcIQ2CR",
        "outputId": "ea1722c0-db86-4b1c-c205-7778690d3232"
      },
      "execution_count": 24,
      "outputs": [
        {
          "output_type": "execute_result",
          "data": {
            "text/plain": [
              "   gender  SeniorCitizen  Partner  Dependents    tenure  PhoneService  \\\n",
              "0     0.0            0.0      1.0         0.0  0.013889           0.0   \n",
              "1     1.0            0.0      0.0         0.0  0.472222           1.0   \n",
              "2     1.0            0.0      0.0         0.0  0.027778           1.0   \n",
              "3     1.0            0.0      0.0         0.0  0.625000           0.0   \n",
              "4     0.0            0.0      0.0         0.0  0.027778           1.0   \n",
              "\n",
              "   MultipleLines  InternetService  OnlineSecurity  OnlineBackup  \\\n",
              "0            0.5              0.0             0.0           1.0   \n",
              "1            0.0              0.0             1.0           0.0   \n",
              "2            0.0              0.0             1.0           1.0   \n",
              "3            0.5              0.0             1.0           0.0   \n",
              "4            0.0              0.5             0.0           0.0   \n",
              "\n",
              "   DeviceProtection  TechSupport  StreamingTV  StreamingMovies  Contract  \\\n",
              "0               0.0          0.0          0.0              0.0       0.0   \n",
              "1               1.0          0.0          0.0              0.0       0.5   \n",
              "2               0.0          0.0          0.0              0.0       0.0   \n",
              "3               1.0          1.0          0.0              0.0       0.5   \n",
              "4               0.0          0.0          0.0              0.0       0.0   \n",
              "\n",
              "   PaperlessBilling  PaymentMethod  MonthlyCharges  TotalCharges  \n",
              "0               1.0       0.666667            0.11      0.001275  \n",
              "1               0.0       1.000000            0.38      0.215867  \n",
              "2               1.0       1.000000            0.35      0.010310  \n",
              "3               0.0       0.000000            0.24      0.210241  \n",
              "4               1.0       0.666667            0.52      0.015330  "
            ],
            "text/html": [
              "\n",
              "  <div id=\"df-ac44f2e2-4712-408e-9450-49e98c89476c\">\n",
              "    <div class=\"colab-df-container\">\n",
              "      <div>\n",
              "<style scoped>\n",
              "    .dataframe tbody tr th:only-of-type {\n",
              "        vertical-align: middle;\n",
              "    }\n",
              "\n",
              "    .dataframe tbody tr th {\n",
              "        vertical-align: top;\n",
              "    }\n",
              "\n",
              "    .dataframe thead th {\n",
              "        text-align: right;\n",
              "    }\n",
              "</style>\n",
              "<table border=\"1\" class=\"dataframe\">\n",
              "  <thead>\n",
              "    <tr style=\"text-align: right;\">\n",
              "      <th></th>\n",
              "      <th>gender</th>\n",
              "      <th>SeniorCitizen</th>\n",
              "      <th>Partner</th>\n",
              "      <th>Dependents</th>\n",
              "      <th>tenure</th>\n",
              "      <th>PhoneService</th>\n",
              "      <th>MultipleLines</th>\n",
              "      <th>InternetService</th>\n",
              "      <th>OnlineSecurity</th>\n",
              "      <th>OnlineBackup</th>\n",
              "      <th>DeviceProtection</th>\n",
              "      <th>TechSupport</th>\n",
              "      <th>StreamingTV</th>\n",
              "      <th>StreamingMovies</th>\n",
              "      <th>Contract</th>\n",
              "      <th>PaperlessBilling</th>\n",
              "      <th>PaymentMethod</th>\n",
              "      <th>MonthlyCharges</th>\n",
              "      <th>TotalCharges</th>\n",
              "    </tr>\n",
              "  </thead>\n",
              "  <tbody>\n",
              "    <tr>\n",
              "      <th>0</th>\n",
              "      <td>0.0</td>\n",
              "      <td>0.0</td>\n",
              "      <td>1.0</td>\n",
              "      <td>0.0</td>\n",
              "      <td>0.013889</td>\n",
              "      <td>0.0</td>\n",
              "      <td>0.5</td>\n",
              "      <td>0.0</td>\n",
              "      <td>0.0</td>\n",
              "      <td>1.0</td>\n",
              "      <td>0.0</td>\n",
              "      <td>0.0</td>\n",
              "      <td>0.0</td>\n",
              "      <td>0.0</td>\n",
              "      <td>0.0</td>\n",
              "      <td>1.0</td>\n",
              "      <td>0.666667</td>\n",
              "      <td>0.11</td>\n",
              "      <td>0.001275</td>\n",
              "    </tr>\n",
              "    <tr>\n",
              "      <th>1</th>\n",
              "      <td>1.0</td>\n",
              "      <td>0.0</td>\n",
              "      <td>0.0</td>\n",
              "      <td>0.0</td>\n",
              "      <td>0.472222</td>\n",
              "      <td>1.0</td>\n",
              "      <td>0.0</td>\n",
              "      <td>0.0</td>\n",
              "      <td>1.0</td>\n",
              "      <td>0.0</td>\n",
              "      <td>1.0</td>\n",
              "      <td>0.0</td>\n",
              "      <td>0.0</td>\n",
              "      <td>0.0</td>\n",
              "      <td>0.5</td>\n",
              "      <td>0.0</td>\n",
              "      <td>1.000000</td>\n",
              "      <td>0.38</td>\n",
              "      <td>0.215867</td>\n",
              "    </tr>\n",
              "    <tr>\n",
              "      <th>2</th>\n",
              "      <td>1.0</td>\n",
              "      <td>0.0</td>\n",
              "      <td>0.0</td>\n",
              "      <td>0.0</td>\n",
              "      <td>0.027778</td>\n",
              "      <td>1.0</td>\n",
              "      <td>0.0</td>\n",
              "      <td>0.0</td>\n",
              "      <td>1.0</td>\n",
              "      <td>1.0</td>\n",
              "      <td>0.0</td>\n",
              "      <td>0.0</td>\n",
              "      <td>0.0</td>\n",
              "      <td>0.0</td>\n",
              "      <td>0.0</td>\n",
              "      <td>1.0</td>\n",
              "      <td>1.000000</td>\n",
              "      <td>0.35</td>\n",
              "      <td>0.010310</td>\n",
              "    </tr>\n",
              "    <tr>\n",
              "      <th>3</th>\n",
              "      <td>1.0</td>\n",
              "      <td>0.0</td>\n",
              "      <td>0.0</td>\n",
              "      <td>0.0</td>\n",
              "      <td>0.625000</td>\n",
              "      <td>0.0</td>\n",
              "      <td>0.5</td>\n",
              "      <td>0.0</td>\n",
              "      <td>1.0</td>\n",
              "      <td>0.0</td>\n",
              "      <td>1.0</td>\n",
              "      <td>1.0</td>\n",
              "      <td>0.0</td>\n",
              "      <td>0.0</td>\n",
              "      <td>0.5</td>\n",
              "      <td>0.0</td>\n",
              "      <td>0.000000</td>\n",
              "      <td>0.24</td>\n",
              "      <td>0.210241</td>\n",
              "    </tr>\n",
              "    <tr>\n",
              "      <th>4</th>\n",
              "      <td>0.0</td>\n",
              "      <td>0.0</td>\n",
              "      <td>0.0</td>\n",
              "      <td>0.0</td>\n",
              "      <td>0.027778</td>\n",
              "      <td>1.0</td>\n",
              "      <td>0.0</td>\n",
              "      <td>0.5</td>\n",
              "      <td>0.0</td>\n",
              "      <td>0.0</td>\n",
              "      <td>0.0</td>\n",
              "      <td>0.0</td>\n",
              "      <td>0.0</td>\n",
              "      <td>0.0</td>\n",
              "      <td>0.0</td>\n",
              "      <td>1.0</td>\n",
              "      <td>0.666667</td>\n",
              "      <td>0.52</td>\n",
              "      <td>0.015330</td>\n",
              "    </tr>\n",
              "  </tbody>\n",
              "</table>\n",
              "</div>\n",
              "      <button class=\"colab-df-convert\" onclick=\"convertToInteractive('df-ac44f2e2-4712-408e-9450-49e98c89476c')\"\n",
              "              title=\"Convert this dataframe to an interactive table.\"\n",
              "              style=\"display:none;\">\n",
              "        \n",
              "  <svg xmlns=\"http://www.w3.org/2000/svg\" height=\"24px\"viewBox=\"0 0 24 24\"\n",
              "       width=\"24px\">\n",
              "    <path d=\"M0 0h24v24H0V0z\" fill=\"none\"/>\n",
              "    <path d=\"M18.56 5.44l.94 2.06.94-2.06 2.06-.94-2.06-.94-.94-2.06-.94 2.06-2.06.94zm-11 1L8.5 8.5l.94-2.06 2.06-.94-2.06-.94L8.5 2.5l-.94 2.06-2.06.94zm10 10l.94 2.06.94-2.06 2.06-.94-2.06-.94-.94-2.06-.94 2.06-2.06.94z\"/><path d=\"M17.41 7.96l-1.37-1.37c-.4-.4-.92-.59-1.43-.59-.52 0-1.04.2-1.43.59L10.3 9.45l-7.72 7.72c-.78.78-.78 2.05 0 2.83L4 21.41c.39.39.9.59 1.41.59.51 0 1.02-.2 1.41-.59l7.78-7.78 2.81-2.81c.8-.78.8-2.07 0-2.86zM5.41 20L4 18.59l7.72-7.72 1.47 1.35L5.41 20z\"/>\n",
              "  </svg>\n",
              "      </button>\n",
              "      \n",
              "  <style>\n",
              "    .colab-df-container {\n",
              "      display:flex;\n",
              "      flex-wrap:wrap;\n",
              "      gap: 12px;\n",
              "    }\n",
              "\n",
              "    .colab-df-convert {\n",
              "      background-color: #E8F0FE;\n",
              "      border: none;\n",
              "      border-radius: 50%;\n",
              "      cursor: pointer;\n",
              "      display: none;\n",
              "      fill: #1967D2;\n",
              "      height: 32px;\n",
              "      padding: 0 0 0 0;\n",
              "      width: 32px;\n",
              "    }\n",
              "\n",
              "    .colab-df-convert:hover {\n",
              "      background-color: #E2EBFA;\n",
              "      box-shadow: 0px 1px 2px rgba(60, 64, 67, 0.3), 0px 1px 3px 1px rgba(60, 64, 67, 0.15);\n",
              "      fill: #174EA6;\n",
              "    }\n",
              "\n",
              "    [theme=dark] .colab-df-convert {\n",
              "      background-color: #3B4455;\n",
              "      fill: #D2E3FC;\n",
              "    }\n",
              "\n",
              "    [theme=dark] .colab-df-convert:hover {\n",
              "      background-color: #434B5C;\n",
              "      box-shadow: 0px 1px 3px 1px rgba(0, 0, 0, 0.15);\n",
              "      filter: drop-shadow(0px 1px 2px rgba(0, 0, 0, 0.3));\n",
              "      fill: #FFFFFF;\n",
              "    }\n",
              "  </style>\n",
              "\n",
              "      <script>\n",
              "        const buttonEl =\n",
              "          document.querySelector('#df-ac44f2e2-4712-408e-9450-49e98c89476c button.colab-df-convert');\n",
              "        buttonEl.style.display =\n",
              "          google.colab.kernel.accessAllowed ? 'block' : 'none';\n",
              "\n",
              "        async function convertToInteractive(key) {\n",
              "          const element = document.querySelector('#df-ac44f2e2-4712-408e-9450-49e98c89476c');\n",
              "          const dataTable =\n",
              "            await google.colab.kernel.invokeFunction('convertToInteractive',\n",
              "                                                     [key], {});\n",
              "          if (!dataTable) return;\n",
              "\n",
              "          const docLinkHtml = 'Like what you see? Visit the ' +\n",
              "            '<a target=\"_blank\" href=https://colab.research.google.com/notebooks/data_table.ipynb>data table notebook</a>'\n",
              "            + ' to learn more about interactive tables.';\n",
              "          element.innerHTML = '';\n",
              "          dataTable['output_type'] = 'display_data';\n",
              "          await google.colab.output.renderOutput(dataTable, element);\n",
              "          const docLink = document.createElement('div');\n",
              "          docLink.innerHTML = docLinkHtml;\n",
              "          element.appendChild(docLink);\n",
              "        }\n",
              "      </script>\n",
              "    </div>\n",
              "  </div>\n",
              "  "
            ]
          },
          "metadata": {},
          "execution_count": 24
        }
      ],
      "id": "IyOxVYcIQ2CR"
    },
    {
      "cell_type": "markdown",
      "source": [
        "### Select KBest using Chi2"
      ],
      "metadata": {
        "id": "wTqQg3ImQ2CR"
      },
      "id": "wTqQg3ImQ2CR"
    },
    {
      "cell_type": "code",
      "source": [
        "kmodel=SelectKBest(score_func=chi2,k=8)\n",
        "x_clf_new=kmodel.fit_transform(X,y)\n",
        "mask=kmodel.get_support()\n",
        "important=X.columns[mask]\n",
        "print(important,len(important))"
      ],
      "metadata": {
        "execution": {
          "iopub.status.busy": "2023-03-05T14:46:11.014721Z",
          "iopub.execute_input": "2023-03-05T14:46:11.015310Z",
          "iopub.status.idle": "2023-03-05T14:46:11.036078Z",
          "shell.execute_reply.started": "2023-03-05T14:46:11.015273Z",
          "shell.execute_reply": "2023-03-05T14:46:11.034969Z"
        },
        "trusted": true,
        "colab": {
          "base_uri": "https://localhost:8080/"
        },
        "id": "Lq-kfuusQ2CR",
        "outputId": "b70b5019-0a1c-49e7-9128-a7467f19ee45"
      },
      "execution_count": 25,
      "outputs": [
        {
          "output_type": "stream",
          "name": "stdout",
          "text": [
            "Index(['SeniorCitizen', 'Dependents', 'tenure', 'OnlineSecurity',\n",
            "       'OnlineBackup', 'TechSupport', 'Contract', 'PaperlessBilling'],\n",
            "      dtype='object') 8\n"
          ]
        }
      ],
      "id": "Lq-kfuusQ2CR"
    },
    {
      "cell_type": "markdown",
      "source": [
        "## Split data into train, test and validation set"
      ],
      "metadata": {
        "id": "8qZsPQLHQ2CR"
      },
      "id": "8qZsPQLHQ2CR"
    },
    {
      "cell_type": "code",
      "source": [
        "from sklearn.model_selection import train_test_split\n",
        "X_train,X_rem,y_train,y_rem = train_test_split(X, y, test_size=0.20, random_state=42)\n",
        "X_val,X_test,y_val,y_test = train_test_split(X_rem, y_rem, test_size=0.50, random_state=42)"
      ],
      "metadata": {
        "execution": {
          "iopub.status.busy": "2023-03-05T14:46:11.041827Z",
          "iopub.execute_input": "2023-03-05T14:46:11.044319Z",
          "iopub.status.idle": "2023-03-05T14:46:11.057263Z",
          "shell.execute_reply.started": "2023-03-05T14:46:11.044268Z",
          "shell.execute_reply": "2023-03-05T14:46:11.055056Z"
        },
        "trusted": true,
        "id": "oMAmBFfAQ2CR"
      },
      "execution_count": 26,
      "outputs": [],
      "id": "oMAmBFfAQ2CR"
    },
    {
      "cell_type": "markdown",
      "source": [
        "## Logistic Regression"
      ],
      "metadata": {
        "id": "gU69nVScQ2CR"
      },
      "id": "gU69nVScQ2CR"
    },
    {
      "cell_type": "code",
      "source": [
        "from sklearn.linear_model import LogisticRegression\n",
        "from sklearn.metrics import accuracy_score\n",
        "log = LogisticRegression()\n",
        "log.fit(X_train,y_train)\n",
        "acc = accuracy_score(log.predict(X_val),y_val)\n",
        "f'Validation accuracy: {round(acc*100,2)}%'\n",
        "log_pred=log.predict(X_test)"
      ],
      "metadata": {
        "execution": {
          "iopub.status.busy": "2023-03-05T14:46:11.058836Z",
          "iopub.execute_input": "2023-03-05T14:46:11.059344Z",
          "iopub.status.idle": "2023-03-05T14:46:11.170840Z",
          "shell.execute_reply.started": "2023-03-05T14:46:11.059308Z",
          "shell.execute_reply": "2023-03-05T14:46:11.169682Z"
        },
        "trusted": true,
        "id": "ZP9EBOGCQ2CS"
      },
      "execution_count": 66,
      "outputs": [],
      "id": "ZP9EBOGCQ2CS"
    },
    {
      "cell_type": "code",
      "source": [
        "log_pred"
      ],
      "metadata": {
        "colab": {
          "base_uri": "https://localhost:8080/"
        },
        "id": "b7RToFOVY_UD",
        "outputId": "d7bee6e3-89ab-4bad-ed18-13988d96dae5"
      },
      "id": "b7RToFOVY_UD",
      "execution_count": 67,
      "outputs": [
        {
          "output_type": "execute_result",
          "data": {
            "text/plain": [
              "array([0, 0, 0, 0, 0, 0, 0, 0, 0, 0, 0, 1, 0, 0, 0, 0, 0, 0, 0, 0, 0, 0,\n",
              "       1, 1, 0, 0, 1, 0, 0, 1, 0, 1, 0, 0, 0, 0, 0, 0, 0, 0, 0, 0, 0, 0,\n",
              "       1, 0, 0, 1, 1, 0, 0, 1, 0, 1, 0, 1, 0, 0, 0, 0, 0, 1, 0, 0, 0, 1,\n",
              "       0, 0, 1, 1, 0, 0, 0, 0, 1, 0, 1, 0, 0, 0, 0, 1, 0, 0, 0, 0, 1, 1,\n",
              "       0, 1, 0, 1, 1, 0, 0, 0, 1, 1, 0, 0, 0, 0, 0, 0, 0, 1, 0, 0, 0, 0,\n",
              "       1, 0, 0, 0, 1, 0, 0, 0, 0, 0, 0, 0, 0, 0, 0, 0, 0, 0, 1, 0, 1, 0,\n",
              "       0, 0, 0, 0, 0, 1, 1, 0, 1, 0, 0, 0, 0, 0, 0, 0, 0, 0, 0, 0, 0, 0,\n",
              "       0, 0, 0, 0, 0, 0, 1, 0, 0, 0, 0, 0, 0, 0, 0, 0, 0, 1, 0, 0, 0, 0,\n",
              "       0, 0, 0, 0, 0, 0, 0, 0, 0, 0, 1, 0, 0, 1, 0, 0, 0, 1, 0, 0, 0, 1,\n",
              "       0, 0, 0, 1, 0, 0, 0, 1, 0, 0, 0, 0, 0, 0, 0, 0, 1, 1, 1, 0, 0, 0,\n",
              "       0, 0, 0, 0, 0, 0, 1, 0, 1, 1, 0, 0, 1, 0, 0, 1, 1, 0, 1, 0, 0, 0,\n",
              "       0, 0, 0, 1, 0, 0, 0, 0, 0, 0, 1, 0, 0, 1, 0, 1, 0, 0, 0, 1, 0, 1,\n",
              "       0, 0, 1, 0, 0, 0, 1, 1, 0, 0, 0, 0, 0, 0, 1, 1, 0, 0, 1, 0, 0, 1,\n",
              "       0, 0, 0, 1, 0, 0, 1, 1, 0, 0, 0, 0, 0, 0, 1, 0, 0, 0, 0, 1, 0, 0,\n",
              "       0, 0, 1, 0, 1, 0, 1, 0, 0, 0, 0, 0, 0, 0, 0, 1, 0, 0, 0, 0, 0, 0,\n",
              "       0, 1, 0, 0, 1, 1, 0, 0, 0, 0, 1, 0, 0, 0, 0, 0, 0, 0, 0, 1, 1, 0,\n",
              "       0, 0, 0, 0, 0, 0, 0, 0, 1, 0, 0, 1, 0, 0, 0, 0, 0, 0, 0, 1, 0, 0,\n",
              "       0, 0, 0, 0, 0, 0, 0, 0, 0, 1, 0, 0, 0, 1, 0, 0, 0, 0, 0, 0, 1, 0,\n",
              "       0, 0, 0, 0, 0, 1, 1, 0, 0, 1, 0, 1, 0, 0, 0, 0, 0, 1, 0, 1, 0, 0,\n",
              "       0, 0, 1, 1, 0, 0, 0, 0, 0, 0, 0, 0, 1, 0, 0, 1, 0, 1, 0, 0, 1, 0,\n",
              "       0, 0, 1, 0, 0, 1, 0, 0, 0, 0, 1, 1, 0, 0, 0, 0, 1, 1, 1, 0, 0, 0,\n",
              "       1, 1, 0, 0, 0, 0, 0, 0, 0, 0, 1, 0, 1, 0, 1, 0, 0, 0, 0, 0, 0, 0,\n",
              "       1, 0, 0, 0, 0, 0, 1, 0, 0, 1, 1, 0, 0, 1, 0, 0, 0, 0, 0, 0, 1, 0,\n",
              "       1, 0, 0, 1, 0, 0, 0, 0, 1, 0, 0, 0, 1, 0, 0, 0, 0, 0, 1, 1, 1, 1,\n",
              "       0, 0, 0, 0, 0, 1, 0, 0, 0, 0, 0, 1, 0, 1, 1, 0, 0, 0, 0, 0, 0, 0,\n",
              "       0, 0, 1, 0, 0, 1, 0, 0, 0, 0, 0, 0, 0, 1, 0, 1, 1, 0, 1, 0, 0, 0,\n",
              "       1, 0, 0, 0, 0, 0, 0, 0, 0, 0, 0, 0, 0, 0, 0, 1, 0, 1, 0, 0, 0, 0,\n",
              "       0, 0, 0, 0, 0, 0, 0, 0, 0, 0, 0, 0, 0, 0, 1, 0, 0, 0, 0, 0, 0, 1,\n",
              "       0, 1, 0, 1, 0, 0, 0, 0, 1, 0, 0, 0, 1, 1, 0, 1, 1, 1, 1, 0, 0, 1,\n",
              "       0, 1, 0, 0, 0, 0, 0, 0, 0, 0, 1, 1, 0, 0, 1, 1, 0, 0, 0, 0, 0, 0,\n",
              "       0, 0, 0, 0, 1, 0, 0, 1, 0, 0, 0, 1, 0, 0, 0, 0, 0, 0, 0, 0, 1, 0,\n",
              "       0, 0, 0, 0, 0, 0, 0, 0, 0, 0, 0, 0, 0, 0, 0, 0, 0, 1, 0, 0, 0, 0,\n",
              "       1])"
            ]
          },
          "metadata": {},
          "execution_count": 67
        }
      ]
    },
    {
      "cell_type": "code",
      "source": [
        "acc = accuracy_score(log.predict(X_test),y_test)\n",
        "f'Testing accuracy: {round(acc*100,2)}%'"
      ],
      "metadata": {
        "execution": {
          "iopub.status.busy": "2023-03-05T14:46:11.175717Z",
          "iopub.execute_input": "2023-03-05T14:46:11.178439Z",
          "iopub.status.idle": "2023-03-05T14:46:11.192379Z",
          "shell.execute_reply.started": "2023-03-05T14:46:11.178389Z",
          "shell.execute_reply": "2023-03-05T14:46:11.191274Z"
        },
        "trusted": true,
        "colab": {
          "base_uri": "https://localhost:8080/",
          "height": 36
        },
        "id": "BGujrXg2Q2CS",
        "outputId": "4ca1a1f8-2f38-470f-81a3-718c08050b4f"
      },
      "execution_count": 28,
      "outputs": [
        {
          "output_type": "execute_result",
          "data": {
            "text/plain": [
              "'Testing accuracy: 82.41%'"
            ],
            "application/vnd.google.colaboratory.intrinsic+json": {
              "type": "string"
            }
          },
          "metadata": {},
          "execution_count": 28
        }
      ],
      "id": "BGujrXg2Q2CS"
    },
    {
      "cell_type": "code",
      "source": [
        "-from sklearn.metrics import mean_squared_error,mean_absolute_error\n",
        "print(mean_absolute_error(y_test,log_pred))\n",
        "print(mean_squared_error(y_test,log_pred))\n",
        "print(np.sqrt(mean_squared_error(y_test,log_pred)))"
      ],
      "metadata": {
        "colab": {
          "base_uri": "https://localhost:8080/"
        },
        "id": "fj-WvQv0WuLX",
        "outputId": "3c49309e-7a95-4521-baca-ae8d95e29c2a"
      },
      "id": "fj-WvQv0WuLX",
      "execution_count": 68,
      "outputs": [
        {
          "output_type": "stream",
          "name": "stdout",
          "text": [
            "0.17588652482269504\n",
            "0.17588652482269504\n",
            "0.4193882745412597\n"
          ]
        }
      ]
    },
    {
      "cell_type": "code",
      "source": [
        "from sklearn.metrics import r2_score\n",
        "score=r2_score(y_test,log_pred)\n",
        "print(score)"
      ],
      "metadata": {
        "colab": {
          "base_uri": "https://localhost:8080/"
        },
        "id": "YdkBbXb9WuOM",
        "outputId": "57803493-4840-43e6-d0a2-be30ea7b9005"
      },
      "id": "YdkBbXb9WuOM",
      "execution_count": 71,
      "outputs": [
        {
          "output_type": "stream",
          "name": "stdout",
          "text": [
            "0.09441233140655114\n"
          ]
        }
      ]
    },
    {
      "cell_type": "code",
      "source": [],
      "metadata": {
        "id": "IS3hX6hcWuQ-"
      },
      "id": "IS3hX6hcWuQ-",
      "execution_count": null,
      "outputs": []
    },
    {
      "cell_type": "code",
      "source": [],
      "metadata": {
        "id": "rdxouCLKWuT4"
      },
      "id": "rdxouCLKWuT4",
      "execution_count": null,
      "outputs": []
    },
    {
      "cell_type": "markdown",
      "source": [
        "## Using top 3 variables given by LassoCV"
      ],
      "metadata": {
        "id": "fgvAdnAwQ2CS"
      },
      "id": "fgvAdnAwQ2CS"
    },
    {
      "cell_type": "code",
      "source": [
        "log.fit(X_train[[\"MonthlyCharges\",\"TotalCharges\",\"tenure\"]],y_train)\n",
        "acc = accuracy_score(log.predict(X_val[[\"MonthlyCharges\",\"TotalCharges\",\"tenure\"]]),y_val)\n",
        "f'Validation accuracy: {round(acc*100,2)}%'"
      ],
      "metadata": {
        "execution": {
          "iopub.status.busy": "2023-03-05T14:46:11.196960Z",
          "iopub.execute_input": "2023-03-05T14:46:11.199270Z",
          "iopub.status.idle": "2023-03-05T14:46:11.268271Z",
          "shell.execute_reply.started": "2023-03-05T14:46:11.199240Z",
          "shell.execute_reply": "2023-03-05T14:46:11.267096Z"
        },
        "trusted": true,
        "colab": {
          "base_uri": "https://localhost:8080/",
          "height": 36
        },
        "id": "Qc-ZJN2VQ2CS",
        "outputId": "8c30c7cd-cac6-4363-8e53-dad5e2e42a04"
      },
      "execution_count": 29,
      "outputs": [
        {
          "output_type": "execute_result",
          "data": {
            "text/plain": [
              "'Validation accuracy: 79.12%'"
            ],
            "application/vnd.google.colaboratory.intrinsic+json": {
              "type": "string"
            }
          },
          "metadata": {},
          "execution_count": 29
        }
      ],
      "id": "Qc-ZJN2VQ2CS"
    },
    {
      "cell_type": "code",
      "source": [
        "acc = accuracy_score(log.predict(X_test[[\"MonthlyCharges\",\"TotalCharges\",\"tenure\"]]),y_test)\n",
        "f'Testing accuracy: {round(acc*100,2)}%'"
      ],
      "metadata": {
        "execution": {
          "iopub.status.busy": "2023-03-05T14:46:11.269961Z",
          "iopub.execute_input": "2023-03-05T14:46:11.270910Z",
          "iopub.status.idle": "2023-03-05T14:46:11.309379Z",
          "shell.execute_reply.started": "2023-03-05T14:46:11.270854Z",
          "shell.execute_reply": "2023-03-05T14:46:11.297110Z"
        },
        "trusted": true,
        "colab": {
          "base_uri": "https://localhost:8080/",
          "height": 36
        },
        "id": "d1e7q8tGQ2CS",
        "outputId": "ab1cf060-50e5-4ae5-c53f-b680d9744758"
      },
      "execution_count": 30,
      "outputs": [
        {
          "output_type": "execute_result",
          "data": {
            "text/plain": [
              "'Testing accuracy: 80.57%'"
            ],
            "application/vnd.google.colaboratory.intrinsic+json": {
              "type": "string"
            }
          },
          "metadata": {},
          "execution_count": 30
        }
      ],
      "id": "d1e7q8tGQ2CS"
    },
    {
      "cell_type": "markdown",
      "source": [
        "## Using top 8 variables given by Select Kbest"
      ],
      "metadata": {
        "id": "h6E32QtpQ2CS"
      },
      "id": "h6E32QtpQ2CS"
    },
    {
      "cell_type": "code",
      "source": [
        "log.fit(X_train[['SeniorCitizen', 'Dependents', 'tenure', 'OnlineSecurity','OnlineBackup', 'TechSupport', 'Contract', 'PaperlessBilling']],y_train)\n",
        "acc = accuracy_score(log.predict(X_val[['SeniorCitizen', 'Dependents', 'tenure', 'OnlineSecurity','OnlineBackup', 'TechSupport', 'Contract', 'PaperlessBilling']]),y_val)\n",
        "f'Validation accuracy: {round(acc*100,2)}%'"
      ],
      "metadata": {
        "execution": {
          "iopub.status.busy": "2023-03-05T14:46:11.320538Z",
          "iopub.execute_input": "2023-03-05T14:46:11.320934Z",
          "iopub.status.idle": "2023-03-05T14:46:11.380428Z",
          "shell.execute_reply.started": "2023-03-05T14:46:11.320878Z",
          "shell.execute_reply": "2023-03-05T14:46:11.379213Z"
        },
        "trusted": true,
        "colab": {
          "base_uri": "https://localhost:8080/",
          "height": 36
        },
        "id": "0mEvxO7mQ2CS",
        "outputId": "f3c67725-0822-44ac-d870-561e95564f50"
      },
      "execution_count": 31,
      "outputs": [
        {
          "output_type": "execute_result",
          "data": {
            "text/plain": [
              "'Validation accuracy: 78.55%'"
            ],
            "application/vnd.google.colaboratory.intrinsic+json": {
              "type": "string"
            }
          },
          "metadata": {},
          "execution_count": 31
        }
      ],
      "id": "0mEvxO7mQ2CS"
    },
    {
      "cell_type": "code",
      "source": [
        "acc = accuracy_score(log.predict(X_test[['SeniorCitizen', 'Dependents', 'tenure', 'OnlineSecurity','OnlineBackup', 'TechSupport', 'Contract', 'PaperlessBilling']]),y_test)\n",
        "f'Testing accuracy: {round(acc*100,2)}%'"
      ],
      "metadata": {
        "execution": {
          "iopub.status.busy": "2023-03-05T14:46:11.384741Z",
          "iopub.execute_input": "2023-03-05T14:46:11.385067Z",
          "iopub.status.idle": "2023-03-05T14:46:11.412070Z",
          "shell.execute_reply.started": "2023-03-05T14:46:11.385023Z",
          "shell.execute_reply": "2023-03-05T14:46:11.410724Z"
        },
        "trusted": true,
        "colab": {
          "base_uri": "https://localhost:8080/",
          "height": 36
        },
        "id": "tyVgR_ZVQ2CS",
        "outputId": "70386da5-3e46-4cec-f9b2-f9305ed77dd6"
      },
      "execution_count": 32,
      "outputs": [
        {
          "output_type": "execute_result",
          "data": {
            "text/plain": [
              "'Testing accuracy: 80.14%'"
            ],
            "application/vnd.google.colaboratory.intrinsic+json": {
              "type": "string"
            }
          },
          "metadata": {},
          "execution_count": 32
        }
      ],
      "id": "tyVgR_ZVQ2CS"
    },
    {
      "cell_type": "markdown",
      "source": [
        "## Hyperparameter Tuning using GridSearchCV for decision tree"
      ],
      "metadata": {
        "id": "QunkWeTeQ2CS"
      },
      "id": "QunkWeTeQ2CS"
    },
    {
      "cell_type": "code",
      "source": [
        "from sklearn.tree import DecisionTreeClassifier, export_graphviz, ExtraTreeClassifier, plot_tree\n",
        "from sklearn.model_selection import GridSearchCV\n",
        "def dtree_grid_search(X,y,nfolds):\n",
        "    #create a dictionary of all values we want to test\n",
        "    param_grid = { 'criterion':['gini','entropy'],'max_depth': np.arange(3, 15),'max_leaf_nodes': list(range(2, 10)), 'min_samples_split': [2, 3, 4]}\n",
        "    # decision tree model\n",
        "    dtree_model=DecisionTreeClassifier()\n",
        "    #use gridsearch to test all values\n",
        "    dtree_gscv = GridSearchCV(dtree_model, param_grid, cv=nfolds)\n",
        "    #fit model to data\n",
        "    dtree_gscv.fit(X, y)\n",
        "    return dtree_gscv.best_params_"
      ],
      "metadata": {
        "execution": {
          "iopub.status.busy": "2023-03-05T14:46:11.413637Z",
          "iopub.execute_input": "2023-03-05T14:46:11.414334Z",
          "iopub.status.idle": "2023-03-05T14:46:11.501589Z",
          "shell.execute_reply.started": "2023-03-05T14:46:11.414296Z",
          "shell.execute_reply": "2023-03-05T14:46:11.500326Z"
        },
        "trusted": true,
        "id": "9rFcVoHrQ2CT"
      },
      "execution_count": 33,
      "outputs": [],
      "id": "9rFcVoHrQ2CT"
    },
    {
      "cell_type": "code",
      "source": [
        "dtree_grid_search(X_train,y_train,2)"
      ],
      "metadata": {
        "execution": {
          "iopub.status.busy": "2023-03-05T14:46:11.504286Z",
          "iopub.execute_input": "2023-03-05T14:46:11.508146Z",
          "iopub.status.idle": "2023-03-05T14:46:21.800524Z",
          "shell.execute_reply.started": "2023-03-05T14:46:11.508063Z",
          "shell.execute_reply": "2023-03-05T14:46:21.799343Z"
        },
        "trusted": true,
        "colab": {
          "base_uri": "https://localhost:8080/"
        },
        "id": "PWIxh-kMQ2CT",
        "outputId": "c72f53c4-e64d-4e5e-a472-3a2a080b02fa"
      },
      "execution_count": 34,
      "outputs": [
        {
          "output_type": "execute_result",
          "data": {
            "text/plain": [
              "{'criterion': 'gini',\n",
              " 'max_depth': 5,\n",
              " 'max_leaf_nodes': 9,\n",
              " 'min_samples_split': 2}"
            ]
          },
          "metadata": {},
          "execution_count": 34
        }
      ],
      "id": "PWIxh-kMQ2CT"
    },
    {
      "cell_type": "markdown",
      "source": [
        "## Decision Tree Classifier"
      ],
      "metadata": {
        "id": "hwLaIOY0Q2CT"
      },
      "id": "hwLaIOY0Q2CT"
    },
    {
      "cell_type": "code",
      "source": [
        "dt = DecisionTreeClassifier(criterion='entropy',max_depth=3)\n",
        "dt = dt.fit(X_train,y_train)\n",
        "y_pred = dt.predict(X_train)\n",
        "acc = accuracy_score(y_train,y_pred)\n",
        "f'Training accuracy: {round(acc*100,2)}%'"
      ],
      "metadata": {
        "execution": {
          "iopub.status.busy": "2023-03-05T14:46:21.806618Z",
          "iopub.execute_input": "2023-03-05T14:46:21.806929Z",
          "iopub.status.idle": "2023-03-05T14:46:21.828579Z",
          "shell.execute_reply.started": "2023-03-05T14:46:21.806899Z",
          "shell.execute_reply": "2023-03-05T14:46:21.827420Z"
        },
        "trusted": true,
        "colab": {
          "base_uri": "https://localhost:8080/",
          "height": 36
        },
        "id": "PKeDmR-iQ2CT",
        "outputId": "ab463f79-ee9b-485c-a8d7-c9b91f39280d"
      },
      "execution_count": 35,
      "outputs": [
        {
          "output_type": "execute_result",
          "data": {
            "text/plain": [
              "'Training accuracy: 78.27%'"
            ],
            "application/vnd.google.colaboratory.intrinsic+json": {
              "type": "string"
            }
          },
          "metadata": {},
          "execution_count": 35
        }
      ],
      "id": "PKeDmR-iQ2CT"
    },
    {
      "cell_type": "code",
      "source": [
        "y_pred = dt.predict(X_val)\n",
        "acc = accuracy_score(y_val,y_pred)\n",
        "f'Validation accuracy: {round(acc*100,2)}%'"
      ],
      "metadata": {
        "execution": {
          "iopub.status.busy": "2023-03-05T14:46:21.831000Z",
          "iopub.execute_input": "2023-03-05T14:46:21.831672Z",
          "iopub.status.idle": "2023-03-05T14:46:21.842527Z",
          "shell.execute_reply.started": "2023-03-05T14:46:21.831634Z",
          "shell.execute_reply": "2023-03-05T14:46:21.841448Z"
        },
        "trusted": true,
        "colab": {
          "base_uri": "https://localhost:8080/",
          "height": 36
        },
        "id": "KLJrDdt-Q2CT",
        "outputId": "adeaf988-7d40-47cf-d484-4992db649016"
      },
      "execution_count": 36,
      "outputs": [
        {
          "output_type": "execute_result",
          "data": {
            "text/plain": [
              "'Validation accuracy: 77.41%'"
            ],
            "application/vnd.google.colaboratory.intrinsic+json": {
              "type": "string"
            }
          },
          "metadata": {},
          "execution_count": 36
        }
      ],
      "id": "KLJrDdt-Q2CT"
    },
    {
      "cell_type": "code",
      "source": [
        "y_pred = dt.predict(X_test)\n",
        "acc = accuracy_score(y_test,y_pred)\n",
        "f'Testing accuracy: {round(acc*100,2)}%'"
      ],
      "metadata": {
        "execution": {
          "iopub.status.busy": "2023-03-05T14:46:21.843983Z",
          "iopub.execute_input": "2023-03-05T14:46:21.844292Z",
          "iopub.status.idle": "2023-03-05T14:46:21.855144Z",
          "shell.execute_reply.started": "2023-03-05T14:46:21.844248Z",
          "shell.execute_reply": "2023-03-05T14:46:21.853956Z"
        },
        "trusted": true,
        "colab": {
          "base_uri": "https://localhost:8080/",
          "height": 36
        },
        "id": "YIzl8LNpQ2CT",
        "outputId": "54fc6c99-0568-482a-ee81-8701488b913d"
      },
      "execution_count": 37,
      "outputs": [
        {
          "output_type": "execute_result",
          "data": {
            "text/plain": [
              "'Testing accuracy: 78.87%'"
            ],
            "application/vnd.google.colaboratory.intrinsic+json": {
              "type": "string"
            }
          },
          "metadata": {},
          "execution_count": 37
        }
      ],
      "id": "YIzl8LNpQ2CT"
    },
    {
      "cell_type": "code",
      "source": [
        "plot_tree(dt)"
      ],
      "metadata": {
        "execution": {
          "iopub.status.busy": "2023-03-05T14:46:21.857184Z",
          "iopub.execute_input": "2023-03-05T14:46:21.857569Z",
          "iopub.status.idle": "2023-03-05T14:46:22.630904Z",
          "shell.execute_reply.started": "2023-03-05T14:46:21.857531Z",
          "shell.execute_reply": "2023-03-05T14:46:22.629857Z"
        },
        "trusted": true,
        "colab": {
          "base_uri": "https://localhost:8080/",
          "height": 759
        },
        "id": "HvugtfghQ2CT",
        "outputId": "1ff4137d-cba1-4dad-9de8-dae09b2bd59d"
      },
      "execution_count": 38,
      "outputs": [
        {
          "output_type": "execute_result",
          "data": {
            "text/plain": [
              "[Text(0.5, 0.875, 'x[14] <= 0.25\\nentropy = 0.835\\nsamples = 5634\\nvalue = [4138, 1496]'),\n",
              " Text(0.25, 0.625, 'x[8] <= 0.25\\nentropy = 0.984\\nsamples = 3083\\nvalue = [1768, 1315]'),\n",
              " Text(0.125, 0.375, 'x[4] <= 0.146\\nentropy = 1.0\\nsamples = 2096\\nvalue = [1024, 1072]'),\n",
              " Text(0.0625, 0.125, 'entropy = 0.947\\nsamples = 1012\\nvalue = [370, 642]'),\n",
              " Text(0.1875, 0.125, 'entropy = 0.969\\nsamples = 1084\\nvalue = [654, 430]'),\n",
              " Text(0.375, 0.375, 'x[17] <= 0.715\\nentropy = 0.805\\nsamples = 987\\nvalue = [744, 243]'),\n",
              " Text(0.3125, 0.125, 'entropy = 0.749\\nsamples = 817\\nvalue = [642, 175]'),\n",
              " Text(0.4375, 0.125, 'entropy = 0.971\\nsamples = 170\\nvalue = [102, 68]'),\n",
              " Text(0.75, 0.625, 'x[17] <= 0.745\\nentropy = 0.369\\nsamples = 2551\\nvalue = [2370, 181]'),\n",
              " Text(0.625, 0.375, 'x[14] <= 0.75\\nentropy = 0.243\\nsamples = 1918\\nvalue = [1841, 77]'),\n",
              " Text(0.5625, 0.125, 'entropy = 0.379\\nsamples = 883\\nvalue = [818, 65]'),\n",
              " Text(0.6875, 0.125, 'entropy = 0.091\\nsamples = 1035\\nvalue = [1023, 12]'),\n",
              " Text(0.875, 0.375, 'x[4] <= 0.979\\nentropy = 0.644\\nsamples = 633\\nvalue = [529, 104]'),\n",
              " Text(0.8125, 0.125, 'entropy = 0.74\\nsamples = 464\\nvalue = [367, 97]'),\n",
              " Text(0.9375, 0.125, 'entropy = 0.249\\nsamples = 169\\nvalue = [162, 7]')]"
            ]
          },
          "metadata": {},
          "execution_count": 38
        },
        {
          "output_type": "display_data",
          "data": {
            "text/plain": [
              "<Figure size 600x600 with 1 Axes>"
            ],
            "image/png": "[encoded data removed]"
          },
          "metadata": {}
        }
      ],
      "id": "HvugtfghQ2CT"
    },
    {
      "cell_type": "markdown",
      "source": [
        "## Using features of GridSearchCV"
      ],
      "metadata": {
        "id": "9qknq5lAQ2CT"
      },
      "id": "9qknq5lAQ2CT"
    },
    {
      "cell_type": "code",
      "source": [
        "dt = DecisionTreeClassifier(criterion= 'gini',\n",
        " max_depth= 5,\n",
        " max_leaf_nodes= 7,\n",
        " min_samples_split= 2)\n",
        "dt = dt.fit(X_train,y_train)\n",
        "y_pred = dt.predict(X_train)\n",
        "acc = accuracy_score(y_train,y_pred)\n",
        "f'Training accuracy: {round(acc*100,2)}%'"
      ],
      "metadata": {
        "execution": {
          "iopub.status.busy": "2023-03-05T14:46:22.632560Z",
          "iopub.execute_input": "2023-03-05T14:46:22.632953Z",
          "iopub.status.idle": "2023-03-05T14:46:22.654701Z",
          "shell.execute_reply.started": "2023-03-05T14:46:22.632913Z",
          "shell.execute_reply": "2023-03-05T14:46:22.653619Z"
        },
        "trusted": true,
        "colab": {
          "base_uri": "https://localhost:8080/",
          "height": 36
        },
        "id": "gJ4m_0WiQ2CT",
        "outputId": "376c0f30-2ba6-4489-885d-bedbd8b993b5"
      },
      "execution_count": 39,
      "outputs": [
        {
          "output_type": "execute_result",
          "data": {
            "text/plain": [
              "'Training accuracy: 78.36%'"
            ],
            "application/vnd.google.colaboratory.intrinsic+json": {
              "type": "string"
            }
          },
          "metadata": {},
          "execution_count": 39
        }
      ],
      "id": "gJ4m_0WiQ2CT"
    },
    {
      "cell_type": "code",
      "source": [
        "y_pred = dt.predict(X_val)\n",
        "acc = accuracy_score(y_val,y_pred)\n",
        "f'Validation accuracy: {round(acc*100,2)}%'"
      ],
      "metadata": {
        "execution": {
          "iopub.status.busy": "2023-03-05T14:46:22.656226Z",
          "iopub.execute_input": "2023-03-05T14:46:22.656673Z",
          "iopub.status.idle": "2023-03-05T14:46:22.668834Z",
          "shell.execute_reply.started": "2023-03-05T14:46:22.656634Z",
          "shell.execute_reply": "2023-03-05T14:46:22.667817Z"
        },
        "trusted": true,
        "colab": {
          "base_uri": "https://localhost:8080/",
          "height": 36
        },
        "id": "VUXEAs5iQ2CU",
        "outputId": "365de6f4-a1f4-4e81-c5be-50a0b83776f5"
      },
      "execution_count": 40,
      "outputs": [
        {
          "output_type": "execute_result",
          "data": {
            "text/plain": [
              "'Validation accuracy: 78.55%'"
            ],
            "application/vnd.google.colaboratory.intrinsic+json": {
              "type": "string"
            }
          },
          "metadata": {},
          "execution_count": 40
        }
      ],
      "id": "VUXEAs5iQ2CU"
    },
    {
      "cell_type": "code",
      "source": [
        "y_pred = dt.predict(X_test)\n",
        "acc = accuracy_score(y_test,y_pred)\n",
        "f'Testing accuracy: {round(acc*100,2)}%'"
      ],
      "metadata": {
        "execution": {
          "iopub.status.busy": "2023-03-05T14:46:22.670097Z",
          "iopub.execute_input": "2023-03-05T14:46:22.671085Z",
          "iopub.status.idle": "2023-03-05T14:46:22.682818Z",
          "shell.execute_reply.started": "2023-03-05T14:46:22.671029Z",
          "shell.execute_reply": "2023-03-05T14:46:22.681814Z"
        },
        "trusted": true,
        "colab": {
          "base_uri": "https://localhost:8080/",
          "height": 36
        },
        "id": "JyCDOa-nQ2CU",
        "outputId": "98c4b85f-b794-4ca0-93b6-e3ca8022289f"
      },
      "execution_count": 41,
      "outputs": [
        {
          "output_type": "execute_result",
          "data": {
            "text/plain": [
              "'Testing accuracy: 79.57%'"
            ],
            "application/vnd.google.colaboratory.intrinsic+json": {
              "type": "string"
            }
          },
          "metadata": {},
          "execution_count": 41
        }
      ],
      "id": "JyCDOa-nQ2CU"
    },
    {
      "cell_type": "markdown",
      "source": [
        "## Random Forest Classifier"
      ],
      "metadata": {
        "id": "Sidm3JQEQ2CU"
      },
      "id": "Sidm3JQEQ2CU"
    },
    {
      "cell_type": "code",
      "source": [
        "from sklearn.ensemble import RandomForestClassifier\n",
        "\n",
        "rf = RandomForestClassifier(n_estimators=100, random_state=0)"
      ],
      "metadata": {
        "execution": {
          "iopub.status.busy": "2023-03-05T14:46:22.684743Z",
          "iopub.execute_input": "2023-03-05T14:46:22.685691Z",
          "iopub.status.idle": "2023-03-05T14:46:22.792460Z",
          "shell.execute_reply.started": "2023-03-05T14:46:22.685662Z",
          "shell.execute_reply": "2023-03-05T14:46:22.791482Z"
        },
        "trusted": true,
        "id": "FvoNEWZPQ2CU"
      },
      "execution_count": 42,
      "outputs": [],
      "id": "FvoNEWZPQ2CU"
    },
    {
      "cell_type": "code",
      "source": [
        "rf.fit(X_train,y_train)\n",
        "y_pred = dt.predict(X_train)\n",
        "acc = accuracy_score(y_train,y_pred)\n",
        "f'Training accuracy: {round(acc*100,2)}%'"
      ],
      "metadata": {
        "execution": {
          "iopub.status.busy": "2023-03-05T14:46:22.794557Z",
          "iopub.execute_input": "2023-03-05T14:46:22.795298Z",
          "iopub.status.idle": "2023-03-05T14:46:23.383449Z",
          "shell.execute_reply.started": "2023-03-05T14:46:22.795260Z",
          "shell.execute_reply": "2023-03-05T14:46:23.382292Z"
        },
        "trusted": true,
        "colab": {
          "base_uri": "https://localhost:8080/",
          "height": 36
        },
        "id": "i4wvhmARQ2CU",
        "outputId": "65ff5815-f896-488a-a7ae-d383b09bdd62"
      },
      "execution_count": 43,
      "outputs": [
        {
          "output_type": "execute_result",
          "data": {
            "text/plain": [
              "'Training accuracy: 78.36%'"
            ],
            "application/vnd.google.colaboratory.intrinsic+json": {
              "type": "string"
            }
          },
          "metadata": {},
          "execution_count": 43
        }
      ],
      "id": "i4wvhmARQ2CU"
    },
    {
      "cell_type": "code",
      "source": [
        "y_pred = rf.predict(X_val)\n",
        "acc = accuracy_score(y_val,y_pred)\n",
        "f'Validation accuracy: {round(acc*100,2)}%'"
      ],
      "metadata": {
        "execution": {
          "iopub.status.busy": "2023-03-05T14:46:23.385466Z",
          "iopub.execute_input": "2023-03-05T14:46:23.385848Z",
          "iopub.status.idle": "2023-03-05T14:46:23.423021Z",
          "shell.execute_reply.started": "2023-03-05T14:46:23.385810Z",
          "shell.execute_reply": "2023-03-05T14:46:23.421959Z"
        },
        "trusted": true,
        "colab": {
          "base_uri": "https://localhost:8080/",
          "height": 36
        },
        "id": "Qis6T-LkQ2CU",
        "outputId": "014610cf-7c07-4631-eee4-2592988a0cf3"
      },
      "execution_count": 44,
      "outputs": [
        {
          "output_type": "execute_result",
          "data": {
            "text/plain": [
              "'Validation accuracy: 78.27%'"
            ],
            "application/vnd.google.colaboratory.intrinsic+json": {
              "type": "string"
            }
          },
          "metadata": {},
          "execution_count": 44
        }
      ],
      "id": "Qis6T-LkQ2CU"
    },
    {
      "cell_type": "code",
      "source": [
        "y_pred = rf.predict(X_test)\n",
        "acc = accuracy_score(y_test,y_pred)\n",
        "f'Testing accuracy: {round(acc*100,2)}%'"
      ],
      "metadata": {
        "execution": {
          "iopub.status.busy": "2023-03-05T14:46:23.424721Z",
          "iopub.execute_input": "2023-03-05T14:46:23.425092Z",
          "iopub.status.idle": "2023-03-05T14:46:23.464941Z",
          "shell.execute_reply.started": "2023-03-05T14:46:23.425056Z",
          "shell.execute_reply": "2023-03-05T14:46:23.463944Z"
        },
        "trusted": true,
        "colab": {
          "base_uri": "https://localhost:8080/",
          "height": 36
        },
        "id": "a_FVtnzFQ2CU",
        "outputId": "07ad6dc0-04db-41c9-c717-83af9361a33d"
      },
      "execution_count": 45,
      "outputs": [
        {
          "output_type": "execute_result",
          "data": {
            "text/plain": [
              "'Testing accuracy: 79.72%'"
            ],
            "application/vnd.google.colaboratory.intrinsic+json": {
              "type": "string"
            }
          },
          "metadata": {},
          "execution_count": 45
        }
      ],
      "id": "a_FVtnzFQ2CU"
    },
    {
      "cell_type": "markdown",
      "source": [
        "## Using features of GridSearchCV"
      ],
      "metadata": {
        "id": "-nuBwIPLQ2CU"
      },
      "id": "-nuBwIPLQ2CU"
    },
    {
      "cell_type": "code",
      "source": [
        "rf1 = RandomForestClassifier()\n",
        "param_grid = [\n",
        " {'n_estimators': [10, 50, 100], 'max_features': [2, 4, 6, 8,12,14,16,18,20]},\n",
        " {'bootstrap': [False], 'n_estimators': [3, 10], 'max_features': [2, 3, 4]}]\n",
        "grid_search = GridSearchCV(rf1, param_grid,scoring='accuracy',return_train_score=False)\n",
        "grid_search.fit(X_train, y_train)"
      ],
      "metadata": {
        "execution": {
          "iopub.status.busy": "2023-03-05T14:46:23.466686Z",
          "iopub.execute_input": "2023-03-05T14:46:23.467049Z",
          "iopub.status.idle": "2023-03-05T14:47:19.104254Z",
          "shell.execute_reply.started": "2023-03-05T14:46:23.467014Z",
          "shell.execute_reply": "2023-03-05T14:47:19.103189Z"
        },
        "trusted": true,
        "colab": {
          "base_uri": "https://localhost:8080/",
          "height": 140
        },
        "id": "LiLXb_pVQ2CV",
        "outputId": "724f0573-77ce-4378-ab25-d73d88dadfe5"
      },
      "execution_count": 46,
      "outputs": [
        {
          "output_type": "execute_result",
          "data": {
            "text/plain": [
              "GridSearchCV(estimator=RandomForestClassifier(),\n",
              "             param_grid=[{'max_features': [2, 4, 6, 8, 12, 14, 16, 18, 20],\n",
              "                          'n_estimators': [10, 50, 100]},\n",
              "                         {'bootstrap': [False], 'max_features': [2, 3, 4],\n",
              "                          'n_estimators': [3, 10]}],\n",
              "             scoring='accuracy')"
            ],
            "text/html": [
              "<style>#sk-container-id-1 {color: black;background-color: white;}#sk-container-id-1 pre{padding: 0;}#sk-container-id-1 div.sk-toggleable {background-color: white;}#sk-container-id-1 label.sk-toggleable__label {cursor: pointer;display: block;width: 100%;margin-bottom: 0;padding: 0.3em;box-sizing: border-box;text-align: center;}#sk-container-id-1 label.sk-toggleable__label-arrow:before {content: \"▸\";float: left;margin-right: 0.25em;color: #696969;}#sk-container-id-1 label.sk-toggleable__label-arrow:hover:before {color: black;}#sk-container-id-1 div.sk-estimator:hover label.sk-toggleable__label-arrow:before {color: black;}#sk-container-id-1 div.sk-toggleable__content {max-height: 0;max-width: 0;overflow: hidden;text-align: left;background-color: #f0f8ff;}#sk-container-id-1 div.sk-toggleable__content pre {margin: 0.2em;color: black;border-radius: 0.25em;background-color: #f0f8ff;}#sk-container-id-1 input.sk-toggleable__control:checked~div.sk-toggleable__content {max-height: 200px;max-width: 100%;overflow: auto;}#sk-container-id-1 input.sk-toggleable__control:checked~label.sk-toggleable__label-arrow:before {content: \"▾\";}#sk-container-id-1 div.sk-estimator input.sk-toggleable__control:checked~label.sk-toggleable__label {background-color: #d4ebff;}#sk-container-id-1 div.sk-label input.sk-toggleable__control:checked~label.sk-toggleable__label {background-color: #d4ebff;}#sk-container-id-1 input.sk-hidden--visually {border: 0;clip: rect(1px 1px 1px 1px);clip: rect(1px, 1px, 1px, 1px);height: 1px;margin: -1px;overflow: hidden;padding: 0;position: absolute;width: 1px;}#sk-container-id-1 div.sk-estimator {font-family: monospace;background-color: #f0f8ff;border: 1px dotted black;border-radius: 0.25em;box-sizing: border-box;margin-bottom: 0.5em;}#sk-container-id-1 div.sk-estimator:hover {background-color: #d4ebff;}#sk-container-id-1 div.sk-parallel-item::after {content: \"\";width: 100%;border-bottom: 1px solid gray;flex-grow: 1;}#sk-container-id-1 div.sk-label:hover label.sk-toggleable__label {background-color: #d4ebff;}#sk-container-id-1 div.sk-serial::before {content: \"\";position: absolute;border-left: 1px solid gray;box-sizing: border-box;top: 0;bottom: 0;left: 50%;z-index: 0;}#sk-container-id-1 div.sk-serial {display: flex;flex-direction: column;align-items: center;background-color: white;padding-right: 0.2em;padding-left: 0.2em;position: relative;}#sk-container-id-1 div.sk-item {position: relative;z-index: 1;}#sk-container-id-1 div.sk-parallel {display: flex;align-items: stretch;justify-content: center;background-color: white;position: relative;}#sk-container-id-1 div.sk-item::before, #sk-container-id-1 div.sk-parallel-item::before {content: \"\";position: absolute;border-left: 1px solid gray;box-sizing: border-box;top: 0;bottom: 0;left: 50%;z-index: -1;}#sk-container-id-1 div.sk-parallel-item {display: flex;flex-direction: column;z-index: 1;position: relative;background-color: white;}#sk-container-id-1 div.sk-parallel-item:first-child::after {align-self: flex-end;width: 50%;}#sk-container-id-1 div.sk-parallel-item:last-child::after {align-self: flex-start;width: 50%;}#sk-container-id-1 div.sk-parallel-item:only-child::after {width: 0;}#sk-container-id-1 div.sk-dashed-wrapped {border: 1px dashed gray;margin: 0 0.4em 0.5em 0.4em;box-sizing: border-box;padding-bottom: 0.4em;background-color: white;}#sk-container-id-1 div.sk-label label {font-family: monospace;font-weight: bold;display: inline-block;line-height: 1.2em;}#sk-container-id-1 div.sk-label-container {text-align: center;}#sk-container-id-1 div.sk-container {/* jupyter's `normalize.less` sets `[hidden] { display: none; }` but bootstrap.min.css set `[hidden] { display: none !important; }` so we also need the `!important` here to be able to override the default hidden behavior on the sphinx rendered scikit-learn.org. See: https://github.com/scikit-learn/scikit-learn/issues/21755 */display: inline-block !important;position: relative;}#sk-container-id-1 div.sk-text-repr-fallback {display: none;}</style><div id=\"sk-container-id-1\" class=\"sk-top-container\"><div class=\"sk-text-repr-fallback\"><pre>GridSearchCV(estimator=RandomForestClassifier(),\n",
              "             param_grid=[{&#x27;max_features&#x27;: [2, 4, 6, 8, 12, 14, 16, 18, 20],\n",
              "                          &#x27;n_estimators&#x27;: [10, 50, 100]},\n",
              "                         {&#x27;bootstrap&#x27;: [False], &#x27;max_features&#x27;: [2, 3, 4],\n",
              "                          &#x27;n_estimators&#x27;: [3, 10]}],\n",
              "             scoring=&#x27;accuracy&#x27;)</pre><b>In a Jupyter environment, please rerun this cell to show the HTML representation or trust the notebook. <br />On GitHub, the HTML representation is unable to render, please try loading this page with nbviewer.org.</b></div><div class=\"sk-container\" hidden><div class=\"sk-item sk-dashed-wrapped\"><div class=\"sk-label-container\"><div class=\"sk-label sk-toggleable\"><input class=\"sk-toggleable__control sk-hidden--visually\" id=\"sk-estimator-id-1\" type=\"checkbox\" ><label for=\"sk-estimator-id-1\" class=\"sk-toggleable__label sk-toggleable__label-arrow\">GridSearchCV</label><div class=\"sk-toggleable__content\"><pre>GridSearchCV(estimator=RandomForestClassifier(),\n",
              "             param_grid=[{&#x27;max_features&#x27;: [2, 4, 6, 8, 12, 14, 16, 18, 20],\n",
              "                          &#x27;n_estimators&#x27;: [10, 50, 100]},\n",
              "                         {&#x27;bootstrap&#x27;: [False], &#x27;max_features&#x27;: [2, 3, 4],\n",
              "                          &#x27;n_estimators&#x27;: [3, 10]}],\n",
              "             scoring=&#x27;accuracy&#x27;)</pre></div></div></div><div class=\"sk-parallel\"><div class=\"sk-parallel-item\"><div class=\"sk-item\"><div class=\"sk-label-container\"><div class=\"sk-label sk-toggleable\"><input class=\"sk-toggleable__control sk-hidden--visually\" id=\"sk-estimator-id-2\" type=\"checkbox\" ><label for=\"sk-estimator-id-2\" class=\"sk-toggleable__label sk-toggleable__label-arrow\">estimator: RandomForestClassifier</label><div class=\"sk-toggleable__content\"><pre>RandomForestClassifier()</pre></div></div></div><div class=\"sk-serial\"><div class=\"sk-item\"><div class=\"sk-estimator sk-toggleable\"><input class=\"sk-toggleable__control sk-hidden--visually\" id=\"sk-estimator-id-3\" type=\"checkbox\" ><label for=\"sk-estimator-id-3\" class=\"sk-toggleable__label sk-toggleable__label-arrow\">RandomForestClassifier</label><div class=\"sk-toggleable__content\"><pre>RandomForestClassifier()</pre></div></div></div></div></div></div></div></div></div></div>"
            ]
          },
          "metadata": {},
          "execution_count": 46
        }
      ],
      "id": "LiLXb_pVQ2CV"
    },
    {
      "cell_type": "code",
      "source": [
        "grid_search.best_params_"
      ],
      "metadata": {
        "execution": {
          "iopub.status.busy": "2023-03-05T14:47:19.108626Z",
          "iopub.execute_input": "2023-03-05T14:47:19.110918Z",
          "iopub.status.idle": "2023-03-05T14:47:19.121576Z",
          "shell.execute_reply.started": "2023-03-05T14:47:19.110866Z",
          "shell.execute_reply": "2023-03-05T14:47:19.120448Z"
        },
        "trusted": true,
        "colab": {
          "base_uri": "https://localhost:8080/"
        },
        "id": "kUUuxeWyQ2CV",
        "outputId": "80c9dd61-9a27-4d2a-c2c8-55b1c5fece30"
      },
      "execution_count": 47,
      "outputs": [
        {
          "output_type": "execute_result",
          "data": {
            "text/plain": [
              "{'max_features': 6, 'n_estimators': 50}"
            ]
          },
          "metadata": {},
          "execution_count": 47
        }
      ],
      "id": "kUUuxeWyQ2CV"
    },
    {
      "cell_type": "code",
      "source": [
        "rf2 = RandomForestClassifier(max_features= 4, n_estimators= 100, random_state=0)\n",
        "rf2.fit(X_train,y_train)\n",
        "y_pred = rf2.predict(X_train)\n",
        "acc = accuracy_score(y_train,y_pred)\n",
        "f'Training accuracy: {round(acc*100,2)}%'"
      ],
      "metadata": {
        "execution": {
          "iopub.status.busy": "2023-03-05T14:47:19.126308Z",
          "iopub.execute_input": "2023-03-05T14:47:19.128909Z",
          "iopub.status.idle": "2023-03-05T14:47:19.884788Z",
          "shell.execute_reply.started": "2023-03-05T14:47:19.128859Z",
          "shell.execute_reply": "2023-03-05T14:47:19.883632Z"
        },
        "trusted": true,
        "colab": {
          "base_uri": "https://localhost:8080/",
          "height": 36
        },
        "id": "ufYbxQLlQ2CV",
        "outputId": "344c6fa1-200b-46d1-f9d9-859538e91112"
      },
      "execution_count": 48,
      "outputs": [
        {
          "output_type": "execute_result",
          "data": {
            "text/plain": [
              "'Training accuracy: 99.86%'"
            ],
            "application/vnd.google.colaboratory.intrinsic+json": {
              "type": "string"
            }
          },
          "metadata": {},
          "execution_count": 48
        }
      ],
      "id": "ufYbxQLlQ2CV"
    },
    {
      "cell_type": "code",
      "source": [
        "y_pred = rf2.predict(X_val)\n",
        "acc = accuracy_score(y_val,y_pred)\n",
        "f'Validation accuracy: {round(acc*100,2)}%'"
      ],
      "metadata": {
        "execution": {
          "iopub.status.busy": "2023-03-05T14:47:19.886254Z",
          "iopub.execute_input": "2023-03-05T14:47:19.886852Z",
          "iopub.status.idle": "2023-03-05T14:47:19.926679Z",
          "shell.execute_reply.started": "2023-03-05T14:47:19.886809Z",
          "shell.execute_reply": "2023-03-05T14:47:19.925799Z"
        },
        "trusted": true,
        "colab": {
          "base_uri": "https://localhost:8080/",
          "height": 36
        },
        "id": "uEHrZfkoQ2CV",
        "outputId": "402cd045-2a31-4628-819a-11bd5539d7e5"
      },
      "execution_count": 49,
      "outputs": [
        {
          "output_type": "execute_result",
          "data": {
            "text/plain": [
              "'Validation accuracy: 78.27%'"
            ],
            "application/vnd.google.colaboratory.intrinsic+json": {
              "type": "string"
            }
          },
          "metadata": {},
          "execution_count": 49
        }
      ],
      "id": "uEHrZfkoQ2CV"
    },
    {
      "cell_type": "code",
      "source": [
        "y_pred = rf2.predict(X_test)\n",
        "acc = accuracy_score(y_test,y_pred)\n",
        "f'Testing accuracy: {round(acc*100,2)}%'"
      ],
      "metadata": {
        "execution": {
          "iopub.status.busy": "2023-03-05T14:47:19.927990Z",
          "iopub.execute_input": "2023-03-05T14:47:19.928316Z",
          "iopub.status.idle": "2023-03-05T14:47:19.967607Z",
          "shell.execute_reply.started": "2023-03-05T14:47:19.928280Z",
          "shell.execute_reply": "2023-03-05T14:47:19.966526Z"
        },
        "trusted": true,
        "colab": {
          "base_uri": "https://localhost:8080/",
          "height": 36
        },
        "id": "ZJRhgtE8Q2CV",
        "outputId": "8b814ed2-3e9c-4dd4-a4a1-89dac0cdeb28"
      },
      "execution_count": 50,
      "outputs": [
        {
          "output_type": "execute_result",
          "data": {
            "text/plain": [
              "'Testing accuracy: 79.72%'"
            ],
            "application/vnd.google.colaboratory.intrinsic+json": {
              "type": "string"
            }
          },
          "metadata": {},
          "execution_count": 50
        }
      ],
      "id": "ZJRhgtE8Q2CV"
    },
    {
      "cell_type": "markdown",
      "source": [
        "## The Telco Customer Churn is best predicted using Logistic Regression which has a testing accuracy of 80%"
      ],
      "metadata": {
        "id": "CU2IfGXlQ2CV"
      },
      "id": "CU2IfGXlQ2CV"
    },
    {
      "cell_type": "code",
      "source": [],
      "metadata": {
        "id": "sbH2kvr9V1UY"
      },
      "id": "sbH2kvr9V1UY",
      "execution_count": null,
      "outputs": []
    },
    {
      "cell_type": "code",
      "source": [
        "import pickle"
      ],
      "metadata": {
        "id": "pxdwZlwyaB3q"
      },
      "id": "pxdwZlwyaB3q",
      "execution_count": 73,
      "outputs": []
    },
    {
      "cell_type": "code",
      "source": [
        "pickle.dump(log,open('logmodel.pkl','wb'))"
      ],
      "metadata": {
        "id": "0loK4VkCaGcn"
      },
      "id": "0loK4VkCaGcn",
      "execution_count": 77,
      "outputs": []
    },
    {
      "cell_type": "code",
      "source": [
        "pickled_model=pickle.load(open('logmodel.pkl','rb'))"
      ],
      "metadata": {
        "id": "SzupADLka0Gt"
      },
      "id": "SzupADLka0Gt",
      "execution_count": 78,
      "outputs": []
    },
    {
      "cell_type": "code",
      "source": [],
      "metadata": {
        "id": "lfvUhab8bF-s"
      },
      "id": "lfvUhab8bF-s",
      "execution_count": null,
      "outputs": []
    }
  ]
}