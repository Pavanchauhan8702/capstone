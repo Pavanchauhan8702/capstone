{
  "cells": [
    {
      "cell_type": "code",
      "execution_count": 3,
      "id": "l454yhv9Q2CI",
      "metadata": {
        "execution": {
          "iopub.execute_input": "2023-03-05T14:46:07.980754Z",
          "iopub.status.busy": "2023-03-05T14:46:07.980474Z",
          "iopub.status.idle": "2023-03-05T14:46:09.182166Z",
          "shell.execute_reply": "2023-03-05T14:46:09.180926Z",
          "shell.execute_reply.started": "2023-03-05T14:46:07.980726Z"
        },
        "id": "l454yhv9Q2CI",
        "trusted": true
      },
      "outputs": [
        {
          "name": "stdout",
          "output_type": "stream",
          "text": [
            "Unexpected exception formatting exception. Falling back to standard exception\n"
          ]
        },
        {
          "name": "stderr",
          "output_type": "stream",
          "text": [
            "Traceback (most recent call last):\n",
            "  File \"e:\\ml project\\capstone\\.venv\\lib\\site-packages\\IPython\\core\\interactiveshell.py\", line 3505, in run_code\n",
            "  File \"C:\\Users\\palla\\AppData\\Local\\Temp\\ipykernel_18976\\3992837719.py\", line 1, in <module>\n",
            "    import sklearn\n",
            "ModuleNotFoundError: No module named 'sklearn'\n",
            "\n",
            "During handling of the above exception, another exception occurred:\n",
            "\n",
            "Traceback (most recent call last):\n",
            "  File \"e:\\ml project\\capstone\\.venv\\lib\\site-packages\\pygments\\styles\\__init__.py\", line 82, in get_style_by_name\n",
            "ModuleNotFoundError: No module named 'pygments.styles.default'\n",
            "\n",
            "During handling of the above exception, another exception occurred:\n",
            "\n",
            "Traceback (most recent call last):\n",
            "  File \"e:\\ml project\\capstone\\.venv\\lib\\site-packages\\IPython\\core\\interactiveshell.py\", line 2102, in showtraceback\n",
            "  File \"e:\\ml project\\capstone\\.venv\\lib\\site-packages\\IPython\\core\\ultratb.py\", line 1310, in structured_traceback\n",
            "  File \"e:\\ml project\\capstone\\.venv\\lib\\site-packages\\IPython\\core\\ultratb.py\", line 1199, in structured_traceback\n",
            "  File \"e:\\ml project\\capstone\\.venv\\lib\\site-packages\\IPython\\core\\ultratb.py\", line 1052, in structured_traceback\n",
            "  File \"e:\\ml project\\capstone\\.venv\\lib\\site-packages\\IPython\\core\\ultratb.py\", line 953, in format_exception_as_a_whole\n",
            "  File \"e:\\ml project\\capstone\\.venv\\lib\\site-packages\\IPython\\core\\ultratb.py\", line 1004, in get_records\n",
            "  File \"e:\\ml project\\capstone\\.venv\\lib\\site-packages\\pygments\\styles\\__init__.py\", line 84, in get_style_by_name\n",
            "pygments.util.ClassNotFound: Could not find style module 'default', though it should be builtin.\n"
          ]
        }
      ],
      "source": [
        "\n",
        "import sklearn\n",
        "\n",
        "import numpy as np\n",
        "import pandas as pd\n",
        "import matplotlib.pyplot as plt\n",
        "from sklearn.linear_model import LassoCV\n",
        "from sklearn.feature_selection import SelectKBest, chi2\n"
      ]
    },
    {
      "cell_type": "markdown",
      "id": "oYNGoqrLQ2CL",
      "metadata": {
        "id": "oYNGoqrLQ2CL"
      },
      "source": [
        "## Importing Dataset"
      ]
    },
    {
      "cell_type": "code",
      "execution_count": 4,
      "id": "NcQrJDMsQ2CM",
      "metadata": {
        "colab": {
          "base_uri": "https://localhost:8080/",
          "height": 386
        },
        "execution": {
          "iopub.execute_input": "2023-03-05T14:46:09.191339Z",
          "iopub.status.busy": "2023-03-05T14:46:09.188697Z",
          "iopub.status.idle": "2023-03-05T14:46:09.300520Z",
          "shell.execute_reply": "2023-03-05T14:46:09.299461Z",
          "shell.execute_reply.started": "2023-03-05T14:46:09.191295Z"
        },
        "id": "NcQrJDMsQ2CM",
        "outputId": "b6394d8c-8bc2-4fca-e007-bcbc02271ba4",
        "scrolled": true,
        "trusted": true
      },
      "outputs": [
        {
          "name": "stdout",
          "output_type": "stream",
          "text": [
            "Unexpected exception formatting exception. Falling back to standard exception\n"
          ]
        },
        {
          "name": "stderr",
          "output_type": "stream",
          "text": [
            "Traceback (most recent call last):\n",
            "  File \"e:\\ml project\\capstone\\.venv\\lib\\site-packages\\IPython\\core\\interactiveshell.py\", line 3505, in run_code\n",
            "  File \"C:\\Users\\palla\\AppData\\Local\\Temp\\ipykernel_18976\\518382160.py\", line 1, in <module>\n",
            "    df = pd.read_excel('/content/train.xlsx')\n",
            "NameError: name 'pd' is not defined\n",
            "\n",
            "During handling of the above exception, another exception occurred:\n",
            "\n",
            "Traceback (most recent call last):\n",
            "  File \"e:\\ml project\\capstone\\.venv\\lib\\site-packages\\pygments\\styles\\__init__.py\", line 82, in get_style_by_name\n",
            "ModuleNotFoundError: No module named 'pygments.styles.default'\n",
            "\n",
            "During handling of the above exception, another exception occurred:\n",
            "\n",
            "Traceback (most recent call last):\n",
            "  File \"e:\\ml project\\capstone\\.venv\\lib\\site-packages\\IPython\\core\\interactiveshell.py\", line 2102, in showtraceback\n",
            "  File \"e:\\ml project\\capstone\\.venv\\lib\\site-packages\\IPython\\core\\ultratb.py\", line 1310, in structured_traceback\n",
            "  File \"e:\\ml project\\capstone\\.venv\\lib\\site-packages\\IPython\\core\\ultratb.py\", line 1199, in structured_traceback\n",
            "  File \"e:\\ml project\\capstone\\.venv\\lib\\site-packages\\IPython\\core\\ultratb.py\", line 1052, in structured_traceback\n",
            "  File \"e:\\ml project\\capstone\\.venv\\lib\\site-packages\\IPython\\core\\ultratb.py\", line 953, in format_exception_as_a_whole\n",
            "  File \"e:\\ml project\\capstone\\.venv\\lib\\site-packages\\IPython\\core\\ultratb.py\", line 1004, in get_records\n",
            "  File \"e:\\ml project\\capstone\\.venv\\lib\\site-packages\\pygments\\styles\\__init__.py\", line 84, in get_style_by_name\n",
            "pygments.util.ClassNotFound: Could not find style module 'default', though it should be builtin.\n"
          ]
        }
      ],
      "source": [
        "df = pd.read_excel('/content/train.xlsx')\n",
        "df.head()"
      ]
    },
    {
      "cell_type": "code",
      "execution_count": 5,
      "id": "zsSnsBxwQ2CN",
      "metadata": {
        "execution": {
          "iopub.execute_input": "2023-03-05T14:46:09.307303Z",
          "iopub.status.busy": "2023-03-05T14:46:09.304954Z",
          "iopub.status.idle": "2023-03-05T14:46:09.328126Z",
          "shell.execute_reply": "2023-03-05T14:46:09.327113Z",
          "shell.execute_reply.started": "2023-03-05T14:46:09.307263Z"
        },
        "id": "zsSnsBxwQ2CN",
        "trusted": true
      },
      "outputs": [
        {
          "name": "stdout",
          "output_type": "stream",
          "text": [
            "Unexpected exception formatting exception. Falling back to standard exception\n"
          ]
        },
        {
          "name": "stderr",
          "output_type": "stream",
          "text": [
            "Traceback (most recent call last):\n",
            "  File \"e:\\ml project\\capstone\\.venv\\lib\\site-packages\\IPython\\core\\interactiveshell.py\", line 3505, in run_code\n",
            "  File \"C:\\Users\\palla\\AppData\\Local\\Temp\\ipykernel_18976\\1379821321.py\", line 1, in <module>\n",
            "    df.dropna(inplace=True)\n",
            "NameError: name 'df' is not defined\n",
            "\n",
            "During handling of the above exception, another exception occurred:\n",
            "\n",
            "Traceback (most recent call last):\n",
            "  File \"e:\\ml project\\capstone\\.venv\\lib\\site-packages\\pygments\\styles\\__init__.py\", line 82, in get_style_by_name\n",
            "ModuleNotFoundError: No module named 'pygments.styles.default'\n",
            "\n",
            "During handling of the above exception, another exception occurred:\n",
            "\n",
            "Traceback (most recent call last):\n",
            "  File \"e:\\ml project\\capstone\\.venv\\lib\\site-packages\\IPython\\core\\interactiveshell.py\", line 2102, in showtraceback\n",
            "  File \"e:\\ml project\\capstone\\.venv\\lib\\site-packages\\IPython\\core\\ultratb.py\", line 1310, in structured_traceback\n",
            "  File \"e:\\ml project\\capstone\\.venv\\lib\\site-packages\\IPython\\core\\ultratb.py\", line 1199, in structured_traceback\n",
            "  File \"e:\\ml project\\capstone\\.venv\\lib\\site-packages\\IPython\\core\\ultratb.py\", line 1052, in structured_traceback\n",
            "  File \"e:\\ml project\\capstone\\.venv\\lib\\site-packages\\IPython\\core\\ultratb.py\", line 953, in format_exception_as_a_whole\n",
            "  File \"e:\\ml project\\capstone\\.venv\\lib\\site-packages\\IPython\\core\\ultratb.py\", line 1004, in get_records\n",
            "  File \"e:\\ml project\\capstone\\.venv\\lib\\site-packages\\pygments\\styles\\__init__.py\", line 84, in get_style_by_name\n",
            "pygments.util.ClassNotFound: Could not find style module 'default', though it should be builtin.\n"
          ]
        }
      ],
      "source": [
        "df.dropna(inplace=True)"
      ]
    },
    {
      "cell_type": "code",
      "execution_count": 6,
      "id": "JHZiOgbPQ2CN",
      "metadata": {
        "colab": {
          "base_uri": "https://localhost:8080/"
        },
        "execution": {
          "iopub.execute_input": "2023-03-05T14:46:09.336574Z",
          "iopub.status.busy": "2023-03-05T14:46:09.334063Z",
          "iopub.status.idle": "2023-03-05T14:46:09.371188Z",
          "shell.execute_reply": "2023-03-05T14:46:09.370026Z",
          "shell.execute_reply.started": "2023-03-05T14:46:09.336523Z"
        },
        "id": "JHZiOgbPQ2CN",
        "outputId": "21d164e0-d3c7-4bd9-95cb-2c7da8edcca6",
        "trusted": true
      },
      "outputs": [
        {
          "name": "stdout",
          "output_type": "stream",
          "text": [
            "Unexpected exception formatting exception. Falling back to standard exception\n"
          ]
        },
        {
          "name": "stderr",
          "output_type": "stream",
          "text": [
            "Traceback (most recent call last):\n",
            "  File \"e:\\ml project\\capstone\\.venv\\lib\\site-packages\\IPython\\core\\interactiveshell.py\", line 3505, in run_code\n",
            "  File \"C:\\Users\\palla\\AppData\\Local\\Temp\\ipykernel_18976\\3771845804.py\", line 1, in <module>\n",
            "    df.info()\n",
            "NameError: name 'df' is not defined\n",
            "\n",
            "During handling of the above exception, another exception occurred:\n",
            "\n",
            "Traceback (most recent call last):\n",
            "  File \"e:\\ml project\\capstone\\.venv\\lib\\site-packages\\pygments\\styles\\__init__.py\", line 82, in get_style_by_name\n",
            "ModuleNotFoundError: No module named 'pygments.styles.default'\n",
            "\n",
            "During handling of the above exception, another exception occurred:\n",
            "\n",
            "Traceback (most recent call last):\n",
            "  File \"e:\\ml project\\capstone\\.venv\\lib\\site-packages\\IPython\\core\\interactiveshell.py\", line 2102, in showtraceback\n",
            "  File \"e:\\ml project\\capstone\\.venv\\lib\\site-packages\\IPython\\core\\ultratb.py\", line 1310, in structured_traceback\n",
            "  File \"e:\\ml project\\capstone\\.venv\\lib\\site-packages\\IPython\\core\\ultratb.py\", line 1199, in structured_traceback\n",
            "  File \"e:\\ml project\\capstone\\.venv\\lib\\site-packages\\IPython\\core\\ultratb.py\", line 1052, in structured_traceback\n",
            "  File \"e:\\ml project\\capstone\\.venv\\lib\\site-packages\\IPython\\core\\ultratb.py\", line 953, in format_exception_as_a_whole\n",
            "  File \"e:\\ml project\\capstone\\.venv\\lib\\site-packages\\IPython\\core\\ultratb.py\", line 1004, in get_records\n",
            "  File \"e:\\ml project\\capstone\\.venv\\lib\\site-packages\\pygments\\styles\\__init__.py\", line 84, in get_style_by_name\n",
            "pygments.util.ClassNotFound: Could not find style module 'default', though it should be builtin.\n"
          ]
        }
      ],
      "source": [
        "df.info()"
      ]
    },
    {
      "cell_type": "code",
      "execution_count": 7,
      "id": "sJZ1vHNZQ2CO",
      "metadata": {
        "colab": {
          "base_uri": "https://localhost:8080/",
          "height": 300
        },
        "execution": {
          "iopub.execute_input": "2023-03-05T14:46:09.378394Z",
          "iopub.status.busy": "2023-03-05T14:46:09.375838Z",
          "iopub.status.idle": "2023-03-05T14:46:09.410608Z",
          "shell.execute_reply": "2023-03-05T14:46:09.409471Z",
          "shell.execute_reply.started": "2023-03-05T14:46:09.378351Z"
        },
        "id": "sJZ1vHNZQ2CO",
        "outputId": "6a2b9f8d-4f1c-4c46-847c-a0b9f3fcb1b1",
        "trusted": true
      },
      "outputs": [
        {
          "name": "stdout",
          "output_type": "stream",
          "text": [
            "Unexpected exception formatting exception. Falling back to standard exception\n"
          ]
        },
        {
          "name": "stderr",
          "output_type": "stream",
          "text": [
            "Traceback (most recent call last):\n",
            "  File \"e:\\ml project\\capstone\\.venv\\lib\\site-packages\\IPython\\core\\interactiveshell.py\", line 3505, in run_code\n",
            "  File \"C:\\Users\\palla\\AppData\\Local\\Temp\\ipykernel_18976\\3627053830.py\", line 1, in <module>\n",
            "    df.describe()\n",
            "NameError: name 'df' is not defined\n",
            "\n",
            "During handling of the above exception, another exception occurred:\n",
            "\n",
            "Traceback (most recent call last):\n",
            "  File \"e:\\ml project\\capstone\\.venv\\lib\\site-packages\\pygments\\styles\\__init__.py\", line 82, in get_style_by_name\n",
            "ModuleNotFoundError: No module named 'pygments.styles.default'\n",
            "\n",
            "During handling of the above exception, another exception occurred:\n",
            "\n",
            "Traceback (most recent call last):\n",
            "  File \"e:\\ml project\\capstone\\.venv\\lib\\site-packages\\IPython\\core\\interactiveshell.py\", line 2102, in showtraceback\n",
            "  File \"e:\\ml project\\capstone\\.venv\\lib\\site-packages\\IPython\\core\\ultratb.py\", line 1310, in structured_traceback\n",
            "  File \"e:\\ml project\\capstone\\.venv\\lib\\site-packages\\IPython\\core\\ultratb.py\", line 1199, in structured_traceback\n",
            "  File \"e:\\ml project\\capstone\\.venv\\lib\\site-packages\\IPython\\core\\ultratb.py\", line 1052, in structured_traceback\n",
            "  File \"e:\\ml project\\capstone\\.venv\\lib\\site-packages\\IPython\\core\\ultratb.py\", line 953, in format_exception_as_a_whole\n",
            "  File \"e:\\ml project\\capstone\\.venv\\lib\\site-packages\\IPython\\core\\ultratb.py\", line 1004, in get_records\n",
            "  File \"e:\\ml project\\capstone\\.venv\\lib\\site-packages\\pygments\\styles\\__init__.py\", line 84, in get_style_by_name\n",
            "pygments.util.ClassNotFound: Could not find style module 'default', though it should be builtin.\n"
          ]
        }
      ],
      "source": [
        "df.describe()"
      ]
    },
    {
      "cell_type": "code",
      "execution_count": 8,
      "id": "YaAvnyNpQ2CO",
      "metadata": {
        "colab": {
          "base_uri": "https://localhost:8080/",
          "height": 454
        },
        "execution": {
          "iopub.execute_input": "2023-03-05T14:46:09.418448Z",
          "iopub.status.busy": "2023-03-05T14:46:09.415737Z",
          "iopub.status.idle": "2023-03-05T14:46:09.787647Z",
          "shell.execute_reply": "2023-03-05T14:46:09.786210Z",
          "shell.execute_reply.started": "2023-03-05T14:46:09.418400Z"
        },
        "id": "YaAvnyNpQ2CO",
        "outputId": "37d8a188-f3dd-4abc-8cf7-315536ebcebd",
        "trusted": true
      },
      "outputs": [
        {
          "name": "stdout",
          "output_type": "stream",
          "text": [
            "Unexpected exception formatting exception. Falling back to standard exception\n"
          ]
        },
        {
          "name": "stderr",
          "output_type": "stream",
          "text": [
            "Traceback (most recent call last):\n",
            "  File \"e:\\ml project\\capstone\\.venv\\lib\\site-packages\\IPython\\core\\interactiveshell.py\", line 3505, in run_code\n",
            "  File \"C:\\Users\\palla\\AppData\\Local\\Temp\\ipykernel_18976\\2535748615.py\", line 1, in <module>\n",
            "    plt.matshow(df.corr())\n",
            "NameError: name 'plt' is not defined\n",
            "\n",
            "During handling of the above exception, another exception occurred:\n",
            "\n",
            "Traceback (most recent call last):\n",
            "  File \"e:\\ml project\\capstone\\.venv\\lib\\site-packages\\pygments\\styles\\__init__.py\", line 82, in get_style_by_name\n",
            "ModuleNotFoundError: No module named 'pygments.styles.default'\n",
            "\n",
            "During handling of the above exception, another exception occurred:\n",
            "\n",
            "Traceback (most recent call last):\n",
            "  File \"e:\\ml project\\capstone\\.venv\\lib\\site-packages\\IPython\\core\\interactiveshell.py\", line 2102, in showtraceback\n",
            "  File \"e:\\ml project\\capstone\\.venv\\lib\\site-packages\\IPython\\core\\ultratb.py\", line 1310, in structured_traceback\n",
            "  File \"e:\\ml project\\capstone\\.venv\\lib\\site-packages\\IPython\\core\\ultratb.py\", line 1199, in structured_traceback\n",
            "  File \"e:\\ml project\\capstone\\.venv\\lib\\site-packages\\IPython\\core\\ultratb.py\", line 1052, in structured_traceback\n",
            "  File \"e:\\ml project\\capstone\\.venv\\lib\\site-packages\\IPython\\core\\ultratb.py\", line 953, in format_exception_as_a_whole\n",
            "  File \"e:\\ml project\\capstone\\.venv\\lib\\site-packages\\IPython\\core\\ultratb.py\", line 1004, in get_records\n",
            "  File \"e:\\ml project\\capstone\\.venv\\lib\\site-packages\\pygments\\styles\\__init__.py\", line 84, in get_style_by_name\n",
            "pygments.util.ClassNotFound: Could not find style module 'default', though it should be builtin.\n"
          ]
        }
      ],
      "source": [
        "plt.matshow(df.corr())"
      ]
    },
    {
      "cell_type": "markdown",
      "id": "HRGPmr_CQ2CO",
      "metadata": {
        "id": "HRGPmr_CQ2CO"
      },
      "source": [
        "## Splitting dataset into X(features) and y(labels)"
      ]
    },
    {
      "cell_type": "code",
      "execution_count": 9,
      "id": "eQZ_ndc0Q2CP",
      "metadata": {
        "colab": {
          "base_uri": "https://localhost:8080/",
          "height": 339
        },
        "execution": {
          "iopub.execute_input": "2023-03-05T14:46:09.789530Z",
          "iopub.status.busy": "2023-03-05T14:46:09.789176Z",
          "iopub.status.idle": "2023-03-05T14:46:09.846757Z",
          "shell.execute_reply": "2023-03-05T14:46:09.845763Z",
          "shell.execute_reply.started": "2023-03-05T14:46:09.789491Z"
        },
        "id": "eQZ_ndc0Q2CP",
        "outputId": "47342cad-31bb-4a29-c9e1-80afbee17113",
        "trusted": true
      },
      "outputs": [
        {
          "name": "stdout",
          "output_type": "stream",
          "text": [
            "Unexpected exception formatting exception. Falling back to standard exception\n"
          ]
        },
        {
          "name": "stderr",
          "output_type": "stream",
          "text": [
            "Traceback (most recent call last):\n",
            "  File \"e:\\ml project\\capstone\\.venv\\lib\\site-packages\\IPython\\core\\interactiveshell.py\", line 3505, in run_code\n",
            "  File \"C:\\Users\\palla\\AppData\\Local\\Temp\\ipykernel_18976\\4007033419.py\", line 1, in <module>\n",
            "    X=df.iloc[:,1:-1]\n",
            "NameError: name 'df' is not defined\n",
            "\n",
            "During handling of the above exception, another exception occurred:\n",
            "\n",
            "Traceback (most recent call last):\n",
            "  File \"e:\\ml project\\capstone\\.venv\\lib\\site-packages\\pygments\\styles\\__init__.py\", line 82, in get_style_by_name\n",
            "ModuleNotFoundError: No module named 'pygments.styles.default'\n",
            "\n",
            "During handling of the above exception, another exception occurred:\n",
            "\n",
            "Traceback (most recent call last):\n",
            "  File \"e:\\ml project\\capstone\\.venv\\lib\\site-packages\\IPython\\core\\interactiveshell.py\", line 2102, in showtraceback\n",
            "  File \"e:\\ml project\\capstone\\.venv\\lib\\site-packages\\IPython\\core\\ultratb.py\", line 1310, in structured_traceback\n",
            "  File \"e:\\ml project\\capstone\\.venv\\lib\\site-packages\\IPython\\core\\ultratb.py\", line 1199, in structured_traceback\n",
            "  File \"e:\\ml project\\capstone\\.venv\\lib\\site-packages\\IPython\\core\\ultratb.py\", line 1052, in structured_traceback\n",
            "  File \"e:\\ml project\\capstone\\.venv\\lib\\site-packages\\IPython\\core\\ultratb.py\", line 953, in format_exception_as_a_whole\n",
            "  File \"e:\\ml project\\capstone\\.venv\\lib\\site-packages\\IPython\\core\\ultratb.py\", line 1004, in get_records\n",
            "  File \"e:\\ml project\\capstone\\.venv\\lib\\site-packages\\pygments\\styles\\__init__.py\", line 84, in get_style_by_name\n",
            "pygments.util.ClassNotFound: Could not find style module 'default', though it should be builtin.\n"
          ]
        }
      ],
      "source": [
        "X=df.iloc[:,1:-1]\n",
        "X.head()"
      ]
    },
    {
      "cell_type": "code",
      "execution_count": 10,
      "id": "bO0tjtKRQ2CP",
      "metadata": {
        "colab": {
          "base_uri": "https://localhost:8080/",
          "height": 206
        },
        "execution": {
          "iopub.execute_input": "2023-03-05T14:46:09.853569Z",
          "iopub.status.busy": "2023-03-05T14:46:09.851031Z",
          "iopub.status.idle": "2023-03-05T14:46:09.866817Z",
          "shell.execute_reply": "2023-03-05T14:46:09.865530Z",
          "shell.execute_reply.started": "2023-03-05T14:46:09.853520Z"
        },
        "id": "bO0tjtKRQ2CP",
        "outputId": "1cffb266-e188-4c7d-c0cd-bdcd68f36aa9",
        "trusted": true
      },
      "outputs": [
        {
          "name": "stdout",
          "output_type": "stream",
          "text": [
            "Unexpected exception formatting exception. Falling back to standard exception\n"
          ]
        },
        {
          "name": "stderr",
          "output_type": "stream",
          "text": [
            "Traceback (most recent call last):\n",
            "  File \"e:\\ml project\\capstone\\.venv\\lib\\site-packages\\IPython\\core\\interactiveshell.py\", line 3505, in run_code\n",
            "  File \"C:\\Users\\palla\\AppData\\Local\\Temp\\ipykernel_18976\\3285612876.py\", line 1, in <module>\n",
            "    y=df[\"Churn\"]\n",
            "NameError: name 'df' is not defined\n",
            "\n",
            "During handling of the above exception, another exception occurred:\n",
            "\n",
            "Traceback (most recent call last):\n",
            "  File \"e:\\ml project\\capstone\\.venv\\lib\\site-packages\\pygments\\styles\\__init__.py\", line 82, in get_style_by_name\n",
            "ModuleNotFoundError: No module named 'pygments.styles.default'\n",
            "\n",
            "During handling of the above exception, another exception occurred:\n",
            "\n",
            "Traceback (most recent call last):\n",
            "  File \"e:\\ml project\\capstone\\.venv\\lib\\site-packages\\IPython\\core\\interactiveshell.py\", line 2102, in showtraceback\n",
            "  File \"e:\\ml project\\capstone\\.venv\\lib\\site-packages\\IPython\\core\\ultratb.py\", line 1310, in structured_traceback\n",
            "  File \"e:\\ml project\\capstone\\.venv\\lib\\site-packages\\IPython\\core\\ultratb.py\", line 1199, in structured_traceback\n",
            "  File \"e:\\ml project\\capstone\\.venv\\lib\\site-packages\\IPython\\core\\ultratb.py\", line 1052, in structured_traceback\n",
            "  File \"e:\\ml project\\capstone\\.venv\\lib\\site-packages\\IPython\\core\\ultratb.py\", line 953, in format_exception_as_a_whole\n",
            "  File \"e:\\ml project\\capstone\\.venv\\lib\\site-packages\\IPython\\core\\ultratb.py\", line 1004, in get_records\n",
            "  File \"e:\\ml project\\capstone\\.venv\\lib\\site-packages\\pygments\\styles\\__init__.py\", line 84, in get_style_by_name\n",
            "pygments.util.ClassNotFound: Could not find style module 'default', though it should be builtin.\n"
          ]
        }
      ],
      "source": [
        "y=df[\"Churn\"]\n",
        "y=pd.DataFrame(y)\n",
        "y.head()"
      ]
    },
    {
      "cell_type": "code",
      "execution_count": 11,
      "id": "W0p7gTveQ2CP",
      "metadata": {
        "colab": {
          "base_uri": "https://localhost:8080/"
        },
        "execution": {
          "iopub.execute_input": "2023-03-05T14:46:09.868874Z",
          "iopub.status.busy": "2023-03-05T14:46:09.868511Z",
          "iopub.status.idle": "2023-03-05T14:46:09.882204Z",
          "shell.execute_reply": "2023-03-05T14:46:09.880942Z",
          "shell.execute_reply.started": "2023-03-05T14:46:09.868837Z"
        },
        "id": "W0p7gTveQ2CP",
        "outputId": "91ae1372-5e0d-479f-911f-aedbf1ccf9c0",
        "trusted": true
      },
      "outputs": [
        {
          "name": "stdout",
          "output_type": "stream",
          "text": [
            "Unexpected exception formatting exception. Falling back to standard exception\n"
          ]
        },
        {
          "name": "stderr",
          "output_type": "stream",
          "text": [
            "Traceback (most recent call last):\n",
            "  File \"e:\\ml project\\capstone\\.venv\\lib\\site-packages\\IPython\\core\\interactiveshell.py\", line 3505, in run_code\n",
            "  File \"C:\\Users\\palla\\AppData\\Local\\Temp\\ipykernel_18976\\391966904.py\", line 1, in <module>\n",
            "    from sklearn.preprocessing import LabelEncoder\n",
            "ModuleNotFoundError: No module named 'sklearn'\n",
            "\n",
            "During handling of the above exception, another exception occurred:\n",
            "\n",
            "Traceback (most recent call last):\n",
            "  File \"e:\\ml project\\capstone\\.venv\\lib\\site-packages\\pygments\\styles\\__init__.py\", line 82, in get_style_by_name\n",
            "ModuleNotFoundError: No module named 'pygments.styles.default'\n",
            "\n",
            "During handling of the above exception, another exception occurred:\n",
            "\n",
            "Traceback (most recent call last):\n",
            "  File \"e:\\ml project\\capstone\\.venv\\lib\\site-packages\\IPython\\core\\interactiveshell.py\", line 2102, in showtraceback\n",
            "  File \"e:\\ml project\\capstone\\.venv\\lib\\site-packages\\IPython\\core\\ultratb.py\", line 1310, in structured_traceback\n",
            "  File \"e:\\ml project\\capstone\\.venv\\lib\\site-packages\\IPython\\core\\ultratb.py\", line 1199, in structured_traceback\n",
            "  File \"e:\\ml project\\capstone\\.venv\\lib\\site-packages\\IPython\\core\\ultratb.py\", line 1052, in structured_traceback\n",
            "  File \"e:\\ml project\\capstone\\.venv\\lib\\site-packages\\IPython\\core\\ultratb.py\", line 953, in format_exception_as_a_whole\n",
            "  File \"e:\\ml project\\capstone\\.venv\\lib\\site-packages\\IPython\\core\\ultratb.py\", line 1004, in get_records\n",
            "  File \"e:\\ml project\\capstone\\.venv\\lib\\site-packages\\pygments\\styles\\__init__.py\", line 84, in get_style_by_name\n",
            "pygments.util.ClassNotFound: Could not find style module 'default', though it should be builtin.\n"
          ]
        }
      ],
      "source": [
        "from sklearn.preprocessing import LabelEncoder\n",
        "y=LabelEncoder().fit_transform(y)\n",
        "# X=LabelEncoder().fit_transform(X)"
      ]
    },
    {
      "cell_type": "code",
      "execution_count": 12,
      "id": "3ppWiAk9Q2CP",
      "metadata": {
        "execution": {
          "iopub.execute_input": "2023-03-05T14:46:09.889549Z",
          "iopub.status.busy": "2023-03-05T14:46:09.886700Z",
          "iopub.status.idle": "2023-03-05T14:46:09.954016Z",
          "shell.execute_reply": "2023-03-05T14:46:09.952577Z",
          "shell.execute_reply.started": "2023-03-05T14:46:09.889508Z"
        },
        "id": "3ppWiAk9Q2CP",
        "trusted": true
      },
      "outputs": [
        {
          "name": "stdout",
          "output_type": "stream",
          "text": [
            "Unexpected exception formatting exception. Falling back to standard exception\n"
          ]
        },
        {
          "name": "stderr",
          "output_type": "stream",
          "text": [
            "Traceback (most recent call last):\n",
            "  File \"e:\\ml project\\capstone\\.venv\\lib\\site-packages\\IPython\\core\\interactiveshell.py\", line 3505, in run_code\n",
            "  File \"C:\\Users\\palla\\AppData\\Local\\Temp\\ipykernel_18976\\3557727409.py\", line 1, in <module>\n",
            "    X['gender']=LabelEncoder().fit_transform(X['gender'])\n",
            "NameError: name 'LabelEncoder' is not defined\n",
            "\n",
            "During handling of the above exception, another exception occurred:\n",
            "\n",
            "Traceback (most recent call last):\n",
            "  File \"e:\\ml project\\capstone\\.venv\\lib\\site-packages\\pygments\\styles\\__init__.py\", line 82, in get_style_by_name\n",
            "ModuleNotFoundError: No module named 'pygments.styles.default'\n",
            "\n",
            "During handling of the above exception, another exception occurred:\n",
            "\n",
            "Traceback (most recent call last):\n",
            "  File \"e:\\ml project\\capstone\\.venv\\lib\\site-packages\\IPython\\core\\interactiveshell.py\", line 2102, in showtraceback\n",
            "  File \"e:\\ml project\\capstone\\.venv\\lib\\site-packages\\IPython\\core\\ultratb.py\", line 1310, in structured_traceback\n",
            "  File \"e:\\ml project\\capstone\\.venv\\lib\\site-packages\\IPython\\core\\ultratb.py\", line 1199, in structured_traceback\n",
            "  File \"e:\\ml project\\capstone\\.venv\\lib\\site-packages\\IPython\\core\\ultratb.py\", line 1052, in structured_traceback\n",
            "  File \"e:\\ml project\\capstone\\.venv\\lib\\site-packages\\IPython\\core\\ultratb.py\", line 953, in format_exception_as_a_whole\n",
            "  File \"e:\\ml project\\capstone\\.venv\\lib\\site-packages\\IPython\\core\\ultratb.py\", line 1004, in get_records\n",
            "  File \"e:\\ml project\\capstone\\.venv\\lib\\site-packages\\pygments\\styles\\__init__.py\", line 84, in get_style_by_name\n",
            "pygments.util.ClassNotFound: Could not find style module 'default', though it should be builtin.\n"
          ]
        }
      ],
      "source": [
        "X['gender']=LabelEncoder().fit_transform(X['gender'])\n",
        "X['Partner']=LabelEncoder().fit_transform(X['Partner'])\n",
        "X['Dependents']=LabelEncoder().fit_transform(X['Dependents'])\n",
        "X['PhoneService']=LabelEncoder().fit_transform(X['PhoneService'])\n",
        "X['MultipleLines']=LabelEncoder().fit_transform(X['MultipleLines'])\n",
        "X['InternetService']=LabelEncoder().fit_transform(X['InternetService'])\n",
        "X['OnlineSecurity']=LabelEncoder().fit_transform(X['OnlineSecurity'])\n",
        "X['OnlineBackup']=LabelEncoder().fit_transform(X['OnlineBackup'])\n",
        "X['DeviceProtection']=LabelEncoder().fit_transform(X['DeviceProtection'])\n",
        "X['StreamingTV']=LabelEncoder().fit_transform(X['StreamingTV'])\n",
        "X['StreamingMovies']=LabelEncoder().fit_transform(X['StreamingMovies'])\n",
        "X['Contract']=LabelEncoder().fit_transform(X['Contract'])\n",
        "X['PaperlessBilling']=LabelEncoder().fit_transform(X['PaperlessBilling'])\n",
        "X['PaymentMethod']=LabelEncoder().fit_transform(X['PaymentMethod'])\n",
        "X['TechSupport']=LabelEncoder().fit_transform(X['TechSupport'])\n",
        "X['TechSupport']=LabelEncoder().fit_transform(X['TechSupport'])"
      ]
    },
    {
      "cell_type": "code",
      "execution_count": 13,
      "id": "e7l9se5XQ2CQ",
      "metadata": {
        "colab": {
          "base_uri": "https://localhost:8080/"
        },
        "execution": {
          "iopub.execute_input": "2023-03-05T14:46:09.956074Z",
          "iopub.status.busy": "2023-03-05T14:46:09.955701Z",
          "iopub.status.idle": "2023-03-05T14:46:09.964136Z",
          "shell.execute_reply": "2023-03-05T14:46:09.962727Z",
          "shell.execute_reply.started": "2023-03-05T14:46:09.956038Z"
        },
        "id": "e7l9se5XQ2CQ",
        "outputId": "72ebae24-d6ce-4279-c0c1-f44410a631f5",
        "trusted": true
      },
      "outputs": [
        {
          "name": "stdout",
          "output_type": "stream",
          "text": [
            "Unexpected exception formatting exception. Falling back to standard exception\n"
          ]
        },
        {
          "name": "stderr",
          "output_type": "stream",
          "text": [
            "Traceback (most recent call last):\n",
            "  File \"e:\\ml project\\capstone\\.venv\\lib\\site-packages\\IPython\\core\\interactiveshell.py\", line 3505, in run_code\n",
            "  File \"C:\\Users\\palla\\AppData\\Local\\Temp\\ipykernel_18976\\3563912222.py\", line 1, in <module>\n",
            "    y\n",
            "NameError: name 'y' is not defined\n",
            "\n",
            "During handling of the above exception, another exception occurred:\n",
            "\n",
            "Traceback (most recent call last):\n",
            "  File \"e:\\ml project\\capstone\\.venv\\lib\\site-packages\\pygments\\styles\\__init__.py\", line 82, in get_style_by_name\n",
            "ModuleNotFoundError: No module named 'pygments.styles.default'\n",
            "\n",
            "During handling of the above exception, another exception occurred:\n",
            "\n",
            "Traceback (most recent call last):\n",
            "  File \"e:\\ml project\\capstone\\.venv\\lib\\site-packages\\IPython\\core\\interactiveshell.py\", line 2102, in showtraceback\n",
            "  File \"e:\\ml project\\capstone\\.venv\\lib\\site-packages\\IPython\\core\\ultratb.py\", line 1310, in structured_traceback\n",
            "  File \"e:\\ml project\\capstone\\.venv\\lib\\site-packages\\IPython\\core\\ultratb.py\", line 1199, in structured_traceback\n",
            "  File \"e:\\ml project\\capstone\\.venv\\lib\\site-packages\\IPython\\core\\ultratb.py\", line 1052, in structured_traceback\n",
            "  File \"e:\\ml project\\capstone\\.venv\\lib\\site-packages\\IPython\\core\\ultratb.py\", line 953, in format_exception_as_a_whole\n",
            "  File \"e:\\ml project\\capstone\\.venv\\lib\\site-packages\\IPython\\core\\ultratb.py\", line 1004, in get_records\n",
            "  File \"e:\\ml project\\capstone\\.venv\\lib\\site-packages\\pygments\\styles\\__init__.py\", line 84, in get_style_by_name\n",
            "pygments.util.ClassNotFound: Could not find style module 'default', though it should be builtin.\n"
          ]
        }
      ],
      "source": [
        "y"
      ]
    },
    {
      "cell_type": "code",
      "execution_count": 14,
      "id": "3_NPQZGIQ2CQ",
      "metadata": {
        "colab": {
          "base_uri": "https://localhost:8080/",
          "height": 487
        },
        "execution": {
          "iopub.execute_input": "2023-03-05T14:46:09.966954Z",
          "iopub.status.busy": "2023-03-05T14:46:09.966072Z",
          "iopub.status.idle": "2023-03-05T14:46:09.999490Z",
          "shell.execute_reply": "2023-03-05T14:46:09.997933Z",
          "shell.execute_reply.started": "2023-03-05T14:46:09.966915Z"
        },
        "id": "3_NPQZGIQ2CQ",
        "outputId": "460b646a-b7c3-4042-a1a5-d58b43d4712f",
        "trusted": true
      },
      "outputs": [
        {
          "name": "stdout",
          "output_type": "stream",
          "text": [
            "Unexpected exception formatting exception. Falling back to standard exception\n"
          ]
        },
        {
          "name": "stderr",
          "output_type": "stream",
          "text": [
            "Traceback (most recent call last):\n",
            "  File \"e:\\ml project\\capstone\\.venv\\lib\\site-packages\\IPython\\core\\interactiveshell.py\", line 3505, in run_code\n",
            "  File \"C:\\Users\\palla\\AppData\\Local\\Temp\\ipykernel_18976\\3777217377.py\", line 1, in <module>\n",
            "    X\n",
            "NameError: name 'X' is not defined\n",
            "\n",
            "During handling of the above exception, another exception occurred:\n",
            "\n",
            "Traceback (most recent call last):\n",
            "  File \"e:\\ml project\\capstone\\.venv\\lib\\site-packages\\pygments\\styles\\__init__.py\", line 82, in get_style_by_name\n",
            "ModuleNotFoundError: No module named 'pygments.styles.default'\n",
            "\n",
            "During handling of the above exception, another exception occurred:\n",
            "\n",
            "Traceback (most recent call last):\n",
            "  File \"e:\\ml project\\capstone\\.venv\\lib\\site-packages\\IPython\\core\\interactiveshell.py\", line 2102, in showtraceback\n",
            "  File \"e:\\ml project\\capstone\\.venv\\lib\\site-packages\\IPython\\core\\ultratb.py\", line 1310, in structured_traceback\n",
            "  File \"e:\\ml project\\capstone\\.venv\\lib\\site-packages\\IPython\\core\\ultratb.py\", line 1199, in structured_traceback\n",
            "  File \"e:\\ml project\\capstone\\.venv\\lib\\site-packages\\IPython\\core\\ultratb.py\", line 1052, in structured_traceback\n",
            "  File \"e:\\ml project\\capstone\\.venv\\lib\\site-packages\\IPython\\core\\ultratb.py\", line 953, in format_exception_as_a_whole\n",
            "  File \"e:\\ml project\\capstone\\.venv\\lib\\site-packages\\IPython\\core\\ultratb.py\", line 1004, in get_records\n",
            "  File \"e:\\ml project\\capstone\\.venv\\lib\\site-packages\\pygments\\styles\\__init__.py\", line 84, in get_style_by_name\n",
            "pygments.util.ClassNotFound: Could not find style module 'default', though it should be builtin.\n"
          ]
        }
      ],
      "source": [
        "X"
      ]
    },
    {
      "cell_type": "code",
      "execution_count": 15,
      "id": "_IIXCFlzQ2CQ",
      "metadata": {
        "execution": {
          "iopub.execute_input": "2023-03-05T14:46:10.001995Z",
          "iopub.status.busy": "2023-03-05T14:46:10.001607Z",
          "iopub.status.idle": "2023-03-05T14:46:10.012859Z",
          "shell.execute_reply": "2023-03-05T14:46:10.011605Z",
          "shell.execute_reply.started": "2023-03-05T14:46:10.001958Z"
        },
        "id": "_IIXCFlzQ2CQ",
        "trusted": true
      },
      "outputs": [
        {
          "name": "stdout",
          "output_type": "stream",
          "text": [
            "Unexpected exception formatting exception. Falling back to standard exception\n"
          ]
        },
        {
          "name": "stderr",
          "output_type": "stream",
          "text": [
            "Traceback (most recent call last):\n",
            "  File \"e:\\ml project\\capstone\\.venv\\lib\\site-packages\\IPython\\core\\interactiveshell.py\", line 3505, in run_code\n",
            "  File \"C:\\Users\\palla\\AppData\\Local\\Temp\\ipykernel_18976\\4251531609.py\", line 1, in <module>\n",
            "    X['MonthlyCharges'] = X['MonthlyCharges'].astype('int')\n",
            "NameError: name 'X' is not defined\n",
            "\n",
            "During handling of the above exception, another exception occurred:\n",
            "\n",
            "Traceback (most recent call last):\n",
            "  File \"e:\\ml project\\capstone\\.venv\\lib\\site-packages\\pygments\\styles\\__init__.py\", line 82, in get_style_by_name\n",
            "ModuleNotFoundError: No module named 'pygments.styles.default'\n",
            "\n",
            "During handling of the above exception, another exception occurred:\n",
            "\n",
            "Traceback (most recent call last):\n",
            "  File \"e:\\ml project\\capstone\\.venv\\lib\\site-packages\\IPython\\core\\interactiveshell.py\", line 2102, in showtraceback\n",
            "  File \"e:\\ml project\\capstone\\.venv\\lib\\site-packages\\IPython\\core\\ultratb.py\", line 1310, in structured_traceback\n",
            "  File \"e:\\ml project\\capstone\\.venv\\lib\\site-packages\\IPython\\core\\ultratb.py\", line 1199, in structured_traceback\n",
            "  File \"e:\\ml project\\capstone\\.venv\\lib\\site-packages\\IPython\\core\\ultratb.py\", line 1052, in structured_traceback\n",
            "  File \"e:\\ml project\\capstone\\.venv\\lib\\site-packages\\IPython\\core\\ultratb.py\", line 953, in format_exception_as_a_whole\n",
            "  File \"e:\\ml project\\capstone\\.venv\\lib\\site-packages\\IPython\\core\\ultratb.py\", line 1004, in get_records\n",
            "  File \"e:\\ml project\\capstone\\.venv\\lib\\site-packages\\pygments\\styles\\__init__.py\", line 84, in get_style_by_name\n",
            "pygments.util.ClassNotFound: Could not find style module 'default', though it should be builtin.\n"
          ]
        }
      ],
      "source": [
        "X['MonthlyCharges'] = X['MonthlyCharges'].astype('int')"
      ]
    },
    {
      "cell_type": "code",
      "execution_count": 16,
      "id": "lW4wlGRQQ2CQ",
      "metadata": {
        "execution": {
          "iopub.execute_input": "2023-03-05T14:46:10.015883Z",
          "iopub.status.busy": "2023-03-05T14:46:10.015620Z",
          "iopub.status.idle": "2023-03-05T14:46:10.030633Z",
          "shell.execute_reply": "2023-03-05T14:46:10.029427Z",
          "shell.execute_reply.started": "2023-03-05T14:46:10.015858Z"
        },
        "id": "lW4wlGRQQ2CQ",
        "trusted": true
      },
      "outputs": [
        {
          "name": "stdout",
          "output_type": "stream",
          "text": [
            "Unexpected exception formatting exception. Falling back to standard exception\n"
          ]
        },
        {
          "name": "stderr",
          "output_type": "stream",
          "text": [
            "Traceback (most recent call last):\n",
            "  File \"e:\\ml project\\capstone\\.venv\\lib\\site-packages\\IPython\\core\\interactiveshell.py\", line 3505, in run_code\n",
            "  File \"C:\\Users\\palla\\AppData\\Local\\Temp\\ipykernel_18976\\4236175136.py\", line 1, in <module>\n",
            "    X['TotalCharges'] = pd.to_numeric(X['TotalCharges'],errors='coerce')\n",
            "NameError: name 'pd' is not defined\n",
            "\n",
            "During handling of the above exception, another exception occurred:\n",
            "\n",
            "Traceback (most recent call last):\n",
            "  File \"e:\\ml project\\capstone\\.venv\\lib\\site-packages\\pygments\\styles\\__init__.py\", line 82, in get_style_by_name\n",
            "ModuleNotFoundError: No module named 'pygments.styles.default'\n",
            "\n",
            "During handling of the above exception, another exception occurred:\n",
            "\n",
            "Traceback (most recent call last):\n",
            "  File \"e:\\ml project\\capstone\\.venv\\lib\\site-packages\\IPython\\core\\interactiveshell.py\", line 2102, in showtraceback\n",
            "  File \"e:\\ml project\\capstone\\.venv\\lib\\site-packages\\IPython\\core\\ultratb.py\", line 1310, in structured_traceback\n",
            "  File \"e:\\ml project\\capstone\\.venv\\lib\\site-packages\\IPython\\core\\ultratb.py\", line 1199, in structured_traceback\n",
            "  File \"e:\\ml project\\capstone\\.venv\\lib\\site-packages\\IPython\\core\\ultratb.py\", line 1052, in structured_traceback\n",
            "  File \"e:\\ml project\\capstone\\.venv\\lib\\site-packages\\IPython\\core\\ultratb.py\", line 953, in format_exception_as_a_whole\n",
            "  File \"e:\\ml project\\capstone\\.venv\\lib\\site-packages\\IPython\\core\\ultratb.py\", line 1004, in get_records\n",
            "  File \"e:\\ml project\\capstone\\.venv\\lib\\site-packages\\pygments\\styles\\__init__.py\", line 84, in get_style_by_name\n",
            "pygments.util.ClassNotFound: Could not find style module 'default', though it should be builtin.\n"
          ]
        }
      ],
      "source": [
        "X['TotalCharges'] = pd.to_numeric(X['TotalCharges'],errors='coerce')\n",
        "median = X['TotalCharges'].median()\n",
        "X['TotalCharges'].fillna(median,inplace=True)"
      ]
    },
    {
      "cell_type": "markdown",
      "id": "5j0ygEbkQ2CQ",
      "metadata": {
        "id": "5j0ygEbkQ2CQ"
      },
      "source": [
        "## Feature Selection"
      ]
    },
    {
      "cell_type": "markdown",
      "id": "tjP41DeFQ2CQ",
      "metadata": {
        "id": "tjP41DeFQ2CQ"
      },
      "source": [
        "### Lasso"
      ]
    },
    {
      "cell_type": "code",
      "execution_count": 17,
      "id": "IkXcLXiXQ2CQ",
      "metadata": {
        "colab": {
          "base_uri": "https://localhost:8080/"
        },
        "execution": {
          "iopub.execute_input": "2023-03-05T14:46:10.036138Z",
          "iopub.status.busy": "2023-03-05T14:46:10.033997Z",
          "iopub.status.idle": "2023-03-05T14:46:10.397188Z",
          "shell.execute_reply": "2023-03-05T14:46:10.396086Z",
          "shell.execute_reply.started": "2023-03-05T14:46:10.036098Z"
        },
        "id": "IkXcLXiXQ2CQ",
        "outputId": "e3e5b7e4-5458-4f94-8d3a-37c1b58dc38f",
        "trusted": true
      },
      "outputs": [
        {
          "name": "stdout",
          "output_type": "stream",
          "text": [
            "Unexpected exception formatting exception. Falling back to standard exception\n"
          ]
        },
        {
          "name": "stderr",
          "output_type": "stream",
          "text": [
            "Traceback (most recent call last):\n",
            "  File \"e:\\ml project\\capstone\\.venv\\lib\\site-packages\\IPython\\core\\interactiveshell.py\", line 3505, in run_code\n",
            "  File \"C:\\Users\\palla\\AppData\\Local\\Temp\\ipykernel_18976\\3605063859.py\", line 1, in <module>\n",
            "    reg = LassoCV()\n",
            "NameError: name 'LassoCV' is not defined\n",
            "\n",
            "During handling of the above exception, another exception occurred:\n",
            "\n",
            "Traceback (most recent call last):\n",
            "  File \"e:\\ml project\\capstone\\.venv\\lib\\site-packages\\pygments\\styles\\__init__.py\", line 82, in get_style_by_name\n",
            "ModuleNotFoundError: No module named 'pygments.styles.default'\n",
            "\n",
            "During handling of the above exception, another exception occurred:\n",
            "\n",
            "Traceback (most recent call last):\n",
            "  File \"e:\\ml project\\capstone\\.venv\\lib\\site-packages\\IPython\\core\\interactiveshell.py\", line 2102, in showtraceback\n",
            "  File \"e:\\ml project\\capstone\\.venv\\lib\\site-packages\\IPython\\core\\ultratb.py\", line 1310, in structured_traceback\n",
            "  File \"e:\\ml project\\capstone\\.venv\\lib\\site-packages\\IPython\\core\\ultratb.py\", line 1199, in structured_traceback\n",
            "  File \"e:\\ml project\\capstone\\.venv\\lib\\site-packages\\IPython\\core\\ultratb.py\", line 1052, in structured_traceback\n",
            "  File \"e:\\ml project\\capstone\\.venv\\lib\\site-packages\\IPython\\core\\ultratb.py\", line 953, in format_exception_as_a_whole\n",
            "  File \"e:\\ml project\\capstone\\.venv\\lib\\site-packages\\IPython\\core\\ultratb.py\", line 1004, in get_records\n",
            "  File \"e:\\ml project\\capstone\\.venv\\lib\\site-packages\\pygments\\styles\\__init__.py\", line 84, in get_style_by_name\n",
            "pygments.util.ClassNotFound: Could not find style module 'default', though it should be builtin.\n"
          ]
        }
      ],
      "source": [
        "reg = LassoCV()\n",
        "reg.fit(X, y)\n",
        "print(\"Best alpha using built-in LassoCV: %f\" % reg.alpha_)\n",
        "print(\"Best score using built-in LassoCV: %f\" %reg.score(X,y))\n",
        "coef = pd.Series(reg.coef_, index = X.columns)\n",
        "print(\"Lasso picked \" + str(sum(coef != 0)) + \" variables and eliminated the other \" + str(sum(coef == 0)) + \" variables\")"
      ]
    },
    {
      "cell_type": "code",
      "execution_count": 18,
      "id": "NYYka9DdQ2CR",
      "metadata": {
        "colab": {
          "base_uri": "https://localhost:8080/",
          "height": 0
        },
        "execution": {
          "iopub.execute_input": "2023-03-05T14:46:10.404368Z",
          "iopub.status.busy": "2023-03-05T14:46:10.401565Z",
          "iopub.status.idle": "2023-03-05T14:46:10.936111Z",
          "shell.execute_reply": "2023-03-05T14:46:10.934974Z",
          "shell.execute_reply.started": "2023-03-05T14:46:10.404310Z"
        },
        "id": "NYYka9DdQ2CR",
        "outputId": "c584380d-349b-4115-b9d4-d3e611b6ef77",
        "trusted": true
      },
      "outputs": [
        {
          "name": "stdout",
          "output_type": "stream",
          "text": [
            "Unexpected exception formatting exception. Falling back to standard exception\n"
          ]
        },
        {
          "name": "stderr",
          "output_type": "stream",
          "text": [
            "Traceback (most recent call last):\n",
            "  File \"e:\\ml project\\capstone\\.venv\\lib\\site-packages\\IPython\\core\\interactiveshell.py\", line 3505, in run_code\n",
            "  File \"C:\\Users\\palla\\AppData\\Local\\Temp\\ipykernel_18976\\2845405715.py\", line 1, in <module>\n",
            "    imp_coef = coef.sort_values()\n",
            "NameError: name 'coef' is not defined\n",
            "\n",
            "During handling of the above exception, another exception occurred:\n",
            "\n",
            "Traceback (most recent call last):\n",
            "  File \"e:\\ml project\\capstone\\.venv\\lib\\site-packages\\pygments\\styles\\__init__.py\", line 82, in get_style_by_name\n",
            "ModuleNotFoundError: No module named 'pygments.styles.default'\n",
            "\n",
            "During handling of the above exception, another exception occurred:\n",
            "\n",
            "Traceback (most recent call last):\n",
            "  File \"e:\\ml project\\capstone\\.venv\\lib\\site-packages\\IPython\\core\\interactiveshell.py\", line 2102, in showtraceback\n",
            "  File \"e:\\ml project\\capstone\\.venv\\lib\\site-packages\\IPython\\core\\ultratb.py\", line 1310, in structured_traceback\n",
            "  File \"e:\\ml project\\capstone\\.venv\\lib\\site-packages\\IPython\\core\\ultratb.py\", line 1199, in structured_traceback\n",
            "  File \"e:\\ml project\\capstone\\.venv\\lib\\site-packages\\IPython\\core\\ultratb.py\", line 1052, in structured_traceback\n",
            "  File \"e:\\ml project\\capstone\\.venv\\lib\\site-packages\\IPython\\core\\ultratb.py\", line 953, in format_exception_as_a_whole\n",
            "  File \"e:\\ml project\\capstone\\.venv\\lib\\site-packages\\IPython\\core\\ultratb.py\", line 1004, in get_records\n",
            "  File \"e:\\ml project\\capstone\\.venv\\lib\\site-packages\\pygments\\styles\\__init__.py\", line 84, in get_style_by_name\n",
            "pygments.util.ClassNotFound: Could not find style module 'default', though it should be builtin.\n"
          ]
        }
      ],
      "source": [
        "imp_coef = coef.sort_values()\n",
        "import matplotlib\n",
        "matplotlib.rcParams['figure.figsize'] = (6,6)\n",
        "imp_coef.plot(kind = \"barh\")\n",
        "plt.title(\"Feature importance using Lasso Model\")\n",
        "plt.show()"
      ]
    },
    {
      "cell_type": "markdown",
      "id": "FXBcczY5Q2CR",
      "metadata": {
        "id": "FXBcczY5Q2CR"
      },
      "source": [
        "## Normalisation of data"
      ]
    },
    {
      "cell_type": "code",
      "execution_count": 19,
      "id": "IyOxVYcIQ2CR",
      "metadata": {
        "colab": {
          "base_uri": "https://localhost:8080/",
          "height": 270
        },
        "execution": {
          "iopub.execute_input": "2023-03-05T14:46:10.943115Z",
          "iopub.status.busy": "2023-03-05T14:46:10.940564Z",
          "iopub.status.idle": "2023-03-05T14:46:11.009198Z",
          "shell.execute_reply": "2023-03-05T14:46:11.007967Z",
          "shell.execute_reply.started": "2023-03-05T14:46:10.943070Z"
        },
        "id": "IyOxVYcIQ2CR",
        "outputId": "ea1722c0-db86-4b1c-c205-7778690d3232",
        "trusted": true
      },
      "outputs": [
        {
          "name": "stdout",
          "output_type": "stream",
          "text": [
            "Unexpected exception formatting exception. Falling back to standard exception\n"
          ]
        },
        {
          "name": "stderr",
          "output_type": "stream",
          "text": [
            "Traceback (most recent call last):\n",
            "  File \"e:\\ml project\\capstone\\.venv\\lib\\site-packages\\IPython\\core\\interactiveshell.py\", line 3505, in run_code\n",
            "  File \"C:\\Users\\palla\\AppData\\Local\\Temp\\ipykernel_18976\\580782626.py\", line 1, in <module>\n",
            "    from sklearn.preprocessing import MinMaxScaler\n",
            "ModuleNotFoundError: No module named 'sklearn'\n",
            "\n",
            "During handling of the above exception, another exception occurred:\n",
            "\n",
            "Traceback (most recent call last):\n",
            "  File \"e:\\ml project\\capstone\\.venv\\lib\\site-packages\\pygments\\styles\\__init__.py\", line 82, in get_style_by_name\n",
            "ModuleNotFoundError: No module named 'pygments.styles.default'\n",
            "\n",
            "During handling of the above exception, another exception occurred:\n",
            "\n",
            "Traceback (most recent call last):\n",
            "  File \"e:\\ml project\\capstone\\.venv\\lib\\site-packages\\IPython\\core\\interactiveshell.py\", line 2102, in showtraceback\n",
            "  File \"e:\\ml project\\capstone\\.venv\\lib\\site-packages\\IPython\\core\\ultratb.py\", line 1310, in structured_traceback\n",
            "  File \"e:\\ml project\\capstone\\.venv\\lib\\site-packages\\IPython\\core\\ultratb.py\", line 1199, in structured_traceback\n",
            "  File \"e:\\ml project\\capstone\\.venv\\lib\\site-packages\\IPython\\core\\ultratb.py\", line 1052, in structured_traceback\n",
            "  File \"e:\\ml project\\capstone\\.venv\\lib\\site-packages\\IPython\\core\\ultratb.py\", line 953, in format_exception_as_a_whole\n",
            "  File \"e:\\ml project\\capstone\\.venv\\lib\\site-packages\\IPython\\core\\ultratb.py\", line 1004, in get_records\n",
            "  File \"e:\\ml project\\capstone\\.venv\\lib\\site-packages\\pygments\\styles\\__init__.py\", line 84, in get_style_by_name\n",
            "pygments.util.ClassNotFound: Could not find style module 'default', though it should be builtin.\n"
          ]
        }
      ],
      "source": [
        "from sklearn.preprocessing import MinMaxScaler\n",
        "names=X.columns\n",
        "indexes=X.index\n",
        "X=MinMaxScaler().fit_transform(X)\n",
        "X=pd.DataFrame(X,columns=names,index=indexes)\n",
        "X.head()"
      ]
    },
    {
      "cell_type": "markdown",
      "id": "wTqQg3ImQ2CR",
      "metadata": {
        "id": "wTqQg3ImQ2CR"
      },
      "source": [
        "### Select KBest using Chi2"
      ]
    },
    {
      "cell_type": "code",
      "execution_count": 20,
      "id": "Lq-kfuusQ2CR",
      "metadata": {
        "colab": {
          "base_uri": "https://localhost:8080/"
        },
        "execution": {
          "iopub.execute_input": "2023-03-05T14:46:11.015310Z",
          "iopub.status.busy": "2023-03-05T14:46:11.014721Z",
          "iopub.status.idle": "2023-03-05T14:46:11.036078Z",
          "shell.execute_reply": "2023-03-05T14:46:11.034969Z",
          "shell.execute_reply.started": "2023-03-05T14:46:11.015273Z"
        },
        "id": "Lq-kfuusQ2CR",
        "outputId": "b70b5019-0a1c-49e7-9128-a7467f19ee45",
        "trusted": true
      },
      "outputs": [
        {
          "name": "stdout",
          "output_type": "stream",
          "text": [
            "Unexpected exception formatting exception. Falling back to standard exception\n"
          ]
        },
        {
          "name": "stderr",
          "output_type": "stream",
          "text": [
            "Traceback (most recent call last):\n",
            "  File \"e:\\ml project\\capstone\\.venv\\lib\\site-packages\\IPython\\core\\interactiveshell.py\", line 3505, in run_code\n",
            "  File \"C:\\Users\\palla\\AppData\\Local\\Temp\\ipykernel_18976\\1277777302.py\", line 1, in <module>\n",
            "    kmodel=SelectKBest(score_func=chi2,k=8)\n",
            "NameError: name 'SelectKBest' is not defined\n",
            "\n",
            "During handling of the above exception, another exception occurred:\n",
            "\n",
            "Traceback (most recent call last):\n",
            "  File \"e:\\ml project\\capstone\\.venv\\lib\\site-packages\\pygments\\styles\\__init__.py\", line 82, in get_style_by_name\n",
            "ModuleNotFoundError: No module named 'pygments.styles.default'\n",
            "\n",
            "During handling of the above exception, another exception occurred:\n",
            "\n",
            "Traceback (most recent call last):\n",
            "  File \"e:\\ml project\\capstone\\.venv\\lib\\site-packages\\IPython\\core\\interactiveshell.py\", line 2102, in showtraceback\n",
            "  File \"e:\\ml project\\capstone\\.venv\\lib\\site-packages\\IPython\\core\\ultratb.py\", line 1310, in structured_traceback\n",
            "  File \"e:\\ml project\\capstone\\.venv\\lib\\site-packages\\IPython\\core\\ultratb.py\", line 1199, in structured_traceback\n",
            "  File \"e:\\ml project\\capstone\\.venv\\lib\\site-packages\\IPython\\core\\ultratb.py\", line 1052, in structured_traceback\n",
            "  File \"e:\\ml project\\capstone\\.venv\\lib\\site-packages\\IPython\\core\\ultratb.py\", line 953, in format_exception_as_a_whole\n",
            "  File \"e:\\ml project\\capstone\\.venv\\lib\\site-packages\\IPython\\core\\ultratb.py\", line 1004, in get_records\n",
            "  File \"e:\\ml project\\capstone\\.venv\\lib\\site-packages\\pygments\\styles\\__init__.py\", line 84, in get_style_by_name\n",
            "pygments.util.ClassNotFound: Could not find style module 'default', though it should be builtin.\n"
          ]
        }
      ],
      "source": [
        "kmodel=SelectKBest(score_func=chi2,k=8)\n",
        "x_clf_new=kmodel.fit_transform(X,y)\n",
        "mask=kmodel.get_support()\n",
        "important=X.columns[mask]\n",
        "print(important,len(important))"
      ]
    },
    {
      "cell_type": "markdown",
      "id": "8qZsPQLHQ2CR",
      "metadata": {
        "id": "8qZsPQLHQ2CR"
      },
      "source": [
        "## Split data into train, test and validation set"
      ]
    },
    {
      "cell_type": "code",
      "execution_count": 21,
      "id": "oMAmBFfAQ2CR",
      "metadata": {
        "execution": {
          "iopub.execute_input": "2023-03-05T14:46:11.044319Z",
          "iopub.status.busy": "2023-03-05T14:46:11.041827Z",
          "iopub.status.idle": "2023-03-05T14:46:11.057263Z",
          "shell.execute_reply": "2023-03-05T14:46:11.055056Z",
          "shell.execute_reply.started": "2023-03-05T14:46:11.044268Z"
        },
        "id": "oMAmBFfAQ2CR",
        "trusted": true
      },
      "outputs": [
        {
          "name": "stdout",
          "output_type": "stream",
          "text": [
            "Unexpected exception formatting exception. Falling back to standard exception\n"
          ]
        },
        {
          "name": "stderr",
          "output_type": "stream",
          "text": [
            "Traceback (most recent call last):\n",
            "  File \"e:\\ml project\\capstone\\.venv\\lib\\site-packages\\IPython\\core\\interactiveshell.py\", line 3505, in run_code\n",
            "  File \"C:\\Users\\palla\\AppData\\Local\\Temp\\ipykernel_18976\\2511069168.py\", line 1, in <module>\n",
            "    from sklearn.model_selection import train_test_split\n",
            "ModuleNotFoundError: No module named 'sklearn'\n",
            "\n",
            "During handling of the above exception, another exception occurred:\n",
            "\n",
            "Traceback (most recent call last):\n",
            "  File \"e:\\ml project\\capstone\\.venv\\lib\\site-packages\\pygments\\styles\\__init__.py\", line 82, in get_style_by_name\n",
            "ModuleNotFoundError: No module named 'pygments.styles.default'\n",
            "\n",
            "During handling of the above exception, another exception occurred:\n",
            "\n",
            "Traceback (most recent call last):\n",
            "  File \"e:\\ml project\\capstone\\.venv\\lib\\site-packages\\IPython\\core\\interactiveshell.py\", line 2102, in showtraceback\n",
            "  File \"e:\\ml project\\capstone\\.venv\\lib\\site-packages\\IPython\\core\\ultratb.py\", line 1310, in structured_traceback\n",
            "  File \"e:\\ml project\\capstone\\.venv\\lib\\site-packages\\IPython\\core\\ultratb.py\", line 1199, in structured_traceback\n",
            "  File \"e:\\ml project\\capstone\\.venv\\lib\\site-packages\\IPython\\core\\ultratb.py\", line 1052, in structured_traceback\n",
            "  File \"e:\\ml project\\capstone\\.venv\\lib\\site-packages\\IPython\\core\\ultratb.py\", line 953, in format_exception_as_a_whole\n",
            "  File \"e:\\ml project\\capstone\\.venv\\lib\\site-packages\\IPython\\core\\ultratb.py\", line 1004, in get_records\n",
            "  File \"e:\\ml project\\capstone\\.venv\\lib\\site-packages\\pygments\\styles\\__init__.py\", line 84, in get_style_by_name\n",
            "pygments.util.ClassNotFound: Could not find style module 'default', though it should be builtin.\n"
          ]
        }
      ],
      "source": [
        "from sklearn.model_selection import train_test_split\n",
        "X_train,X_rem,y_train,y_rem = train_test_split(X, y, test_size=0.20, random_state=42)\n",
        "X_val,X_test,y_val,y_test = train_test_split(X_rem, y_rem, test_size=0.50, random_state=42)"
      ]
    },
    {
      "cell_type": "markdown",
      "id": "gU69nVScQ2CR",
      "metadata": {
        "id": "gU69nVScQ2CR"
      },
      "source": [
        "## Logistic Regression"
      ]
    },
    {
      "cell_type": "code",
      "execution_count": 22,
      "id": "ZP9EBOGCQ2CS",
      "metadata": {
        "execution": {
          "iopub.execute_input": "2023-03-05T14:46:11.059344Z",
          "iopub.status.busy": "2023-03-05T14:46:11.058836Z",
          "iopub.status.idle": "2023-03-05T14:46:11.170840Z",
          "shell.execute_reply": "2023-03-05T14:46:11.169682Z",
          "shell.execute_reply.started": "2023-03-05T14:46:11.059308Z"
        },
        "id": "ZP9EBOGCQ2CS",
        "trusted": true
      },
      "outputs": [
        {
          "name": "stdout",
          "output_type": "stream",
          "text": [
            "Unexpected exception formatting exception. Falling back to standard exception\n"
          ]
        },
        {
          "name": "stderr",
          "output_type": "stream",
          "text": [
            "Traceback (most recent call last):\n",
            "  File \"e:\\ml project\\capstone\\.venv\\lib\\site-packages\\IPython\\core\\interactiveshell.py\", line 3505, in run_code\n",
            "  File \"C:\\Users\\palla\\AppData\\Local\\Temp\\ipykernel_18976\\3335445001.py\", line 1, in <module>\n",
            "    from sklearn.linear_model import LogisticRegression\n",
            "ModuleNotFoundError: No module named 'sklearn'\n",
            "\n",
            "During handling of the above exception, another exception occurred:\n",
            "\n",
            "Traceback (most recent call last):\n",
            "  File \"e:\\ml project\\capstone\\.venv\\lib\\site-packages\\pygments\\styles\\__init__.py\", line 82, in get_style_by_name\n",
            "ModuleNotFoundError: No module named 'pygments.styles.default'\n",
            "\n",
            "During handling of the above exception, another exception occurred:\n",
            "\n",
            "Traceback (most recent call last):\n",
            "  File \"e:\\ml project\\capstone\\.venv\\lib\\site-packages\\IPython\\core\\interactiveshell.py\", line 2102, in showtraceback\n",
            "  File \"e:\\ml project\\capstone\\.venv\\lib\\site-packages\\IPython\\core\\ultratb.py\", line 1310, in structured_traceback\n",
            "  File \"e:\\ml project\\capstone\\.venv\\lib\\site-packages\\IPython\\core\\ultratb.py\", line 1199, in structured_traceback\n",
            "  File \"e:\\ml project\\capstone\\.venv\\lib\\site-packages\\IPython\\core\\ultratb.py\", line 1052, in structured_traceback\n",
            "  File \"e:\\ml project\\capstone\\.venv\\lib\\site-packages\\IPython\\core\\ultratb.py\", line 953, in format_exception_as_a_whole\n",
            "  File \"e:\\ml project\\capstone\\.venv\\lib\\site-packages\\IPython\\core\\ultratb.py\", line 1004, in get_records\n",
            "  File \"e:\\ml project\\capstone\\.venv\\lib\\site-packages\\pygments\\styles\\__init__.py\", line 84, in get_style_by_name\n",
            "pygments.util.ClassNotFound: Could not find style module 'default', though it should be builtin.\n"
          ]
        }
      ],
      "source": [
        "from sklearn.linear_model import LogisticRegression\n",
        "from sklearn.metrics import accuracy_score\n",
        "log = LogisticRegression()\n",
        "log.fit(X_train,y_train)\n",
        "acc = accuracy_score(log.predict(X_val),y_val)\n",
        "f'Validation accuracy: {round(acc*100,2)}%'\n",
        "log_pred=log.predict(X_test)"
      ]
    },
    {
      "cell_type": "code",
      "execution_count": 23,
      "id": "b7RToFOVY_UD",
      "metadata": {
        "colab": {
          "base_uri": "https://localhost:8080/"
        },
        "id": "b7RToFOVY_UD",
        "outputId": "d7bee6e3-89ab-4bad-ed18-13988d96dae5"
      },
      "outputs": [
        {
          "name": "stdout",
          "output_type": "stream",
          "text": [
            "Unexpected exception formatting exception. Falling back to standard exception\n"
          ]
        },
        {
          "name": "stderr",
          "output_type": "stream",
          "text": [
            "Traceback (most recent call last):\n",
            "  File \"e:\\ml project\\capstone\\.venv\\lib\\site-packages\\IPython\\core\\interactiveshell.py\", line 3505, in run_code\n",
            "  File \"C:\\Users\\palla\\AppData\\Local\\Temp\\ipykernel_18976\\4207122245.py\", line 1, in <module>\n",
            "    log_pred\n",
            "NameError: name 'log_pred' is not defined\n",
            "\n",
            "During handling of the above exception, another exception occurred:\n",
            "\n",
            "Traceback (most recent call last):\n",
            "  File \"e:\\ml project\\capstone\\.venv\\lib\\site-packages\\pygments\\styles\\__init__.py\", line 82, in get_style_by_name\n",
            "ModuleNotFoundError: No module named 'pygments.styles.default'\n",
            "\n",
            "During handling of the above exception, another exception occurred:\n",
            "\n",
            "Traceback (most recent call last):\n",
            "  File \"e:\\ml project\\capstone\\.venv\\lib\\site-packages\\IPython\\core\\interactiveshell.py\", line 2102, in showtraceback\n",
            "  File \"e:\\ml project\\capstone\\.venv\\lib\\site-packages\\IPython\\core\\ultratb.py\", line 1310, in structured_traceback\n",
            "  File \"e:\\ml project\\capstone\\.venv\\lib\\site-packages\\IPython\\core\\ultratb.py\", line 1199, in structured_traceback\n",
            "  File \"e:\\ml project\\capstone\\.venv\\lib\\site-packages\\IPython\\core\\ultratb.py\", line 1052, in structured_traceback\n",
            "  File \"e:\\ml project\\capstone\\.venv\\lib\\site-packages\\IPython\\core\\ultratb.py\", line 953, in format_exception_as_a_whole\n",
            "  File \"e:\\ml project\\capstone\\.venv\\lib\\site-packages\\IPython\\core\\ultratb.py\", line 1004, in get_records\n",
            "  File \"e:\\ml project\\capstone\\.venv\\lib\\site-packages\\pygments\\styles\\__init__.py\", line 84, in get_style_by_name\n",
            "pygments.util.ClassNotFound: Could not find style module 'default', though it should be builtin.\n"
          ]
        }
      ],
      "source": [
        "log_pred"
      ]
    },
    {
      "cell_type": "code",
      "execution_count": 24,
      "id": "BGujrXg2Q2CS",
      "metadata": {
        "colab": {
          "base_uri": "https://localhost:8080/",
          "height": 36
        },
        "execution": {
          "iopub.execute_input": "2023-03-05T14:46:11.178439Z",
          "iopub.status.busy": "2023-03-05T14:46:11.175717Z",
          "iopub.status.idle": "2023-03-05T14:46:11.192379Z",
          "shell.execute_reply": "2023-03-05T14:46:11.191274Z",
          "shell.execute_reply.started": "2023-03-05T14:46:11.178389Z"
        },
        "id": "BGujrXg2Q2CS",
        "outputId": "4ca1a1f8-2f38-470f-81a3-718c08050b4f",
        "trusted": true
      },
      "outputs": [
        {
          "name": "stdout",
          "output_type": "stream",
          "text": [
            "Unexpected exception formatting exception. Falling back to standard exception\n"
          ]
        },
        {
          "name": "stderr",
          "output_type": "stream",
          "text": [
            "Traceback (most recent call last):\n",
            "  File \"e:\\ml project\\capstone\\.venv\\lib\\site-packages\\IPython\\core\\interactiveshell.py\", line 3505, in run_code\n",
            "  File \"C:\\Users\\palla\\AppData\\Local\\Temp\\ipykernel_18976\\3236835498.py\", line 1, in <module>\n",
            "    acc = accuracy_score(log.predict(X_test),y_test)\n",
            "NameError: name 'accuracy_score' is not defined\n",
            "\n",
            "During handling of the above exception, another exception occurred:\n",
            "\n",
            "Traceback (most recent call last):\n",
            "  File \"e:\\ml project\\capstone\\.venv\\lib\\site-packages\\pygments\\styles\\__init__.py\", line 82, in get_style_by_name\n",
            "ModuleNotFoundError: No module named 'pygments.styles.default'\n",
            "\n",
            "During handling of the above exception, another exception occurred:\n",
            "\n",
            "Traceback (most recent call last):\n",
            "  File \"e:\\ml project\\capstone\\.venv\\lib\\site-packages\\IPython\\core\\interactiveshell.py\", line 2102, in showtraceback\n",
            "  File \"e:\\ml project\\capstone\\.venv\\lib\\site-packages\\IPython\\core\\ultratb.py\", line 1310, in structured_traceback\n",
            "  File \"e:\\ml project\\capstone\\.venv\\lib\\site-packages\\IPython\\core\\ultratb.py\", line 1199, in structured_traceback\n",
            "  File \"e:\\ml project\\capstone\\.venv\\lib\\site-packages\\IPython\\core\\ultratb.py\", line 1052, in structured_traceback\n",
            "  File \"e:\\ml project\\capstone\\.venv\\lib\\site-packages\\IPython\\core\\ultratb.py\", line 953, in format_exception_as_a_whole\n",
            "  File \"e:\\ml project\\capstone\\.venv\\lib\\site-packages\\IPython\\core\\ultratb.py\", line 1004, in get_records\n",
            "  File \"e:\\ml project\\capstone\\.venv\\lib\\site-packages\\pygments\\styles\\__init__.py\", line 84, in get_style_by_name\n",
            "pygments.util.ClassNotFound: Could not find style module 'default', though it should be builtin.\n"
          ]
        }
      ],
      "source": [
        "acc = accuracy_score(log.predict(X_test),y_test)\n",
        "f'Testing accuracy: {round(acc*100,2)}%'"
      ]
    },
    {
      "cell_type": "code",
      "execution_count": 25,
      "id": "fj-WvQv0WuLX",
      "metadata": {
        "colab": {
          "base_uri": "https://localhost:8080/"
        },
        "id": "fj-WvQv0WuLX",
        "outputId": "3c49309e-7a95-4521-baca-ae8d95e29c2a"
      },
      "outputs": [
        {
          "name": "stdout",
          "output_type": "stream",
          "text": [
            "Unexpected exception formatting exception. Falling back to standard exception\n"
          ]
        },
        {
          "name": "stderr",
          "output_type": "stream",
          "text": [
            "Traceback (most recent call last):\n",
            "  File \"e:\\ml project\\capstone\\.venv\\lib\\site-packages\\IPython\\core\\interactiveshell.py\", line 3505, in run_code\n",
            "  File \"C:\\Users\\palla\\AppData\\Local\\Temp\\ipykernel_18976\\2897878024.py\", line 1, in <module>\n",
            "    from sklearn.metrics import mean_squared_error,mean_absolute_error\n",
            "ModuleNotFoundError: No module named 'sklearn'\n",
            "\n",
            "During handling of the above exception, another exception occurred:\n",
            "\n",
            "Traceback (most recent call last):\n",
            "  File \"e:\\ml project\\capstone\\.venv\\lib\\site-packages\\pygments\\styles\\__init__.py\", line 82, in get_style_by_name\n",
            "ModuleNotFoundError: No module named 'pygments.styles.default'\n",
            "\n",
            "During handling of the above exception, another exception occurred:\n",
            "\n",
            "Traceback (most recent call last):\n",
            "  File \"e:\\ml project\\capstone\\.venv\\lib\\site-packages\\IPython\\core\\interactiveshell.py\", line 2102, in showtraceback\n",
            "  File \"e:\\ml project\\capstone\\.venv\\lib\\site-packages\\IPython\\core\\ultratb.py\", line 1310, in structured_traceback\n",
            "  File \"e:\\ml project\\capstone\\.venv\\lib\\site-packages\\IPython\\core\\ultratb.py\", line 1199, in structured_traceback\n",
            "  File \"e:\\ml project\\capstone\\.venv\\lib\\site-packages\\IPython\\core\\ultratb.py\", line 1052, in structured_traceback\n",
            "  File \"e:\\ml project\\capstone\\.venv\\lib\\site-packages\\IPython\\core\\ultratb.py\", line 953, in format_exception_as_a_whole\n",
            "  File \"e:\\ml project\\capstone\\.venv\\lib\\site-packages\\IPython\\core\\ultratb.py\", line 1004, in get_records\n",
            "  File \"e:\\ml project\\capstone\\.venv\\lib\\site-packages\\pygments\\styles\\__init__.py\", line 84, in get_style_by_name\n",
            "pygments.util.ClassNotFound: Could not find style module 'default', though it should be builtin.\n"
          ]
        }
      ],
      "source": [
        "from sklearn.metrics import mean_squared_error,mean_absolute_error\n",
        "print(mean_absolute_error(y_test,log_pred))\n",
        "print(mean_squared_error(y_test,log_pred))\n",
        "print(np.sqrt(mean_squared_error(y_test,log_pred)))"
      ]
    },
    {
      "cell_type": "code",
      "execution_count": 26,
      "id": "YdkBbXb9WuOM",
      "metadata": {
        "colab": {
          "base_uri": "https://localhost:8080/"
        },
        "id": "YdkBbXb9WuOM",
        "outputId": "57803493-4840-43e6-d0a2-be30ea7b9005"
      },
      "outputs": [
        {
          "name": "stdout",
          "output_type": "stream",
          "text": [
            "Unexpected exception formatting exception. Falling back to standard exception\n"
          ]
        },
        {
          "name": "stderr",
          "output_type": "stream",
          "text": [
            "Traceback (most recent call last):\n",
            "  File \"e:\\ml project\\capstone\\.venv\\lib\\site-packages\\IPython\\core\\interactiveshell.py\", line 3505, in run_code\n",
            "  File \"C:\\Users\\palla\\AppData\\Local\\Temp\\ipykernel_18976\\2587347020.py\", line 1, in <module>\n",
            "    from sklearn.metrics import r2_score\n",
            "ModuleNotFoundError: No module named 'sklearn'\n",
            "\n",
            "During handling of the above exception, another exception occurred:\n",
            "\n",
            "Traceback (most recent call last):\n",
            "  File \"e:\\ml project\\capstone\\.venv\\lib\\site-packages\\pygments\\styles\\__init__.py\", line 82, in get_style_by_name\n",
            "ModuleNotFoundError: No module named 'pygments.styles.default'\n",
            "\n",
            "During handling of the above exception, another exception occurred:\n",
            "\n",
            "Traceback (most recent call last):\n",
            "  File \"e:\\ml project\\capstone\\.venv\\lib\\site-packages\\IPython\\core\\interactiveshell.py\", line 2102, in showtraceback\n",
            "  File \"e:\\ml project\\capstone\\.venv\\lib\\site-packages\\IPython\\core\\ultratb.py\", line 1310, in structured_traceback\n",
            "  File \"e:\\ml project\\capstone\\.venv\\lib\\site-packages\\IPython\\core\\ultratb.py\", line 1199, in structured_traceback\n",
            "  File \"e:\\ml project\\capstone\\.venv\\lib\\site-packages\\IPython\\core\\ultratb.py\", line 1052, in structured_traceback\n",
            "  File \"e:\\ml project\\capstone\\.venv\\lib\\site-packages\\IPython\\core\\ultratb.py\", line 953, in format_exception_as_a_whole\n",
            "  File \"e:\\ml project\\capstone\\.venv\\lib\\site-packages\\IPython\\core\\ultratb.py\", line 1004, in get_records\n",
            "  File \"e:\\ml project\\capstone\\.venv\\lib\\site-packages\\pygments\\styles\\__init__.py\", line 84, in get_style_by_name\n",
            "pygments.util.ClassNotFound: Could not find style module 'default', though it should be builtin.\n"
          ]
        }
      ],
      "source": [
        "from sklearn.metrics import r2_score\n",
        "score=r2_score(y_test,log_pred)\n",
        "print(score)"
      ]
    },
    {
      "cell_type": "code",
      "execution_count": null,
      "id": "IS3hX6hcWuQ-",
      "metadata": {
        "id": "IS3hX6hcWuQ-"
      },
      "outputs": [],
      "source": []
    },
    {
      "cell_type": "code",
      "execution_count": null,
      "id": "rdxouCLKWuT4",
      "metadata": {
        "id": "rdxouCLKWuT4"
      },
      "outputs": [],
      "source": []
    },
    {
      "cell_type": "markdown",
      "id": "fgvAdnAwQ2CS",
      "metadata": {
        "id": "fgvAdnAwQ2CS"
      },
      "source": [
        "## Using top 3 variables given by LassoCV"
      ]
    },
    {
      "cell_type": "code",
      "execution_count": 27,
      "id": "Qc-ZJN2VQ2CS",
      "metadata": {
        "colab": {
          "base_uri": "https://localhost:8080/",
          "height": 36
        },
        "execution": {
          "iopub.execute_input": "2023-03-05T14:46:11.199270Z",
          "iopub.status.busy": "2023-03-05T14:46:11.196960Z",
          "iopub.status.idle": "2023-03-05T14:46:11.268271Z",
          "shell.execute_reply": "2023-03-05T14:46:11.267096Z",
          "shell.execute_reply.started": "2023-03-05T14:46:11.199240Z"
        },
        "id": "Qc-ZJN2VQ2CS",
        "outputId": "8c30c7cd-cac6-4363-8e53-dad5e2e42a04",
        "trusted": true
      },
      "outputs": [
        {
          "name": "stdout",
          "output_type": "stream",
          "text": [
            "Unexpected exception formatting exception. Falling back to standard exception\n"
          ]
        },
        {
          "name": "stderr",
          "output_type": "stream",
          "text": [
            "Traceback (most recent call last):\n",
            "  File \"e:\\ml project\\capstone\\.venv\\lib\\site-packages\\IPython\\core\\interactiveshell.py\", line 3505, in run_code\n",
            "  File \"C:\\Users\\palla\\AppData\\Local\\Temp\\ipykernel_18976\\1524835343.py\", line 1, in <module>\n",
            "    log.fit(X_train[[\"MonthlyCharges\",\"TotalCharges\",\"tenure\"]],y_train)\n",
            "NameError: name 'log' is not defined\n",
            "\n",
            "During handling of the above exception, another exception occurred:\n",
            "\n",
            "Traceback (most recent call last):\n",
            "  File \"e:\\ml project\\capstone\\.venv\\lib\\site-packages\\pygments\\styles\\__init__.py\", line 82, in get_style_by_name\n",
            "ModuleNotFoundError: No module named 'pygments.styles.default'\n",
            "\n",
            "During handling of the above exception, another exception occurred:\n",
            "\n",
            "Traceback (most recent call last):\n",
            "  File \"e:\\ml project\\capstone\\.venv\\lib\\site-packages\\IPython\\core\\interactiveshell.py\", line 2102, in showtraceback\n",
            "  File \"e:\\ml project\\capstone\\.venv\\lib\\site-packages\\IPython\\core\\ultratb.py\", line 1310, in structured_traceback\n",
            "  File \"e:\\ml project\\capstone\\.venv\\lib\\site-packages\\IPython\\core\\ultratb.py\", line 1199, in structured_traceback\n",
            "  File \"e:\\ml project\\capstone\\.venv\\lib\\site-packages\\IPython\\core\\ultratb.py\", line 1052, in structured_traceback\n",
            "  File \"e:\\ml project\\capstone\\.venv\\lib\\site-packages\\IPython\\core\\ultratb.py\", line 953, in format_exception_as_a_whole\n",
            "  File \"e:\\ml project\\capstone\\.venv\\lib\\site-packages\\IPython\\core\\ultratb.py\", line 1004, in get_records\n",
            "  File \"e:\\ml project\\capstone\\.venv\\lib\\site-packages\\pygments\\styles\\__init__.py\", line 84, in get_style_by_name\n",
            "pygments.util.ClassNotFound: Could not find style module 'default', though it should be builtin.\n"
          ]
        }
      ],
      "source": [
        "log.fit(X_train[[\"MonthlyCharges\",\"TotalCharges\",\"tenure\"]],y_train)\n",
        "acc = accuracy_score(log.predict(X_val[[\"MonthlyCharges\",\"TotalCharges\",\"tenure\"]]),y_val)\n",
        "f'Validation accuracy: {round(acc*100,2)}%'"
      ]
    },
    {
      "cell_type": "code",
      "execution_count": 28,
      "id": "d1e7q8tGQ2CS",
      "metadata": {
        "colab": {
          "base_uri": "https://localhost:8080/",
          "height": 36
        },
        "execution": {
          "iopub.execute_input": "2023-03-05T14:46:11.270910Z",
          "iopub.status.busy": "2023-03-05T14:46:11.269961Z",
          "iopub.status.idle": "2023-03-05T14:46:11.309379Z",
          "shell.execute_reply": "2023-03-05T14:46:11.297110Z",
          "shell.execute_reply.started": "2023-03-05T14:46:11.270854Z"
        },
        "id": "d1e7q8tGQ2CS",
        "outputId": "ab1cf060-50e5-4ae5-c53f-b680d9744758",
        "trusted": true
      },
      "outputs": [
        {
          "name": "stdout",
          "output_type": "stream",
          "text": [
            "Unexpected exception formatting exception. Falling back to standard exception\n"
          ]
        },
        {
          "name": "stderr",
          "output_type": "stream",
          "text": [
            "Traceback (most recent call last):\n",
            "  File \"e:\\ml project\\capstone\\.venv\\lib\\site-packages\\IPython\\core\\interactiveshell.py\", line 3505, in run_code\n",
            "  File \"C:\\Users\\palla\\AppData\\Local\\Temp\\ipykernel_18976\\1014227538.py\", line 1, in <module>\n",
            "    acc = accuracy_score(log.predict(X_test[[\"MonthlyCharges\",\"TotalCharges\",\"tenure\"]]),y_test)\n",
            "NameError: name 'accuracy_score' is not defined\n",
            "\n",
            "During handling of the above exception, another exception occurred:\n",
            "\n",
            "Traceback (most recent call last):\n",
            "  File \"e:\\ml project\\capstone\\.venv\\lib\\site-packages\\pygments\\styles\\__init__.py\", line 82, in get_style_by_name\n",
            "ModuleNotFoundError: No module named 'pygments.styles.default'\n",
            "\n",
            "During handling of the above exception, another exception occurred:\n",
            "\n",
            "Traceback (most recent call last):\n",
            "  File \"e:\\ml project\\capstone\\.venv\\lib\\site-packages\\IPython\\core\\interactiveshell.py\", line 2102, in showtraceback\n",
            "  File \"e:\\ml project\\capstone\\.venv\\lib\\site-packages\\IPython\\core\\ultratb.py\", line 1310, in structured_traceback\n",
            "  File \"e:\\ml project\\capstone\\.venv\\lib\\site-packages\\IPython\\core\\ultratb.py\", line 1199, in structured_traceback\n",
            "  File \"e:\\ml project\\capstone\\.venv\\lib\\site-packages\\IPython\\core\\ultratb.py\", line 1052, in structured_traceback\n",
            "  File \"e:\\ml project\\capstone\\.venv\\lib\\site-packages\\IPython\\core\\ultratb.py\", line 953, in format_exception_as_a_whole\n",
            "  File \"e:\\ml project\\capstone\\.venv\\lib\\site-packages\\IPython\\core\\ultratb.py\", line 1004, in get_records\n",
            "  File \"e:\\ml project\\capstone\\.venv\\lib\\site-packages\\pygments\\styles\\__init__.py\", line 84, in get_style_by_name\n",
            "pygments.util.ClassNotFound: Could not find style module 'default', though it should be builtin.\n"
          ]
        }
      ],
      "source": [
        "acc = accuracy_score(log.predict(X_test[[\"MonthlyCharges\",\"TotalCharges\",\"tenure\"]]),y_test)\n",
        "f'Testing accuracy: {round(acc*100,2)}%'"
      ]
    },
    {
      "cell_type": "markdown",
      "id": "h6E32QtpQ2CS",
      "metadata": {
        "id": "h6E32QtpQ2CS"
      },
      "source": [
        "## Using top 8 variables given by Select Kbest"
      ]
    },
    {
      "cell_type": "code",
      "execution_count": 29,
      "id": "0mEvxO7mQ2CS",
      "metadata": {
        "colab": {
          "base_uri": "https://localhost:8080/",
          "height": 36
        },
        "execution": {
          "iopub.execute_input": "2023-03-05T14:46:11.320934Z",
          "iopub.status.busy": "2023-03-05T14:46:11.320538Z",
          "iopub.status.idle": "2023-03-05T14:46:11.380428Z",
          "shell.execute_reply": "2023-03-05T14:46:11.379213Z",
          "shell.execute_reply.started": "2023-03-05T14:46:11.320878Z"
        },
        "id": "0mEvxO7mQ2CS",
        "outputId": "f3c67725-0822-44ac-d870-561e95564f50",
        "trusted": true
      },
      "outputs": [
        {
          "name": "stdout",
          "output_type": "stream",
          "text": [
            "Unexpected exception formatting exception. Falling back to standard exception\n"
          ]
        },
        {
          "name": "stderr",
          "output_type": "stream",
          "text": [
            "Traceback (most recent call last):\n",
            "  File \"e:\\ml project\\capstone\\.venv\\lib\\site-packages\\IPython\\core\\interactiveshell.py\", line 3505, in run_code\n",
            "  File \"C:\\Users\\palla\\AppData\\Local\\Temp\\ipykernel_18976\\301698272.py\", line 1, in <module>\n",
            "    log.fit(X_train[['SeniorCitizen', 'Dependents', 'tenure', 'OnlineSecurity','OnlineBackup', 'TechSupport', 'Contract', 'PaperlessBilling']],y_train)\n",
            "NameError: name 'log' is not defined\n",
            "\n",
            "During handling of the above exception, another exception occurred:\n",
            "\n",
            "Traceback (most recent call last):\n",
            "  File \"e:\\ml project\\capstone\\.venv\\lib\\site-packages\\pygments\\styles\\__init__.py\", line 82, in get_style_by_name\n",
            "ModuleNotFoundError: No module named 'pygments.styles.default'\n",
            "\n",
            "During handling of the above exception, another exception occurred:\n",
            "\n",
            "Traceback (most recent call last):\n",
            "  File \"e:\\ml project\\capstone\\.venv\\lib\\site-packages\\IPython\\core\\interactiveshell.py\", line 2102, in showtraceback\n",
            "  File \"e:\\ml project\\capstone\\.venv\\lib\\site-packages\\IPython\\core\\ultratb.py\", line 1310, in structured_traceback\n",
            "  File \"e:\\ml project\\capstone\\.venv\\lib\\site-packages\\IPython\\core\\ultratb.py\", line 1199, in structured_traceback\n",
            "  File \"e:\\ml project\\capstone\\.venv\\lib\\site-packages\\IPython\\core\\ultratb.py\", line 1052, in structured_traceback\n",
            "  File \"e:\\ml project\\capstone\\.venv\\lib\\site-packages\\IPython\\core\\ultratb.py\", line 953, in format_exception_as_a_whole\n",
            "  File \"e:\\ml project\\capstone\\.venv\\lib\\site-packages\\IPython\\core\\ultratb.py\", line 1004, in get_records\n",
            "  File \"e:\\ml project\\capstone\\.venv\\lib\\site-packages\\pygments\\styles\\__init__.py\", line 84, in get_style_by_name\n",
            "pygments.util.ClassNotFound: Could not find style module 'default', though it should be builtin.\n"
          ]
        }
      ],
      "source": [
        "log.fit(X_train[['SeniorCitizen', 'Dependents', 'tenure', 'OnlineSecurity','OnlineBackup', 'TechSupport', 'Contract', 'PaperlessBilling']],y_train)\n",
        "acc = accuracy_score(log.predict(X_val[['SeniorCitizen', 'Dependents', 'tenure', 'OnlineSecurity','OnlineBackup', 'TechSupport', 'Contract', 'PaperlessBilling']]),y_val)\n",
        "f'Validation accuracy: {round(acc*100,2)}%'"
      ]
    },
    {
      "cell_type": "code",
      "execution_count": 30,
      "id": "tyVgR_ZVQ2CS",
      "metadata": {
        "colab": {
          "base_uri": "https://localhost:8080/",
          "height": 36
        },
        "execution": {
          "iopub.execute_input": "2023-03-05T14:46:11.385067Z",
          "iopub.status.busy": "2023-03-05T14:46:11.384741Z",
          "iopub.status.idle": "2023-03-05T14:46:11.412070Z",
          "shell.execute_reply": "2023-03-05T14:46:11.410724Z",
          "shell.execute_reply.started": "2023-03-05T14:46:11.385023Z"
        },
        "id": "tyVgR_ZVQ2CS",
        "outputId": "70386da5-3e46-4cec-f9b2-f9305ed77dd6",
        "trusted": true
      },
      "outputs": [
        {
          "name": "stdout",
          "output_type": "stream",
          "text": [
            "Unexpected exception formatting exception. Falling back to standard exception\n"
          ]
        },
        {
          "name": "stderr",
          "output_type": "stream",
          "text": [
            "Traceback (most recent call last):\n",
            "  File \"e:\\ml project\\capstone\\.venv\\lib\\site-packages\\IPython\\core\\interactiveshell.py\", line 3505, in run_code\n",
            "  File \"C:\\Users\\palla\\AppData\\Local\\Temp\\ipykernel_18976\\3080397652.py\", line 1, in <module>\n",
            "    acc = accuracy_score(log.predict(X_test[['SeniorCitizen', 'Dependents', 'tenure', 'OnlineSecurity','OnlineBackup', 'TechSupport', 'Contract', 'PaperlessBilling']]),y_test)\n",
            "NameError: name 'accuracy_score' is not defined\n",
            "\n",
            "During handling of the above exception, another exception occurred:\n",
            "\n",
            "Traceback (most recent call last):\n",
            "  File \"e:\\ml project\\capstone\\.venv\\lib\\site-packages\\pygments\\styles\\__init__.py\", line 82, in get_style_by_name\n",
            "ModuleNotFoundError: No module named 'pygments.styles.default'\n",
            "\n",
            "During handling of the above exception, another exception occurred:\n",
            "\n",
            "Traceback (most recent call last):\n",
            "  File \"e:\\ml project\\capstone\\.venv\\lib\\site-packages\\IPython\\core\\interactiveshell.py\", line 2102, in showtraceback\n",
            "  File \"e:\\ml project\\capstone\\.venv\\lib\\site-packages\\IPython\\core\\ultratb.py\", line 1310, in structured_traceback\n",
            "  File \"e:\\ml project\\capstone\\.venv\\lib\\site-packages\\IPython\\core\\ultratb.py\", line 1199, in structured_traceback\n",
            "  File \"e:\\ml project\\capstone\\.venv\\lib\\site-packages\\IPython\\core\\ultratb.py\", line 1052, in structured_traceback\n",
            "  File \"e:\\ml project\\capstone\\.venv\\lib\\site-packages\\IPython\\core\\ultratb.py\", line 953, in format_exception_as_a_whole\n",
            "  File \"e:\\ml project\\capstone\\.venv\\lib\\site-packages\\IPython\\core\\ultratb.py\", line 1004, in get_records\n",
            "  File \"e:\\ml project\\capstone\\.venv\\lib\\site-packages\\pygments\\styles\\__init__.py\", line 84, in get_style_by_name\n",
            "pygments.util.ClassNotFound: Could not find style module 'default', though it should be builtin.\n"
          ]
        }
      ],
      "source": [
        "acc = accuracy_score(log.predict(X_test[['SeniorCitizen', 'Dependents', 'tenure', 'OnlineSecurity','OnlineBackup', 'TechSupport', 'Contract', 'PaperlessBilling']]),y_test)\n",
        "f'Testing accuracy: {round(acc*100,2)}%'"
      ]
    },
    {
      "cell_type": "markdown",
      "id": "QunkWeTeQ2CS",
      "metadata": {
        "id": "QunkWeTeQ2CS"
      },
      "source": [
        "## Hyperparameter Tuning using GridSearchCV for decision tree"
      ]
    },
    {
      "cell_type": "code",
      "execution_count": 31,
      "id": "9rFcVoHrQ2CT",
      "metadata": {
        "execution": {
          "iopub.execute_input": "2023-03-05T14:46:11.414334Z",
          "iopub.status.busy": "2023-03-05T14:46:11.413637Z",
          "iopub.status.idle": "2023-03-05T14:46:11.501589Z",
          "shell.execute_reply": "2023-03-05T14:46:11.500326Z",
          "shell.execute_reply.started": "2023-03-05T14:46:11.414296Z"
        },
        "id": "9rFcVoHrQ2CT",
        "trusted": true
      },
      "outputs": [
        {
          "name": "stdout",
          "output_type": "stream",
          "text": [
            "Unexpected exception formatting exception. Falling back to standard exception\n"
          ]
        },
        {
          "name": "stderr",
          "output_type": "stream",
          "text": [
            "Traceback (most recent call last):\n",
            "  File \"e:\\ml project\\capstone\\.venv\\lib\\site-packages\\IPython\\core\\interactiveshell.py\", line 3505, in run_code\n",
            "  File \"C:\\Users\\palla\\AppData\\Local\\Temp\\ipykernel_18976\\762657464.py\", line 1, in <module>\n",
            "    from sklearn.tree import DecisionTreeClassifier, export_graphviz, ExtraTreeClassifier, plot_tree\n",
            "ModuleNotFoundError: No module named 'sklearn'\n",
            "\n",
            "During handling of the above exception, another exception occurred:\n",
            "\n",
            "Traceback (most recent call last):\n",
            "  File \"e:\\ml project\\capstone\\.venv\\lib\\site-packages\\pygments\\styles\\__init__.py\", line 82, in get_style_by_name\n",
            "ModuleNotFoundError: No module named 'pygments.styles.default'\n",
            "\n",
            "During handling of the above exception, another exception occurred:\n",
            "\n",
            "Traceback (most recent call last):\n",
            "  File \"e:\\ml project\\capstone\\.venv\\lib\\site-packages\\IPython\\core\\interactiveshell.py\", line 2102, in showtraceback\n",
            "  File \"e:\\ml project\\capstone\\.venv\\lib\\site-packages\\IPython\\core\\ultratb.py\", line 1310, in structured_traceback\n",
            "  File \"e:\\ml project\\capstone\\.venv\\lib\\site-packages\\IPython\\core\\ultratb.py\", line 1199, in structured_traceback\n",
            "  File \"e:\\ml project\\capstone\\.venv\\lib\\site-packages\\IPython\\core\\ultratb.py\", line 1052, in structured_traceback\n",
            "  File \"e:\\ml project\\capstone\\.venv\\lib\\site-packages\\IPython\\core\\ultratb.py\", line 953, in format_exception_as_a_whole\n",
            "  File \"e:\\ml project\\capstone\\.venv\\lib\\site-packages\\IPython\\core\\ultratb.py\", line 1004, in get_records\n",
            "  File \"e:\\ml project\\capstone\\.venv\\lib\\site-packages\\pygments\\styles\\__init__.py\", line 84, in get_style_by_name\n",
            "pygments.util.ClassNotFound: Could not find style module 'default', though it should be builtin.\n"
          ]
        }
      ],
      "source": [
        "from sklearn.tree import DecisionTreeClassifier, export_graphviz, ExtraTreeClassifier, plot_tree\n",
        "from sklearn.model_selection import GridSearchCV\n",
        "def dtree_grid_search(X,y,nfolds):\n",
        "    #create a dictionary of all values we want to test\n",
        "    param_grid = { 'criterion':['gini','entropy'],'max_depth': np.arange(3, 15),'max_leaf_nodes': list(range(2, 10)), 'min_samples_split': [2, 3, 4]}\n",
        "    # decision tree model\n",
        "    dtree_model=DecisionTreeClassifier()\n",
        "    #use gridsearch to test all values\n",
        "    dtree_gscv = GridSearchCV(dtree_model, param_grid, cv=nfolds)\n",
        "    #fit model to data\n",
        "    dtree_gscv.fit(X, y)\n",
        "    return dtree_gscv.best_params_"
      ]
    },
    {
      "cell_type": "code",
      "execution_count": 32,
      "id": "PWIxh-kMQ2CT",
      "metadata": {
        "colab": {
          "base_uri": "https://localhost:8080/"
        },
        "execution": {
          "iopub.execute_input": "2023-03-05T14:46:11.508146Z",
          "iopub.status.busy": "2023-03-05T14:46:11.504286Z",
          "iopub.status.idle": "2023-03-05T14:46:21.800524Z",
          "shell.execute_reply": "2023-03-05T14:46:21.799343Z",
          "shell.execute_reply.started": "2023-03-05T14:46:11.508063Z"
        },
        "id": "PWIxh-kMQ2CT",
        "outputId": "c72f53c4-e64d-4e5e-a472-3a2a080b02fa",
        "trusted": true
      },
      "outputs": [
        {
          "name": "stdout",
          "output_type": "stream",
          "text": [
            "Unexpected exception formatting exception. Falling back to standard exception\n"
          ]
        },
        {
          "name": "stderr",
          "output_type": "stream",
          "text": [
            "Traceback (most recent call last):\n",
            "  File \"e:\\ml project\\capstone\\.venv\\lib\\site-packages\\IPython\\core\\interactiveshell.py\", line 3505, in run_code\n",
            "  File \"C:\\Users\\palla\\AppData\\Local\\Temp\\ipykernel_18976\\2862906449.py\", line 1, in <module>\n",
            "    dtree_grid_search(X_train,y_train,2)\n",
            "NameError: name 'dtree_grid_search' is not defined\n",
            "\n",
            "During handling of the above exception, another exception occurred:\n",
            "\n",
            "Traceback (most recent call last):\n",
            "  File \"e:\\ml project\\capstone\\.venv\\lib\\site-packages\\pygments\\styles\\__init__.py\", line 82, in get_style_by_name\n",
            "ModuleNotFoundError: No module named 'pygments.styles.default'\n",
            "\n",
            "During handling of the above exception, another exception occurred:\n",
            "\n",
            "Traceback (most recent call last):\n",
            "  File \"e:\\ml project\\capstone\\.venv\\lib\\site-packages\\IPython\\core\\interactiveshell.py\", line 2102, in showtraceback\n",
            "  File \"e:\\ml project\\capstone\\.venv\\lib\\site-packages\\IPython\\core\\ultratb.py\", line 1310, in structured_traceback\n",
            "  File \"e:\\ml project\\capstone\\.venv\\lib\\site-packages\\IPython\\core\\ultratb.py\", line 1199, in structured_traceback\n",
            "  File \"e:\\ml project\\capstone\\.venv\\lib\\site-packages\\IPython\\core\\ultratb.py\", line 1052, in structured_traceback\n",
            "  File \"e:\\ml project\\capstone\\.venv\\lib\\site-packages\\IPython\\core\\ultratb.py\", line 953, in format_exception_as_a_whole\n",
            "  File \"e:\\ml project\\capstone\\.venv\\lib\\site-packages\\IPython\\core\\ultratb.py\", line 1004, in get_records\n",
            "  File \"e:\\ml project\\capstone\\.venv\\lib\\site-packages\\pygments\\styles\\__init__.py\", line 84, in get_style_by_name\n",
            "pygments.util.ClassNotFound: Could not find style module 'default', though it should be builtin.\n"
          ]
        }
      ],
      "source": [
        "dtree_grid_search(X_train,y_train,2)"
      ]
    },
    {
      "cell_type": "markdown",
      "id": "hwLaIOY0Q2CT",
      "metadata": {
        "id": "hwLaIOY0Q2CT"
      },
      "source": [
        "## Decision Tree Classifier"
      ]
    },
    {
      "cell_type": "code",
      "execution_count": 33,
      "id": "PKeDmR-iQ2CT",
      "metadata": {
        "colab": {
          "base_uri": "https://localhost:8080/",
          "height": 36
        },
        "execution": {
          "iopub.execute_input": "2023-03-05T14:46:21.806929Z",
          "iopub.status.busy": "2023-03-05T14:46:21.806618Z",
          "iopub.status.idle": "2023-03-05T14:46:21.828579Z",
          "shell.execute_reply": "2023-03-05T14:46:21.827420Z",
          "shell.execute_reply.started": "2023-03-05T14:46:21.806899Z"
        },
        "id": "PKeDmR-iQ2CT",
        "outputId": "ab463f79-ee9b-485c-a8d7-c9b91f39280d",
        "trusted": true
      },
      "outputs": [
        {
          "name": "stdout",
          "output_type": "stream",
          "text": [
            "Unexpected exception formatting exception. Falling back to standard exception\n"
          ]
        },
        {
          "name": "stderr",
          "output_type": "stream",
          "text": [
            "Traceback (most recent call last):\n",
            "  File \"e:\\ml project\\capstone\\.venv\\lib\\site-packages\\IPython\\core\\interactiveshell.py\", line 3505, in run_code\n",
            "  File \"C:\\Users\\palla\\AppData\\Local\\Temp\\ipykernel_18976\\1628701832.py\", line 1, in <module>\n",
            "    dt = DecisionTreeClassifier(criterion='entropy',max_depth=3)\n",
            "NameError: name 'DecisionTreeClassifier' is not defined\n",
            "\n",
            "During handling of the above exception, another exception occurred:\n",
            "\n",
            "Traceback (most recent call last):\n",
            "  File \"e:\\ml project\\capstone\\.venv\\lib\\site-packages\\pygments\\styles\\__init__.py\", line 82, in get_style_by_name\n",
            "ModuleNotFoundError: No module named 'pygments.styles.default'\n",
            "\n",
            "During handling of the above exception, another exception occurred:\n",
            "\n",
            "Traceback (most recent call last):\n",
            "  File \"e:\\ml project\\capstone\\.venv\\lib\\site-packages\\IPython\\core\\interactiveshell.py\", line 2102, in showtraceback\n",
            "  File \"e:\\ml project\\capstone\\.venv\\lib\\site-packages\\IPython\\core\\ultratb.py\", line 1310, in structured_traceback\n",
            "  File \"e:\\ml project\\capstone\\.venv\\lib\\site-packages\\IPython\\core\\ultratb.py\", line 1199, in structured_traceback\n",
            "  File \"e:\\ml project\\capstone\\.venv\\lib\\site-packages\\IPython\\core\\ultratb.py\", line 1052, in structured_traceback\n",
            "  File \"e:\\ml project\\capstone\\.venv\\lib\\site-packages\\IPython\\core\\ultratb.py\", line 953, in format_exception_as_a_whole\n",
            "  File \"e:\\ml project\\capstone\\.venv\\lib\\site-packages\\IPython\\core\\ultratb.py\", line 1004, in get_records\n",
            "  File \"e:\\ml project\\capstone\\.venv\\lib\\site-packages\\pygments\\styles\\__init__.py\", line 84, in get_style_by_name\n",
            "pygments.util.ClassNotFound: Could not find style module 'default', though it should be builtin.\n"
          ]
        }
      ],
      "source": [
        "dt = DecisionTreeClassifier(criterion='entropy',max_depth=3)\n",
        "dt = dt.fit(X_train,y_train)\n",
        "y_pred = dt.predict(X_train)\n",
        "acc = accuracy_score(y_train,y_pred)\n",
        "f'Training accuracy: {round(acc*100,2)}%'"
      ]
    },
    {
      "cell_type": "code",
      "execution_count": 34,
      "id": "KLJrDdt-Q2CT",
      "metadata": {
        "colab": {
          "base_uri": "https://localhost:8080/",
          "height": 36
        },
        "execution": {
          "iopub.execute_input": "2023-03-05T14:46:21.831672Z",
          "iopub.status.busy": "2023-03-05T14:46:21.831000Z",
          "iopub.status.idle": "2023-03-05T14:46:21.842527Z",
          "shell.execute_reply": "2023-03-05T14:46:21.841448Z",
          "shell.execute_reply.started": "2023-03-05T14:46:21.831634Z"
        },
        "id": "KLJrDdt-Q2CT",
        "outputId": "adeaf988-7d40-47cf-d484-4992db649016",
        "trusted": true
      },
      "outputs": [
        {
          "name": "stdout",
          "output_type": "stream",
          "text": [
            "Unexpected exception formatting exception. Falling back to standard exception\n"
          ]
        },
        {
          "name": "stderr",
          "output_type": "stream",
          "text": [
            "Traceback (most recent call last):\n",
            "  File \"e:\\ml project\\capstone\\.venv\\lib\\site-packages\\IPython\\core\\interactiveshell.py\", line 3505, in run_code\n",
            "  File \"C:\\Users\\palla\\AppData\\Local\\Temp\\ipykernel_18976\\3907861924.py\", line 1, in <module>\n",
            "    y_pred = dt.predict(X_val)\n",
            "NameError: name 'dt' is not defined\n",
            "\n",
            "During handling of the above exception, another exception occurred:\n",
            "\n",
            "Traceback (most recent call last):\n",
            "  File \"e:\\ml project\\capstone\\.venv\\lib\\site-packages\\pygments\\styles\\__init__.py\", line 82, in get_style_by_name\n",
            "ModuleNotFoundError: No module named 'pygments.styles.default'\n",
            "\n",
            "During handling of the above exception, another exception occurred:\n",
            "\n",
            "Traceback (most recent call last):\n",
            "  File \"e:\\ml project\\capstone\\.venv\\lib\\site-packages\\IPython\\core\\interactiveshell.py\", line 2102, in showtraceback\n",
            "  File \"e:\\ml project\\capstone\\.venv\\lib\\site-packages\\IPython\\core\\ultratb.py\", line 1310, in structured_traceback\n",
            "  File \"e:\\ml project\\capstone\\.venv\\lib\\site-packages\\IPython\\core\\ultratb.py\", line 1199, in structured_traceback\n",
            "  File \"e:\\ml project\\capstone\\.venv\\lib\\site-packages\\IPython\\core\\ultratb.py\", line 1052, in structured_traceback\n",
            "  File \"e:\\ml project\\capstone\\.venv\\lib\\site-packages\\IPython\\core\\ultratb.py\", line 953, in format_exception_as_a_whole\n",
            "  File \"e:\\ml project\\capstone\\.venv\\lib\\site-packages\\IPython\\core\\ultratb.py\", line 1004, in get_records\n",
            "  File \"e:\\ml project\\capstone\\.venv\\lib\\site-packages\\pygments\\styles\\__init__.py\", line 84, in get_style_by_name\n",
            "pygments.util.ClassNotFound: Could not find style module 'default', though it should be builtin.\n"
          ]
        }
      ],
      "source": [
        "y_pred = dt.predict(X_val)\n",
        "acc = accuracy_score(y_val,y_pred)\n",
        "f'Validation accuracy: {round(acc*100,2)}%'"
      ]
    },
    {
      "cell_type": "code",
      "execution_count": 35,
      "id": "YIzl8LNpQ2CT",
      "metadata": {
        "colab": {
          "base_uri": "https://localhost:8080/",
          "height": 36
        },
        "execution": {
          "iopub.execute_input": "2023-03-05T14:46:21.844292Z",
          "iopub.status.busy": "2023-03-05T14:46:21.843983Z",
          "iopub.status.idle": "2023-03-05T14:46:21.855144Z",
          "shell.execute_reply": "2023-03-05T14:46:21.853956Z",
          "shell.execute_reply.started": "2023-03-05T14:46:21.844248Z"
        },
        "id": "YIzl8LNpQ2CT",
        "outputId": "54fc6c99-0568-482a-ee81-8701488b913d",
        "trusted": true
      },
      "outputs": [
        {
          "name": "stdout",
          "output_type": "stream",
          "text": [
            "Unexpected exception formatting exception. Falling back to standard exception\n"
          ]
        },
        {
          "name": "stderr",
          "output_type": "stream",
          "text": [
            "Traceback (most recent call last):\n",
            "  File \"e:\\ml project\\capstone\\.venv\\lib\\site-packages\\IPython\\core\\interactiveshell.py\", line 3505, in run_code\n",
            "  File \"C:\\Users\\palla\\AppData\\Local\\Temp\\ipykernel_18976\\3078217224.py\", line 1, in <module>\n",
            "    y_pred = dt.predict(X_test)\n",
            "NameError: name 'dt' is not defined\n",
            "\n",
            "During handling of the above exception, another exception occurred:\n",
            "\n",
            "Traceback (most recent call last):\n",
            "  File \"e:\\ml project\\capstone\\.venv\\lib\\site-packages\\pygments\\styles\\__init__.py\", line 82, in get_style_by_name\n",
            "ModuleNotFoundError: No module named 'pygments.styles.default'\n",
            "\n",
            "During handling of the above exception, another exception occurred:\n",
            "\n",
            "Traceback (most recent call last):\n",
            "  File \"e:\\ml project\\capstone\\.venv\\lib\\site-packages\\IPython\\core\\interactiveshell.py\", line 2102, in showtraceback\n",
            "  File \"e:\\ml project\\capstone\\.venv\\lib\\site-packages\\IPython\\core\\ultratb.py\", line 1310, in structured_traceback\n",
            "  File \"e:\\ml project\\capstone\\.venv\\lib\\site-packages\\IPython\\core\\ultratb.py\", line 1199, in structured_traceback\n",
            "  File \"e:\\ml project\\capstone\\.venv\\lib\\site-packages\\IPython\\core\\ultratb.py\", line 1052, in structured_traceback\n",
            "  File \"e:\\ml project\\capstone\\.venv\\lib\\site-packages\\IPython\\core\\ultratb.py\", line 953, in format_exception_as_a_whole\n",
            "  File \"e:\\ml project\\capstone\\.venv\\lib\\site-packages\\IPython\\core\\ultratb.py\", line 1004, in get_records\n",
            "  File \"e:\\ml project\\capstone\\.venv\\lib\\site-packages\\pygments\\styles\\__init__.py\", line 84, in get_style_by_name\n",
            "pygments.util.ClassNotFound: Could not find style module 'default', though it should be builtin.\n"
          ]
        }
      ],
      "source": [
        "y_pred = dt.predict(X_test)\n",
        "acc = accuracy_score(y_test,y_pred)\n",
        "f'Testing accuracy: {round(acc*100,2)}%'"
      ]
    },
    {
      "cell_type": "code",
      "execution_count": 36,
      "id": "HvugtfghQ2CT",
      "metadata": {
        "colab": {
          "base_uri": "https://localhost:8080/",
          "height": 759
        },
        "execution": {
          "iopub.execute_input": "2023-03-05T14:46:21.857569Z",
          "iopub.status.busy": "2023-03-05T14:46:21.857184Z",
          "iopub.status.idle": "2023-03-05T14:46:22.630904Z",
          "shell.execute_reply": "2023-03-05T14:46:22.629857Z",
          "shell.execute_reply.started": "2023-03-05T14:46:21.857531Z"
        },
        "id": "HvugtfghQ2CT",
        "outputId": "1ff4137d-cba1-4dad-9de8-dae09b2bd59d",
        "trusted": true
      },
      "outputs": [
        {
          "name": "stdout",
          "output_type": "stream",
          "text": [
            "Unexpected exception formatting exception. Falling back to standard exception\n"
          ]
        },
        {
          "name": "stderr",
          "output_type": "stream",
          "text": [
            "Traceback (most recent call last):\n",
            "  File \"e:\\ml project\\capstone\\.venv\\lib\\site-packages\\IPython\\core\\interactiveshell.py\", line 3505, in run_code\n",
            "  File \"C:\\Users\\palla\\AppData\\Local\\Temp\\ipykernel_18976\\1745463329.py\", line 1, in <module>\n",
            "    plot_tree(dt)\n",
            "NameError: name 'plot_tree' is not defined\n",
            "\n",
            "During handling of the above exception, another exception occurred:\n",
            "\n",
            "Traceback (most recent call last):\n",
            "  File \"e:\\ml project\\capstone\\.venv\\lib\\site-packages\\pygments\\styles\\__init__.py\", line 82, in get_style_by_name\n",
            "ModuleNotFoundError: No module named 'pygments.styles.default'\n",
            "\n",
            "During handling of the above exception, another exception occurred:\n",
            "\n",
            "Traceback (most recent call last):\n",
            "  File \"e:\\ml project\\capstone\\.venv\\lib\\site-packages\\IPython\\core\\interactiveshell.py\", line 2102, in showtraceback\n",
            "  File \"e:\\ml project\\capstone\\.venv\\lib\\site-packages\\IPython\\core\\ultratb.py\", line 1310, in structured_traceback\n",
            "  File \"e:\\ml project\\capstone\\.venv\\lib\\site-packages\\IPython\\core\\ultratb.py\", line 1199, in structured_traceback\n",
            "  File \"e:\\ml project\\capstone\\.venv\\lib\\site-packages\\IPython\\core\\ultratb.py\", line 1052, in structured_traceback\n",
            "  File \"e:\\ml project\\capstone\\.venv\\lib\\site-packages\\IPython\\core\\ultratb.py\", line 953, in format_exception_as_a_whole\n",
            "  File \"e:\\ml project\\capstone\\.venv\\lib\\site-packages\\IPython\\core\\ultratb.py\", line 1004, in get_records\n",
            "  File \"e:\\ml project\\capstone\\.venv\\lib\\site-packages\\pygments\\styles\\__init__.py\", line 84, in get_style_by_name\n",
            "pygments.util.ClassNotFound: Could not find style module 'default', though it should be builtin.\n"
          ]
        }
      ],
      "source": [
        "plot_tree(dt)"
      ]
    },
    {
      "cell_type": "markdown",
      "id": "9qknq5lAQ2CT",
      "metadata": {
        "id": "9qknq5lAQ2CT"
      },
      "source": [
        "## Using features of GridSearchCV"
      ]
    },
    {
      "cell_type": "code",
      "execution_count": 37,
      "id": "gJ4m_0WiQ2CT",
      "metadata": {
        "colab": {
          "base_uri": "https://localhost:8080/",
          "height": 36
        },
        "execution": {
          "iopub.execute_input": "2023-03-05T14:46:22.632953Z",
          "iopub.status.busy": "2023-03-05T14:46:22.632560Z",
          "iopub.status.idle": "2023-03-05T14:46:22.654701Z",
          "shell.execute_reply": "2023-03-05T14:46:22.653619Z",
          "shell.execute_reply.started": "2023-03-05T14:46:22.632913Z"
        },
        "id": "gJ4m_0WiQ2CT",
        "outputId": "376c0f30-2ba6-4489-885d-bedbd8b993b5",
        "trusted": true
      },
      "outputs": [
        {
          "name": "stdout",
          "output_type": "stream",
          "text": [
            "Unexpected exception formatting exception. Falling back to standard exception\n"
          ]
        },
        {
          "name": "stderr",
          "output_type": "stream",
          "text": [
            "Traceback (most recent call last):\n",
            "  File \"e:\\ml project\\capstone\\.venv\\lib\\site-packages\\IPython\\core\\interactiveshell.py\", line 3505, in run_code\n",
            "  File \"C:\\Users\\palla\\AppData\\Local\\Temp\\ipykernel_18976\\3738469316.py\", line 1, in <module>\n",
            "    dt = DecisionTreeClassifier(criterion= 'gini',\n",
            "NameError: name 'DecisionTreeClassifier' is not defined\n",
            "\n",
            "During handling of the above exception, another exception occurred:\n",
            "\n",
            "Traceback (most recent call last):\n",
            "  File \"e:\\ml project\\capstone\\.venv\\lib\\site-packages\\pygments\\styles\\__init__.py\", line 82, in get_style_by_name\n",
            "ModuleNotFoundError: No module named 'pygments.styles.default'\n",
            "\n",
            "During handling of the above exception, another exception occurred:\n",
            "\n",
            "Traceback (most recent call last):\n",
            "  File \"e:\\ml project\\capstone\\.venv\\lib\\site-packages\\IPython\\core\\interactiveshell.py\", line 2102, in showtraceback\n",
            "  File \"e:\\ml project\\capstone\\.venv\\lib\\site-packages\\IPython\\core\\ultratb.py\", line 1310, in structured_traceback\n",
            "  File \"e:\\ml project\\capstone\\.venv\\lib\\site-packages\\IPython\\core\\ultratb.py\", line 1199, in structured_traceback\n",
            "  File \"e:\\ml project\\capstone\\.venv\\lib\\site-packages\\IPython\\core\\ultratb.py\", line 1052, in structured_traceback\n",
            "  File \"e:\\ml project\\capstone\\.venv\\lib\\site-packages\\IPython\\core\\ultratb.py\", line 953, in format_exception_as_a_whole\n",
            "  File \"e:\\ml project\\capstone\\.venv\\lib\\site-packages\\IPython\\core\\ultratb.py\", line 1004, in get_records\n",
            "  File \"e:\\ml project\\capstone\\.venv\\lib\\site-packages\\pygments\\styles\\__init__.py\", line 84, in get_style_by_name\n",
            "pygments.util.ClassNotFound: Could not find style module 'default', though it should be builtin.\n"
          ]
        }
      ],
      "source": [
        "dt = DecisionTreeClassifier(criterion= 'gini',\n",
        " max_depth= 5,\n",
        " max_leaf_nodes= 7,\n",
        " min_samples_split= 2)\n",
        "dt = dt.fit(X_train,y_train)\n",
        "y_pred = dt.predict(X_train)\n",
        "acc = accuracy_score(y_train,y_pred)\n",
        "f'Training accuracy: {round(acc*100,2)}%'"
      ]
    },
    {
      "cell_type": "code",
      "execution_count": 38,
      "id": "VUXEAs5iQ2CU",
      "metadata": {
        "colab": {
          "base_uri": "https://localhost:8080/",
          "height": 36
        },
        "execution": {
          "iopub.execute_input": "2023-03-05T14:46:22.656673Z",
          "iopub.status.busy": "2023-03-05T14:46:22.656226Z",
          "iopub.status.idle": "2023-03-05T14:46:22.668834Z",
          "shell.execute_reply": "2023-03-05T14:46:22.667817Z",
          "shell.execute_reply.started": "2023-03-05T14:46:22.656634Z"
        },
        "id": "VUXEAs5iQ2CU",
        "outputId": "365de6f4-a1f4-4e81-c5be-50a0b83776f5",
        "trusted": true
      },
      "outputs": [
        {
          "name": "stdout",
          "output_type": "stream",
          "text": [
            "Unexpected exception formatting exception. Falling back to standard exception\n"
          ]
        },
        {
          "name": "stderr",
          "output_type": "stream",
          "text": [
            "Traceback (most recent call last):\n",
            "  File \"e:\\ml project\\capstone\\.venv\\lib\\site-packages\\IPython\\core\\interactiveshell.py\", line 3505, in run_code\n",
            "  File \"C:\\Users\\palla\\AppData\\Local\\Temp\\ipykernel_18976\\3907861924.py\", line 1, in <module>\n",
            "    y_pred = dt.predict(X_val)\n",
            "NameError: name 'dt' is not defined\n",
            "\n",
            "During handling of the above exception, another exception occurred:\n",
            "\n",
            "Traceback (most recent call last):\n",
            "  File \"e:\\ml project\\capstone\\.venv\\lib\\site-packages\\pygments\\styles\\__init__.py\", line 82, in get_style_by_name\n",
            "ModuleNotFoundError: No module named 'pygments.styles.default'\n",
            "\n",
            "During handling of the above exception, another exception occurred:\n",
            "\n",
            "Traceback (most recent call last):\n",
            "  File \"e:\\ml project\\capstone\\.venv\\lib\\site-packages\\IPython\\core\\interactiveshell.py\", line 2102, in showtraceback\n",
            "  File \"e:\\ml project\\capstone\\.venv\\lib\\site-packages\\IPython\\core\\ultratb.py\", line 1310, in structured_traceback\n",
            "  File \"e:\\ml project\\capstone\\.venv\\lib\\site-packages\\IPython\\core\\ultratb.py\", line 1199, in structured_traceback\n",
            "  File \"e:\\ml project\\capstone\\.venv\\lib\\site-packages\\IPython\\core\\ultratb.py\", line 1052, in structured_traceback\n",
            "  File \"e:\\ml project\\capstone\\.venv\\lib\\site-packages\\IPython\\core\\ultratb.py\", line 953, in format_exception_as_a_whole\n",
            "  File \"e:\\ml project\\capstone\\.venv\\lib\\site-packages\\IPython\\core\\ultratb.py\", line 1004, in get_records\n",
            "  File \"e:\\ml project\\capstone\\.venv\\lib\\site-packages\\pygments\\styles\\__init__.py\", line 84, in get_style_by_name\n",
            "pygments.util.ClassNotFound: Could not find style module 'default', though it should be builtin.\n"
          ]
        }
      ],
      "source": [
        "y_pred = dt.predict(X_val)\n",
        "acc = accuracy_score(y_val,y_pred)\n",
        "f'Validation accuracy: {round(acc*100,2)}%'"
      ]
    },
    {
      "cell_type": "code",
      "execution_count": 39,
      "id": "JyCDOa-nQ2CU",
      "metadata": {
        "colab": {
          "base_uri": "https://localhost:8080/",
          "height": 36
        },
        "execution": {
          "iopub.execute_input": "2023-03-05T14:46:22.671085Z",
          "iopub.status.busy": "2023-03-05T14:46:22.670097Z",
          "iopub.status.idle": "2023-03-05T14:46:22.682818Z",
          "shell.execute_reply": "2023-03-05T14:46:22.681814Z",
          "shell.execute_reply.started": "2023-03-05T14:46:22.671029Z"
        },
        "id": "JyCDOa-nQ2CU",
        "outputId": "98c4b85f-b794-4ca0-93b6-e3ca8022289f",
        "trusted": true
      },
      "outputs": [
        {
          "name": "stdout",
          "output_type": "stream",
          "text": [
            "Unexpected exception formatting exception. Falling back to standard exception\n"
          ]
        },
        {
          "name": "stderr",
          "output_type": "stream",
          "text": [
            "Traceback (most recent call last):\n",
            "  File \"e:\\ml project\\capstone\\.venv\\lib\\site-packages\\IPython\\core\\interactiveshell.py\", line 3505, in run_code\n",
            "  File \"C:\\Users\\palla\\AppData\\Local\\Temp\\ipykernel_18976\\3078217224.py\", line 1, in <module>\n",
            "    y_pred = dt.predict(X_test)\n",
            "NameError: name 'dt' is not defined\n",
            "\n",
            "During handling of the above exception, another exception occurred:\n",
            "\n",
            "Traceback (most recent call last):\n",
            "  File \"e:\\ml project\\capstone\\.venv\\lib\\site-packages\\pygments\\styles\\__init__.py\", line 82, in get_style_by_name\n",
            "ModuleNotFoundError: No module named 'pygments.styles.default'\n",
            "\n",
            "During handling of the above exception, another exception occurred:\n",
            "\n",
            "Traceback (most recent call last):\n",
            "  File \"e:\\ml project\\capstone\\.venv\\lib\\site-packages\\IPython\\core\\interactiveshell.py\", line 2102, in showtraceback\n",
            "  File \"e:\\ml project\\capstone\\.venv\\lib\\site-packages\\IPython\\core\\ultratb.py\", line 1310, in structured_traceback\n",
            "  File \"e:\\ml project\\capstone\\.venv\\lib\\site-packages\\IPython\\core\\ultratb.py\", line 1199, in structured_traceback\n",
            "  File \"e:\\ml project\\capstone\\.venv\\lib\\site-packages\\IPython\\core\\ultratb.py\", line 1052, in structured_traceback\n",
            "  File \"e:\\ml project\\capstone\\.venv\\lib\\site-packages\\IPython\\core\\ultratb.py\", line 953, in format_exception_as_a_whole\n",
            "  File \"e:\\ml project\\capstone\\.venv\\lib\\site-packages\\IPython\\core\\ultratb.py\", line 1004, in get_records\n",
            "  File \"e:\\ml project\\capstone\\.venv\\lib\\site-packages\\pygments\\styles\\__init__.py\", line 84, in get_style_by_name\n",
            "pygments.util.ClassNotFound: Could not find style module 'default', though it should be builtin.\n"
          ]
        }
      ],
      "source": [
        "y_pred = dt.predict(X_test)\n",
        "acc = accuracy_score(y_test,y_pred)\n",
        "f'Testing accuracy: {round(acc*100,2)}%'"
      ]
    },
    {
      "cell_type": "markdown",
      "id": "Sidm3JQEQ2CU",
      "metadata": {
        "id": "Sidm3JQEQ2CU"
      },
      "source": [
        "## Random Forest Classifier"
      ]
    },
    {
      "cell_type": "code",
      "execution_count": 40,
      "id": "FvoNEWZPQ2CU",
      "metadata": {
        "execution": {
          "iopub.execute_input": "2023-03-05T14:46:22.685691Z",
          "iopub.status.busy": "2023-03-05T14:46:22.684743Z",
          "iopub.status.idle": "2023-03-05T14:46:22.792460Z",
          "shell.execute_reply": "2023-03-05T14:46:22.791482Z",
          "shell.execute_reply.started": "2023-03-05T14:46:22.685662Z"
        },
        "id": "FvoNEWZPQ2CU",
        "trusted": true
      },
      "outputs": [
        {
          "name": "stdout",
          "output_type": "stream",
          "text": [
            "Unexpected exception formatting exception. Falling back to standard exception\n"
          ]
        },
        {
          "name": "stderr",
          "output_type": "stream",
          "text": [
            "Traceback (most recent call last):\n",
            "  File \"e:\\ml project\\capstone\\.venv\\lib\\site-packages\\IPython\\core\\interactiveshell.py\", line 3505, in run_code\n",
            "  File \"C:\\Users\\palla\\AppData\\Local\\Temp\\ipykernel_18976\\27760877.py\", line 1, in <module>\n",
            "    from sklearn.ensemble import RandomForestClassifier\n",
            "ModuleNotFoundError: No module named 'sklearn'\n",
            "\n",
            "During handling of the above exception, another exception occurred:\n",
            "\n",
            "Traceback (most recent call last):\n",
            "  File \"e:\\ml project\\capstone\\.venv\\lib\\site-packages\\pygments\\styles\\__init__.py\", line 82, in get_style_by_name\n",
            "ModuleNotFoundError: No module named 'pygments.styles.default'\n",
            "\n",
            "During handling of the above exception, another exception occurred:\n",
            "\n",
            "Traceback (most recent call last):\n",
            "  File \"e:\\ml project\\capstone\\.venv\\lib\\site-packages\\IPython\\core\\interactiveshell.py\", line 2102, in showtraceback\n",
            "  File \"e:\\ml project\\capstone\\.venv\\lib\\site-packages\\IPython\\core\\ultratb.py\", line 1310, in structured_traceback\n",
            "  File \"e:\\ml project\\capstone\\.venv\\lib\\site-packages\\IPython\\core\\ultratb.py\", line 1199, in structured_traceback\n",
            "  File \"e:\\ml project\\capstone\\.venv\\lib\\site-packages\\IPython\\core\\ultratb.py\", line 1052, in structured_traceback\n",
            "  File \"e:\\ml project\\capstone\\.venv\\lib\\site-packages\\IPython\\core\\ultratb.py\", line 953, in format_exception_as_a_whole\n",
            "  File \"e:\\ml project\\capstone\\.venv\\lib\\site-packages\\IPython\\core\\ultratb.py\", line 1004, in get_records\n",
            "  File \"e:\\ml project\\capstone\\.venv\\lib\\site-packages\\pygments\\styles\\__init__.py\", line 84, in get_style_by_name\n",
            "pygments.util.ClassNotFound: Could not find style module 'default', though it should be builtin.\n"
          ]
        }
      ],
      "source": [
        "from sklearn.ensemble import RandomForestClassifier\n",
        "\n",
        "rf = RandomForestClassifier(n_estimators=100, random_state=0)"
      ]
    },
    {
      "cell_type": "code",
      "execution_count": 41,
      "id": "i4wvhmARQ2CU",
      "metadata": {
        "colab": {
          "base_uri": "https://localhost:8080/",
          "height": 36
        },
        "execution": {
          "iopub.execute_input": "2023-03-05T14:46:22.795298Z",
          "iopub.status.busy": "2023-03-05T14:46:22.794557Z",
          "iopub.status.idle": "2023-03-05T14:46:23.383449Z",
          "shell.execute_reply": "2023-03-05T14:46:23.382292Z",
          "shell.execute_reply.started": "2023-03-05T14:46:22.795260Z"
        },
        "id": "i4wvhmARQ2CU",
        "outputId": "65ff5815-f896-488a-a7ae-d383b09bdd62",
        "trusted": true
      },
      "outputs": [
        {
          "name": "stdout",
          "output_type": "stream",
          "text": [
            "Unexpected exception formatting exception. Falling back to standard exception\n"
          ]
        },
        {
          "name": "stderr",
          "output_type": "stream",
          "text": [
            "Traceback (most recent call last):\n",
            "  File \"e:\\ml project\\capstone\\.venv\\lib\\site-packages\\IPython\\core\\interactiveshell.py\", line 3505, in run_code\n",
            "  File \"C:\\Users\\palla\\AppData\\Local\\Temp\\ipykernel_18976\\2469221170.py\", line 1, in <module>\n",
            "    rf.fit(X_train,y_train)\n",
            "NameError: name 'rf' is not defined\n",
            "\n",
            "During handling of the above exception, another exception occurred:\n",
            "\n",
            "Traceback (most recent call last):\n",
            "  File \"e:\\ml project\\capstone\\.venv\\lib\\site-packages\\pygments\\styles\\__init__.py\", line 82, in get_style_by_name\n",
            "ModuleNotFoundError: No module named 'pygments.styles.default'\n",
            "\n",
            "During handling of the above exception, another exception occurred:\n",
            "\n",
            "Traceback (most recent call last):\n",
            "  File \"e:\\ml project\\capstone\\.venv\\lib\\site-packages\\IPython\\core\\interactiveshell.py\", line 2102, in showtraceback\n",
            "  File \"e:\\ml project\\capstone\\.venv\\lib\\site-packages\\IPython\\core\\ultratb.py\", line 1310, in structured_traceback\n",
            "  File \"e:\\ml project\\capstone\\.venv\\lib\\site-packages\\IPython\\core\\ultratb.py\", line 1199, in structured_traceback\n",
            "  File \"e:\\ml project\\capstone\\.venv\\lib\\site-packages\\IPython\\core\\ultratb.py\", line 1052, in structured_traceback\n",
            "  File \"e:\\ml project\\capstone\\.venv\\lib\\site-packages\\IPython\\core\\ultratb.py\", line 953, in format_exception_as_a_whole\n",
            "  File \"e:\\ml project\\capstone\\.venv\\lib\\site-packages\\IPython\\core\\ultratb.py\", line 1004, in get_records\n",
            "  File \"e:\\ml project\\capstone\\.venv\\lib\\site-packages\\pygments\\styles\\__init__.py\", line 84, in get_style_by_name\n",
            "pygments.util.ClassNotFound: Could not find style module 'default', though it should be builtin.\n"
          ]
        }
      ],
      "source": [
        "rf.fit(X_train,y_train)\n",
        "y_pred = dt.predict(X_train)\n",
        "acc = accuracy_score(y_train,y_pred)\n",
        "f'Training accuracy: {round(acc*100,2)}%'"
      ]
    },
    {
      "cell_type": "code",
      "execution_count": 42,
      "id": "Qis6T-LkQ2CU",
      "metadata": {
        "colab": {
          "base_uri": "https://localhost:8080/",
          "height": 36
        },
        "execution": {
          "iopub.execute_input": "2023-03-05T14:46:23.385848Z",
          "iopub.status.busy": "2023-03-05T14:46:23.385466Z",
          "iopub.status.idle": "2023-03-05T14:46:23.423021Z",
          "shell.execute_reply": "2023-03-05T14:46:23.421959Z",
          "shell.execute_reply.started": "2023-03-05T14:46:23.385810Z"
        },
        "id": "Qis6T-LkQ2CU",
        "outputId": "014610cf-7c07-4631-eee4-2592988a0cf3",
        "trusted": true
      },
      "outputs": [
        {
          "name": "stdout",
          "output_type": "stream",
          "text": [
            "Unexpected exception formatting exception. Falling back to standard exception\n"
          ]
        },
        {
          "name": "stderr",
          "output_type": "stream",
          "text": [
            "Traceback (most recent call last):\n",
            "  File \"e:\\ml project\\capstone\\.venv\\lib\\site-packages\\IPython\\core\\interactiveshell.py\", line 3505, in run_code\n",
            "  File \"C:\\Users\\palla\\AppData\\Local\\Temp\\ipykernel_18976\\2717542208.py\", line 1, in <module>\n",
            "    y_pred = rf.predict(X_val)\n",
            "NameError: name 'rf' is not defined\n",
            "\n",
            "During handling of the above exception, another exception occurred:\n",
            "\n",
            "Traceback (most recent call last):\n",
            "  File \"e:\\ml project\\capstone\\.venv\\lib\\site-packages\\pygments\\styles\\__init__.py\", line 82, in get_style_by_name\n",
            "ModuleNotFoundError: No module named 'pygments.styles.default'\n",
            "\n",
            "During handling of the above exception, another exception occurred:\n",
            "\n",
            "Traceback (most recent call last):\n",
            "  File \"e:\\ml project\\capstone\\.venv\\lib\\site-packages\\IPython\\core\\interactiveshell.py\", line 2102, in showtraceback\n",
            "  File \"e:\\ml project\\capstone\\.venv\\lib\\site-packages\\IPython\\core\\ultratb.py\", line 1310, in structured_traceback\n",
            "  File \"e:\\ml project\\capstone\\.venv\\lib\\site-packages\\IPython\\core\\ultratb.py\", line 1199, in structured_traceback\n",
            "  File \"e:\\ml project\\capstone\\.venv\\lib\\site-packages\\IPython\\core\\ultratb.py\", line 1052, in structured_traceback\n",
            "  File \"e:\\ml project\\capstone\\.venv\\lib\\site-packages\\IPython\\core\\ultratb.py\", line 953, in format_exception_as_a_whole\n",
            "  File \"e:\\ml project\\capstone\\.venv\\lib\\site-packages\\IPython\\core\\ultratb.py\", line 1004, in get_records\n",
            "  File \"e:\\ml project\\capstone\\.venv\\lib\\site-packages\\pygments\\styles\\__init__.py\", line 84, in get_style_by_name\n",
            "pygments.util.ClassNotFound: Could not find style module 'default', though it should be builtin.\n"
          ]
        }
      ],
      "source": [
        "y_pred = rf.predict(X_val)\n",
        "acc = accuracy_score(y_val,y_pred)\n",
        "f'Validation accuracy: {round(acc*100,2)}%'"
      ]
    },
    {
      "cell_type": "code",
      "execution_count": 43,
      "id": "a_FVtnzFQ2CU",
      "metadata": {
        "colab": {
          "base_uri": "https://localhost:8080/",
          "height": 36
        },
        "execution": {
          "iopub.execute_input": "2023-03-05T14:46:23.425092Z",
          "iopub.status.busy": "2023-03-05T14:46:23.424721Z",
          "iopub.status.idle": "2023-03-05T14:46:23.464941Z",
          "shell.execute_reply": "2023-03-05T14:46:23.463944Z",
          "shell.execute_reply.started": "2023-03-05T14:46:23.425056Z"
        },
        "id": "a_FVtnzFQ2CU",
        "outputId": "07ad6dc0-04db-41c9-c717-83af9361a33d",
        "trusted": true
      },
      "outputs": [
        {
          "name": "stdout",
          "output_type": "stream",
          "text": [
            "Unexpected exception formatting exception. Falling back to standard exception\n"
          ]
        },
        {
          "name": "stderr",
          "output_type": "stream",
          "text": [
            "Traceback (most recent call last):\n",
            "  File \"e:\\ml project\\capstone\\.venv\\lib\\site-packages\\IPython\\core\\interactiveshell.py\", line 3505, in run_code\n",
            "  File \"C:\\Users\\palla\\AppData\\Local\\Temp\\ipykernel_18976\\2834444425.py\", line 1, in <module>\n",
            "    y_pred = rf.predict(X_test)\n",
            "NameError: name 'rf' is not defined\n",
            "\n",
            "During handling of the above exception, another exception occurred:\n",
            "\n",
            "Traceback (most recent call last):\n",
            "  File \"e:\\ml project\\capstone\\.venv\\lib\\site-packages\\pygments\\styles\\__init__.py\", line 82, in get_style_by_name\n",
            "ModuleNotFoundError: No module named 'pygments.styles.default'\n",
            "\n",
            "During handling of the above exception, another exception occurred:\n",
            "\n",
            "Traceback (most recent call last):\n",
            "  File \"e:\\ml project\\capstone\\.venv\\lib\\site-packages\\IPython\\core\\interactiveshell.py\", line 2102, in showtraceback\n",
            "  File \"e:\\ml project\\capstone\\.venv\\lib\\site-packages\\IPython\\core\\ultratb.py\", line 1310, in structured_traceback\n",
            "  File \"e:\\ml project\\capstone\\.venv\\lib\\site-packages\\IPython\\core\\ultratb.py\", line 1199, in structured_traceback\n",
            "  File \"e:\\ml project\\capstone\\.venv\\lib\\site-packages\\IPython\\core\\ultratb.py\", line 1052, in structured_traceback\n",
            "  File \"e:\\ml project\\capstone\\.venv\\lib\\site-packages\\IPython\\core\\ultratb.py\", line 953, in format_exception_as_a_whole\n",
            "  File \"e:\\ml project\\capstone\\.venv\\lib\\site-packages\\IPython\\core\\ultratb.py\", line 1004, in get_records\n",
            "  File \"e:\\ml project\\capstone\\.venv\\lib\\site-packages\\pygments\\styles\\__init__.py\", line 84, in get_style_by_name\n",
            "pygments.util.ClassNotFound: Could not find style module 'default', though it should be builtin.\n"
          ]
        }
      ],
      "source": [
        "y_pred = rf.predict(X_test)\n",
        "acc = accuracy_score(y_test,y_pred)\n",
        "f'Testing accuracy: {round(acc*100,2)}%'"
      ]
    },
    {
      "cell_type": "markdown",
      "id": "-nuBwIPLQ2CU",
      "metadata": {
        "id": "-nuBwIPLQ2CU"
      },
      "source": [
        "## Using features of GridSearchCV"
      ]
    },
    {
      "cell_type": "code",
      "execution_count": 44,
      "id": "LiLXb_pVQ2CV",
      "metadata": {
        "colab": {
          "base_uri": "https://localhost:8080/",
          "height": 140
        },
        "execution": {
          "iopub.execute_input": "2023-03-05T14:46:23.467049Z",
          "iopub.status.busy": "2023-03-05T14:46:23.466686Z",
          "iopub.status.idle": "2023-03-05T14:47:19.104254Z",
          "shell.execute_reply": "2023-03-05T14:47:19.103189Z",
          "shell.execute_reply.started": "2023-03-05T14:46:23.467014Z"
        },
        "id": "LiLXb_pVQ2CV",
        "outputId": "724f0573-77ce-4378-ab25-d73d88dadfe5",
        "trusted": true
      },
      "outputs": [
        {
          "name": "stdout",
          "output_type": "stream",
          "text": [
            "Unexpected exception formatting exception. Falling back to standard exception\n"
          ]
        },
        {
          "name": "stderr",
          "output_type": "stream",
          "text": [
            "Traceback (most recent call last):\n",
            "  File \"e:\\ml project\\capstone\\.venv\\lib\\site-packages\\IPython\\core\\interactiveshell.py\", line 3505, in run_code\n",
            "  File \"C:\\Users\\palla\\AppData\\Local\\Temp\\ipykernel_18976\\2051053154.py\", line 1, in <module>\n",
            "    rf1 = RandomForestClassifier()\n",
            "NameError: name 'RandomForestClassifier' is not defined\n",
            "\n",
            "During handling of the above exception, another exception occurred:\n",
            "\n",
            "Traceback (most recent call last):\n",
            "  File \"e:\\ml project\\capstone\\.venv\\lib\\site-packages\\pygments\\styles\\__init__.py\", line 82, in get_style_by_name\n",
            "ModuleNotFoundError: No module named 'pygments.styles.default'\n",
            "\n",
            "During handling of the above exception, another exception occurred:\n",
            "\n",
            "Traceback (most recent call last):\n",
            "  File \"e:\\ml project\\capstone\\.venv\\lib\\site-packages\\IPython\\core\\interactiveshell.py\", line 2102, in showtraceback\n",
            "  File \"e:\\ml project\\capstone\\.venv\\lib\\site-packages\\IPython\\core\\ultratb.py\", line 1310, in structured_traceback\n",
            "  File \"e:\\ml project\\capstone\\.venv\\lib\\site-packages\\IPython\\core\\ultratb.py\", line 1199, in structured_traceback\n",
            "  File \"e:\\ml project\\capstone\\.venv\\lib\\site-packages\\IPython\\core\\ultratb.py\", line 1052, in structured_traceback\n",
            "  File \"e:\\ml project\\capstone\\.venv\\lib\\site-packages\\IPython\\core\\ultratb.py\", line 953, in format_exception_as_a_whole\n",
            "  File \"e:\\ml project\\capstone\\.venv\\lib\\site-packages\\IPython\\core\\ultratb.py\", line 1004, in get_records\n",
            "  File \"e:\\ml project\\capstone\\.venv\\lib\\site-packages\\pygments\\styles\\__init__.py\", line 84, in get_style_by_name\n",
            "pygments.util.ClassNotFound: Could not find style module 'default', though it should be builtin.\n"
          ]
        }
      ],
      "source": [
        "rf1 = RandomForestClassifier()\n",
        "param_grid = [\n",
        " {'n_estimators': [10, 50, 100], 'max_features': [2, 4, 6, 8,12,14,16,18,20]},\n",
        " {'bootstrap': [False], 'n_estimators': [3, 10], 'max_features': [2, 3, 4]}]\n",
        "grid_search = GridSearchCV(rf1, param_grid,scoring='accuracy',return_train_score=False)\n",
        "grid_search.fit(X_train, y_train)"
      ]
    },
    {
      "cell_type": "code",
      "execution_count": 45,
      "id": "kUUuxeWyQ2CV",
      "metadata": {
        "colab": {
          "base_uri": "https://localhost:8080/"
        },
        "execution": {
          "iopub.execute_input": "2023-03-05T14:47:19.110918Z",
          "iopub.status.busy": "2023-03-05T14:47:19.108626Z",
          "iopub.status.idle": "2023-03-05T14:47:19.121576Z",
          "shell.execute_reply": "2023-03-05T14:47:19.120448Z",
          "shell.execute_reply.started": "2023-03-05T14:47:19.110866Z"
        },
        "id": "kUUuxeWyQ2CV",
        "outputId": "80c9dd61-9a27-4d2a-c2c8-55b1c5fece30",
        "trusted": true
      },
      "outputs": [
        {
          "name": "stdout",
          "output_type": "stream",
          "text": [
            "Unexpected exception formatting exception. Falling back to standard exception\n"
          ]
        },
        {
          "name": "stderr",
          "output_type": "stream",
          "text": [
            "Traceback (most recent call last):\n",
            "  File \"e:\\ml project\\capstone\\.venv\\lib\\site-packages\\IPython\\core\\interactiveshell.py\", line 3505, in run_code\n",
            "  File \"C:\\Users\\palla\\AppData\\Local\\Temp\\ipykernel_18976\\758359460.py\", line 1, in <module>\n",
            "    grid_search.best_params_\n",
            "NameError: name 'grid_search' is not defined\n",
            "\n",
            "During handling of the above exception, another exception occurred:\n",
            "\n",
            "Traceback (most recent call last):\n",
            "  File \"e:\\ml project\\capstone\\.venv\\lib\\site-packages\\pygments\\styles\\__init__.py\", line 82, in get_style_by_name\n",
            "ModuleNotFoundError: No module named 'pygments.styles.default'\n",
            "\n",
            "During handling of the above exception, another exception occurred:\n",
            "\n",
            "Traceback (most recent call last):\n",
            "  File \"e:\\ml project\\capstone\\.venv\\lib\\site-packages\\IPython\\core\\interactiveshell.py\", line 2102, in showtraceback\n",
            "  File \"e:\\ml project\\capstone\\.venv\\lib\\site-packages\\IPython\\core\\ultratb.py\", line 1310, in structured_traceback\n",
            "  File \"e:\\ml project\\capstone\\.venv\\lib\\site-packages\\IPython\\core\\ultratb.py\", line 1199, in structured_traceback\n",
            "  File \"e:\\ml project\\capstone\\.venv\\lib\\site-packages\\IPython\\core\\ultratb.py\", line 1052, in structured_traceback\n",
            "  File \"e:\\ml project\\capstone\\.venv\\lib\\site-packages\\IPython\\core\\ultratb.py\", line 953, in format_exception_as_a_whole\n",
            "  File \"e:\\ml project\\capstone\\.venv\\lib\\site-packages\\IPython\\core\\ultratb.py\", line 1004, in get_records\n",
            "  File \"e:\\ml project\\capstone\\.venv\\lib\\site-packages\\pygments\\styles\\__init__.py\", line 84, in get_style_by_name\n",
            "pygments.util.ClassNotFound: Could not find style module 'default', though it should be builtin.\n"
          ]
        }
      ],
      "source": [
        "grid_search.best_params_"
      ]
    },
    {
      "cell_type": "code",
      "execution_count": 46,
      "id": "ufYbxQLlQ2CV",
      "metadata": {
        "colab": {
          "base_uri": "https://localhost:8080/",
          "height": 36
        },
        "execution": {
          "iopub.execute_input": "2023-03-05T14:47:19.128909Z",
          "iopub.status.busy": "2023-03-05T14:47:19.126308Z",
          "iopub.status.idle": "2023-03-05T14:47:19.884788Z",
          "shell.execute_reply": "2023-03-05T14:47:19.883632Z",
          "shell.execute_reply.started": "2023-03-05T14:47:19.128859Z"
        },
        "id": "ufYbxQLlQ2CV",
        "outputId": "344c6fa1-200b-46d1-f9d9-859538e91112",
        "trusted": true
      },
      "outputs": [
        {
          "name": "stdout",
          "output_type": "stream",
          "text": [
            "Unexpected exception formatting exception. Falling back to standard exception\n"
          ]
        },
        {
          "name": "stderr",
          "output_type": "stream",
          "text": [
            "Traceback (most recent call last):\n",
            "  File \"e:\\ml project\\capstone\\.venv\\lib\\site-packages\\IPython\\core\\interactiveshell.py\", line 3505, in run_code\n",
            "  File \"C:\\Users\\palla\\AppData\\Local\\Temp\\ipykernel_18976\\2393336492.py\", line 1, in <module>\n",
            "    rf2 = RandomForestClassifier(max_features= 4, n_estimators= 100, random_state=0)\n",
            "NameError: name 'RandomForestClassifier' is not defined\n",
            "\n",
            "During handling of the above exception, another exception occurred:\n",
            "\n",
            "Traceback (most recent call last):\n",
            "  File \"e:\\ml project\\capstone\\.venv\\lib\\site-packages\\pygments\\styles\\__init__.py\", line 82, in get_style_by_name\n",
            "ModuleNotFoundError: No module named 'pygments.styles.default'\n",
            "\n",
            "During handling of the above exception, another exception occurred:\n",
            "\n",
            "Traceback (most recent call last):\n",
            "  File \"e:\\ml project\\capstone\\.venv\\lib\\site-packages\\IPython\\core\\interactiveshell.py\", line 2102, in showtraceback\n",
            "  File \"e:\\ml project\\capstone\\.venv\\lib\\site-packages\\IPython\\core\\ultratb.py\", line 1310, in structured_traceback\n",
            "  File \"e:\\ml project\\capstone\\.venv\\lib\\site-packages\\IPython\\core\\ultratb.py\", line 1199, in structured_traceback\n",
            "  File \"e:\\ml project\\capstone\\.venv\\lib\\site-packages\\IPython\\core\\ultratb.py\", line 1052, in structured_traceback\n",
            "  File \"e:\\ml project\\capstone\\.venv\\lib\\site-packages\\IPython\\core\\ultratb.py\", line 953, in format_exception_as_a_whole\n",
            "  File \"e:\\ml project\\capstone\\.venv\\lib\\site-packages\\IPython\\core\\ultratb.py\", line 1004, in get_records\n",
            "  File \"e:\\ml project\\capstone\\.venv\\lib\\site-packages\\pygments\\styles\\__init__.py\", line 84, in get_style_by_name\n",
            "pygments.util.ClassNotFound: Could not find style module 'default', though it should be builtin.\n"
          ]
        }
      ],
      "source": [
        "rf2 = RandomForestClassifier(max_features= 4, n_estimators= 100, random_state=0)\n",
        "rf2.fit(X_train,y_train)\n",
        "y_pred = rf2.predict(X_train)\n",
        "acc = accuracy_score(y_train,y_pred)\n",
        "f'Training accuracy: {round(acc*100,2)}%'"
      ]
    },
    {
      "cell_type": "code",
      "execution_count": 47,
      "id": "uEHrZfkoQ2CV",
      "metadata": {
        "colab": {
          "base_uri": "https://localhost:8080/",
          "height": 36
        },
        "execution": {
          "iopub.execute_input": "2023-03-05T14:47:19.886852Z",
          "iopub.status.busy": "2023-03-05T14:47:19.886254Z",
          "iopub.status.idle": "2023-03-05T14:47:19.926679Z",
          "shell.execute_reply": "2023-03-05T14:47:19.925799Z",
          "shell.execute_reply.started": "2023-03-05T14:47:19.886809Z"
        },
        "id": "uEHrZfkoQ2CV",
        "outputId": "402cd045-2a31-4628-819a-11bd5539d7e5",
        "trusted": true
      },
      "outputs": [
        {
          "name": "stdout",
          "output_type": "stream",
          "text": [
            "Unexpected exception formatting exception. Falling back to standard exception\n"
          ]
        },
        {
          "name": "stderr",
          "output_type": "stream",
          "text": [
            "Traceback (most recent call last):\n",
            "  File \"e:\\ml project\\capstone\\.venv\\lib\\site-packages\\IPython\\core\\interactiveshell.py\", line 3505, in run_code\n",
            "  File \"C:\\Users\\palla\\AppData\\Local\\Temp\\ipykernel_18976\\3142297734.py\", line 1, in <module>\n",
            "    y_pred = rf2.predict(X_val)\n",
            "NameError: name 'rf2' is not defined\n",
            "\n",
            "During handling of the above exception, another exception occurred:\n",
            "\n",
            "Traceback (most recent call last):\n",
            "  File \"e:\\ml project\\capstone\\.venv\\lib\\site-packages\\pygments\\styles\\__init__.py\", line 82, in get_style_by_name\n",
            "ModuleNotFoundError: No module named 'pygments.styles.default'\n",
            "\n",
            "During handling of the above exception, another exception occurred:\n",
            "\n",
            "Traceback (most recent call last):\n",
            "  File \"e:\\ml project\\capstone\\.venv\\lib\\site-packages\\IPython\\core\\interactiveshell.py\", line 2102, in showtraceback\n",
            "  File \"e:\\ml project\\capstone\\.venv\\lib\\site-packages\\IPython\\core\\ultratb.py\", line 1310, in structured_traceback\n",
            "  File \"e:\\ml project\\capstone\\.venv\\lib\\site-packages\\IPython\\core\\ultratb.py\", line 1199, in structured_traceback\n",
            "  File \"e:\\ml project\\capstone\\.venv\\lib\\site-packages\\IPython\\core\\ultratb.py\", line 1052, in structured_traceback\n",
            "  File \"e:\\ml project\\capstone\\.venv\\lib\\site-packages\\IPython\\core\\ultratb.py\", line 953, in format_exception_as_a_whole\n",
            "  File \"e:\\ml project\\capstone\\.venv\\lib\\site-packages\\IPython\\core\\ultratb.py\", line 1004, in get_records\n",
            "  File \"e:\\ml project\\capstone\\.venv\\lib\\site-packages\\pygments\\styles\\__init__.py\", line 84, in get_style_by_name\n",
            "pygments.util.ClassNotFound: Could not find style module 'default', though it should be builtin.\n"
          ]
        }
      ],
      "source": [
        "y_pred = rf2.predict(X_val)\n",
        "acc = accuracy_score(y_val,y_pred)\n",
        "f'Validation accuracy: {round(acc*100,2)}%'"
      ]
    },
    {
      "cell_type": "code",
      "execution_count": 48,
      "id": "ZJRhgtE8Q2CV",
      "metadata": {
        "colab": {
          "base_uri": "https://localhost:8080/",
          "height": 36
        },
        "execution": {
          "iopub.execute_input": "2023-03-05T14:47:19.928316Z",
          "iopub.status.busy": "2023-03-05T14:47:19.927990Z",
          "iopub.status.idle": "2023-03-05T14:47:19.967607Z",
          "shell.execute_reply": "2023-03-05T14:47:19.966526Z",
          "shell.execute_reply.started": "2023-03-05T14:47:19.928280Z"
        },
        "id": "ZJRhgtE8Q2CV",
        "outputId": "8b814ed2-3e9c-4dd4-a4a1-89dac0cdeb28",
        "trusted": true
      },
      "outputs": [
        {
          "name": "stdout",
          "output_type": "stream",
          "text": [
            "Unexpected exception formatting exception. Falling back to standard exception\n"
          ]
        },
        {
          "name": "stderr",
          "output_type": "stream",
          "text": [
            "Traceback (most recent call last):\n",
            "  File \"e:\\ml project\\capstone\\.venv\\lib\\site-packages\\IPython\\core\\interactiveshell.py\", line 3505, in run_code\n",
            "  File \"C:\\Users\\palla\\AppData\\Local\\Temp\\ipykernel_18976\\642773133.py\", line 1, in <module>\n",
            "    y_pred = rf2.predict(X_test)\n",
            "NameError: name 'rf2' is not defined\n",
            "\n",
            "During handling of the above exception, another exception occurred:\n",
            "\n",
            "Traceback (most recent call last):\n",
            "  File \"e:\\ml project\\capstone\\.venv\\lib\\site-packages\\pygments\\styles\\__init__.py\", line 82, in get_style_by_name\n",
            "ModuleNotFoundError: No module named 'pygments.styles.default'\n",
            "\n",
            "During handling of the above exception, another exception occurred:\n",
            "\n",
            "Traceback (most recent call last):\n",
            "  File \"e:\\ml project\\capstone\\.venv\\lib\\site-packages\\IPython\\core\\interactiveshell.py\", line 2102, in showtraceback\n",
            "  File \"e:\\ml project\\capstone\\.venv\\lib\\site-packages\\IPython\\core\\ultratb.py\", line 1310, in structured_traceback\n",
            "  File \"e:\\ml project\\capstone\\.venv\\lib\\site-packages\\IPython\\core\\ultratb.py\", line 1199, in structured_traceback\n",
            "  File \"e:\\ml project\\capstone\\.venv\\lib\\site-packages\\IPython\\core\\ultratb.py\", line 1052, in structured_traceback\n",
            "  File \"e:\\ml project\\capstone\\.venv\\lib\\site-packages\\IPython\\core\\ultratb.py\", line 953, in format_exception_as_a_whole\n",
            "  File \"e:\\ml project\\capstone\\.venv\\lib\\site-packages\\IPython\\core\\ultratb.py\", line 1004, in get_records\n",
            "  File \"e:\\ml project\\capstone\\.venv\\lib\\site-packages\\pygments\\styles\\__init__.py\", line 84, in get_style_by_name\n",
            "pygments.util.ClassNotFound: Could not find style module 'default', though it should be builtin.\n"
          ]
        }
      ],
      "source": [
        "y_pred = rf2.predict(X_test)\n",
        "acc = accuracy_score(y_test,y_pred)\n",
        "f'Testing accuracy: {round(acc*100,2)}%'"
      ]
    },
    {
      "cell_type": "markdown",
      "id": "CU2IfGXlQ2CV",
      "metadata": {
        "id": "CU2IfGXlQ2CV"
      },
      "source": [
        "## The Telco Customer Churn is best predicted using Logistic Regression which has a testing accuracy of 80%"
      ]
    },
    {
      "cell_type": "code",
      "execution_count": null,
      "id": "sbH2kvr9V1UY",
      "metadata": {
        "id": "sbH2kvr9V1UY"
      },
      "outputs": [],
      "source": []
    },
    {
      "cell_type": "code",
      "execution_count": 49,
      "id": "pxdwZlwyaB3q",
      "metadata": {
        "id": "pxdwZlwyaB3q"
      },
      "outputs": [],
      "source": [
        "import pickle"
      ]
    },
    {
      "cell_type": "code",
      "execution_count": 50,
      "id": "0loK4VkCaGcn",
      "metadata": {
        "id": "0loK4VkCaGcn"
      },
      "outputs": [
        {
          "name": "stdout",
          "output_type": "stream",
          "text": [
            "Unexpected exception formatting exception. Falling back to standard exception\n"
          ]
        },
        {
          "name": "stderr",
          "output_type": "stream",
          "text": [
            "Traceback (most recent call last):\n",
            "  File \"e:\\ml project\\capstone\\.venv\\lib\\site-packages\\IPython\\core\\interactiveshell.py\", line 3505, in run_code\n",
            "  File \"C:\\Users\\palla\\AppData\\Local\\Temp\\ipykernel_18976\\1348268549.py\", line 1, in <module>\n",
            "    pickle.dump(log,open('logmodel.pkl','wb'))\n",
            "NameError: name 'log' is not defined\n",
            "\n",
            "During handling of the above exception, another exception occurred:\n",
            "\n",
            "Traceback (most recent call last):\n",
            "  File \"e:\\ml project\\capstone\\.venv\\lib\\site-packages\\pygments\\styles\\__init__.py\", line 82, in get_style_by_name\n",
            "ModuleNotFoundError: No module named 'pygments.styles.default'\n",
            "\n",
            "During handling of the above exception, another exception occurred:\n",
            "\n",
            "Traceback (most recent call last):\n",
            "  File \"e:\\ml project\\capstone\\.venv\\lib\\site-packages\\IPython\\core\\interactiveshell.py\", line 2102, in showtraceback\n",
            "  File \"e:\\ml project\\capstone\\.venv\\lib\\site-packages\\IPython\\core\\ultratb.py\", line 1310, in structured_traceback\n",
            "  File \"e:\\ml project\\capstone\\.venv\\lib\\site-packages\\IPython\\core\\ultratb.py\", line 1199, in structured_traceback\n",
            "  File \"e:\\ml project\\capstone\\.venv\\lib\\site-packages\\IPython\\core\\ultratb.py\", line 1052, in structured_traceback\n",
            "  File \"e:\\ml project\\capstone\\.venv\\lib\\site-packages\\IPython\\core\\ultratb.py\", line 953, in format_exception_as_a_whole\n",
            "  File \"e:\\ml project\\capstone\\.venv\\lib\\site-packages\\IPython\\core\\ultratb.py\", line 1004, in get_records\n",
            "  File \"e:\\ml project\\capstone\\.venv\\lib\\site-packages\\pygments\\styles\\__init__.py\", line 84, in get_style_by_name\n",
            "pygments.util.ClassNotFound: Could not find style module 'default', though it should be builtin.\n"
          ]
        }
      ],
      "source": [
        "pickle.dump(log,open('logmodel.pkl','wb'))"
      ]
    },
    {
      "cell_type": "code",
      "execution_count": 51,
      "id": "SzupADLka0Gt",
      "metadata": {
        "id": "SzupADLka0Gt"
      },
      "outputs": [
        {
          "name": "stdout",
          "output_type": "stream",
          "text": [
            "Unexpected exception formatting exception. Falling back to standard exception\n"
          ]
        },
        {
          "name": "stderr",
          "output_type": "stream",
          "text": [
            "Traceback (most recent call last):\n",
            "  File \"e:\\ml project\\capstone\\.venv\\lib\\site-packages\\IPython\\core\\interactiveshell.py\", line 3505, in run_code\n",
            "  File \"C:\\Users\\palla\\AppData\\Local\\Temp\\ipykernel_18976\\1365777766.py\", line 1, in <module>\n",
            "    pickled_model=pickle.load(open('logmodel.pkl','rb'))\n",
            "ModuleNotFoundError: No module named 'sklearn'\n",
            "\n",
            "During handling of the above exception, another exception occurred:\n",
            "\n",
            "Traceback (most recent call last):\n",
            "  File \"e:\\ml project\\capstone\\.venv\\lib\\site-packages\\pygments\\styles\\__init__.py\", line 82, in get_style_by_name\n",
            "ModuleNotFoundError: No module named 'pygments.styles.default'\n",
            "\n",
            "During handling of the above exception, another exception occurred:\n",
            "\n",
            "Traceback (most recent call last):\n",
            "  File \"e:\\ml project\\capstone\\.venv\\lib\\site-packages\\IPython\\core\\interactiveshell.py\", line 2102, in showtraceback\n",
            "  File \"e:\\ml project\\capstone\\.venv\\lib\\site-packages\\IPython\\core\\ultratb.py\", line 1310, in structured_traceback\n",
            "  File \"e:\\ml project\\capstone\\.venv\\lib\\site-packages\\IPython\\core\\ultratb.py\", line 1199, in structured_traceback\n",
            "  File \"e:\\ml project\\capstone\\.venv\\lib\\site-packages\\IPython\\core\\ultratb.py\", line 1052, in structured_traceback\n",
            "  File \"e:\\ml project\\capstone\\.venv\\lib\\site-packages\\IPython\\core\\ultratb.py\", line 953, in format_exception_as_a_whole\n",
            "  File \"e:\\ml project\\capstone\\.venv\\lib\\site-packages\\IPython\\core\\ultratb.py\", line 1004, in get_records\n",
            "  File \"e:\\ml project\\capstone\\.venv\\lib\\site-packages\\pygments\\styles\\__init__.py\", line 84, in get_style_by_name\n",
            "pygments.util.ClassNotFound: Could not find style module 'default', though it should be builtin.\n"
          ]
        }
      ],
      "source": [
        "pickled_model=pickle.load(open('logmodel.pkl','rb'))"
      ]
    },
    {
      "cell_type": "code",
      "execution_count": null,
      "id": "lfvUhab8bF-s",
      "metadata": {
        "id": "lfvUhab8bF-s"
      },
      "outputs": [],
      "source": []
    }
  ],
  "metadata": {
    "colab": {
      "provenance": []
    },
    "kernelspec": {
      "display_name": "Python 3",
      "language": "python",
      "name": "python3"
    },
    "language_info": {
      "codemirror_mode": {
        "name": "ipython",
        "version": 3
      },
      "file_extension": ".py",
      "mimetype": "text/x-python",
      "name": "python",
      "nbconvert_exporter": "python",
      "pygments_lexer": "ipython3",
      "version": "3.9.13"
    }
  },
  "nbformat": 4,
  "nbformat_minor": 5
}
